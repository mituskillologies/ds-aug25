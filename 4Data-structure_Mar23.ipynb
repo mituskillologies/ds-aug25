{
 "cells": [
  {
   "cell_type": "markdown",
   "id": "505c33c0-bfa2-49ec-a4e5-86c31e232323",
   "metadata": {},
   "source": [
    "# list"
   ]
  },
  {
   "cell_type": "code",
   "execution_count": 2,
   "id": "b5036925-075c-44d3-abfb-f51e601ab366",
   "metadata": {},
   "outputs": [],
   "source": [
    "l = [10, 39, 54, 20, 29]"
   ]
  },
  {
   "cell_type": "code",
   "execution_count": 4,
   "id": "79d95b26-f70e-4a66-b419-36be0f03a1f4",
   "metadata": {},
   "outputs": [
    {
     "name": "stdout",
     "output_type": "stream",
     "text": [
      "[10, 39, 54, 20, 29]\n"
     ]
    }
   ],
   "source": [
    "print(l)"
   ]
  },
  {
   "cell_type": "code",
   "execution_count": 6,
   "id": "33f908c1-925c-4848-9b5f-65d61d54a4c0",
   "metadata": {},
   "outputs": [
    {
     "data": {
      "text/plain": [
       "list"
      ]
     },
     "execution_count": 6,
     "metadata": {},
     "output_type": "execute_result"
    }
   ],
   "source": [
    "type(l)"
   ]
  },
  {
   "cell_type": "code",
   "execution_count": 8,
   "id": "2b19f73b-ab05-41bd-bc91-cf916d03c84e",
   "metadata": {},
   "outputs": [],
   "source": [
    "l = [10, 10, 34, 25, 10, 67]"
   ]
  },
  {
   "cell_type": "code",
   "execution_count": 14,
   "id": "47abeeb5-8c9b-4e25-a1e3-9e10cd817ec5",
   "metadata": {},
   "outputs": [
    {
     "data": {
      "text/plain": [
       "[10, 10, 34, 25, 10, 67]"
      ]
     },
     "execution_count": 14,
     "metadata": {},
     "output_type": "execute_result"
    }
   ],
   "source": [
    "l  # duplicate are allowed"
   ]
  },
  {
   "cell_type": "code",
   "execution_count": 16,
   "id": "ba918f6e-b9b3-40fe-aae6-b048f3e04688",
   "metadata": {},
   "outputs": [],
   "source": [
    "# hetero\n",
    "\n",
    "l1 = [10, 20, 33.33, \"Riya\", True]"
   ]
  },
  {
   "cell_type": "code",
   "execution_count": 18,
   "id": "57a66a8e-59b3-46e4-ba4f-63bf0aa441a2",
   "metadata": {},
   "outputs": [
    {
     "data": {
      "text/plain": [
       "[10, 20, 33.33, 'Riya', True]"
      ]
     },
     "execution_count": 18,
     "metadata": {},
     "output_type": "execute_result"
    }
   ],
   "source": [
    "l1"
   ]
  },
  {
   "cell_type": "code",
   "execution_count": 20,
   "id": "a3e218de-b89e-462a-a420-93795155de19",
   "metadata": {},
   "outputs": [],
   "source": [
    "# access the values"
   ]
  },
  {
   "cell_type": "code",
   "execution_count": 24,
   "id": "6182dc07-10f7-44de-bbbf-6cf877f94699",
   "metadata": {},
   "outputs": [
    {
     "data": {
      "text/plain": [
       "[10, 10, 34, 25, 10, 67]"
      ]
     },
     "execution_count": 24,
     "metadata": {},
     "output_type": "execute_result"
    }
   ],
   "source": [
    "l  # lists are ordered"
   ]
  },
  {
   "cell_type": "code",
   "execution_count": 26,
   "id": "fe043984-1e13-4773-b4e6-ba806c17c558",
   "metadata": {},
   "outputs": [
    {
     "data": {
      "text/plain": [
       "10"
      ]
     },
     "execution_count": 26,
     "metadata": {},
     "output_type": "execute_result"
    }
   ],
   "source": [
    "l[0]"
   ]
  },
  {
   "cell_type": "code",
   "execution_count": 28,
   "id": "32f956dc-6090-4f48-bbd5-6381057fd441",
   "metadata": {},
   "outputs": [
    {
     "data": {
      "text/plain": [
       "25"
      ]
     },
     "execution_count": 28,
     "metadata": {},
     "output_type": "execute_result"
    }
   ],
   "source": [
    "l[3]"
   ]
  },
  {
   "cell_type": "code",
   "execution_count": 30,
   "id": "aafe6e4a-8e05-409c-8a28-dc144ef88495",
   "metadata": {},
   "outputs": [
    {
     "data": {
      "text/plain": [
       "67"
      ]
     },
     "execution_count": 30,
     "metadata": {},
     "output_type": "execute_result"
    }
   ],
   "source": [
    "l[-1]"
   ]
  },
  {
   "cell_type": "code",
   "execution_count": 32,
   "id": "aaf8e435-3830-4fe0-8720-678276aa2043",
   "metadata": {},
   "outputs": [],
   "source": [
    "# changing the data -> mutable\n",
    "\n",
    "l[1] = 39"
   ]
  },
  {
   "cell_type": "code",
   "execution_count": 34,
   "id": "fa28e73a-e5c4-4440-b4f1-0b7ae131e50e",
   "metadata": {},
   "outputs": [
    {
     "data": {
      "text/plain": [
       "[10, 39, 34, 25, 10, 67]"
      ]
     },
     "execution_count": 34,
     "metadata": {},
     "output_type": "execute_result"
    }
   ],
   "source": [
    "l"
   ]
  },
  {
   "cell_type": "code",
   "execution_count": 36,
   "id": "ca5bcf33-5ad0-4cf4-bea1-073d507044e5",
   "metadata": {},
   "outputs": [],
   "source": [
    "l[-2] = 57"
   ]
  },
  {
   "cell_type": "code",
   "execution_count": 38,
   "id": "4cf28d26-2e46-480a-bd7d-d48eb43606c3",
   "metadata": {},
   "outputs": [
    {
     "data": {
      "text/plain": [
       "[10, 39, 34, 25, 57, 67]"
      ]
     },
     "execution_count": 38,
     "metadata": {},
     "output_type": "execute_result"
    }
   ],
   "source": [
    "l"
   ]
  },
  {
   "cell_type": "code",
   "execution_count": 40,
   "id": "e223b33f-5e69-4fd7-9aa0-ee77fc94b4b4",
   "metadata": {},
   "outputs": [],
   "source": [
    "# list slicing"
   ]
  },
  {
   "cell_type": "code",
   "execution_count": 42,
   "id": "1f9f38f1-205b-4083-8d75-c34a9a5c23f8",
   "metadata": {},
   "outputs": [
    {
     "data": {
      "text/plain": [
       "[39, 34, 25]"
      ]
     },
     "execution_count": 42,
     "metadata": {},
     "output_type": "execute_result"
    }
   ],
   "source": [
    "l[1:4]"
   ]
  },
  {
   "cell_type": "code",
   "execution_count": 46,
   "id": "95e5b330-2686-427a-ba73-00c04f89aec4",
   "metadata": {},
   "outputs": [
    {
     "data": {
      "text/plain": [
       "[10, 39, 34, 25, 57]"
      ]
     },
     "execution_count": 46,
     "metadata": {},
     "output_type": "execute_result"
    }
   ],
   "source": [
    "l[:5]"
   ]
  },
  {
   "cell_type": "code",
   "execution_count": 48,
   "id": "77dc8e8c-c871-48da-bffc-0316608f48cb",
   "metadata": {},
   "outputs": [
    {
     "data": {
      "text/plain": [
       "[25, 57, 67]"
      ]
     },
     "execution_count": 48,
     "metadata": {},
     "output_type": "execute_result"
    }
   ],
   "source": [
    "l[3:]"
   ]
  },
  {
   "cell_type": "code",
   "execution_count": 50,
   "id": "e29e676d-7ede-4195-a6c5-e3500e81f1de",
   "metadata": {},
   "outputs": [
    {
     "data": {
      "text/plain": [
       "[10, 39, 34]"
      ]
     },
     "execution_count": 50,
     "metadata": {},
     "output_type": "execute_result"
    }
   ],
   "source": [
    "l[:-3]"
   ]
  },
  {
   "cell_type": "code",
   "execution_count": 52,
   "id": "b023a203-f83a-4931-a9d6-efcfe542c39d",
   "metadata": {},
   "outputs": [],
   "source": [
    "l = [34, 56, 40, 41, 63, 78, 91]"
   ]
  },
  {
   "cell_type": "code",
   "execution_count": 56,
   "id": "a4883649-a4c6-4611-9b5e-0833882ae539",
   "metadata": {},
   "outputs": [
    {
     "data": {
      "text/plain": [
       "[34, 40, 63, 91]"
      ]
     },
     "execution_count": 56,
     "metadata": {},
     "output_type": "execute_result"
    }
   ],
   "source": [
    "l[::2]"
   ]
  },
  {
   "cell_type": "code",
   "execution_count": 58,
   "id": "54825a1a-ee59-4f7a-b30b-fd24fa317bb9",
   "metadata": {},
   "outputs": [],
   "source": [
    "x = l[::2]"
   ]
  },
  {
   "cell_type": "code",
   "execution_count": 60,
   "id": "8e315485-d473-44ff-909c-afd45685df96",
   "metadata": {},
   "outputs": [
    {
     "data": {
      "text/plain": [
       "[34, 40, 63, 91]"
      ]
     },
     "execution_count": 60,
     "metadata": {},
     "output_type": "execute_result"
    }
   ],
   "source": [
    "x"
   ]
  },
  {
   "cell_type": "code",
   "execution_count": 64,
   "id": "41b1055d-ffc0-459c-abb2-d58a5e846687",
   "metadata": {},
   "outputs": [],
   "source": [
    "l[1:4] = [100, 101, 102]"
   ]
  },
  {
   "cell_type": "code",
   "execution_count": 66,
   "id": "7146543c-8eca-4573-95fb-2be7355d589b",
   "metadata": {},
   "outputs": [
    {
     "data": {
      "text/plain": [
       "[34, 100, 101, 102, 63, 78, 91]"
      ]
     },
     "execution_count": 66,
     "metadata": {},
     "output_type": "execute_result"
    }
   ],
   "source": [
    "l"
   ]
  },
  {
   "cell_type": "code",
   "execution_count": 68,
   "id": "cf308fd9-7b04-4124-9f21-fc9a9761d1a0",
   "metadata": {},
   "outputs": [],
   "source": [
    "# delete the data"
   ]
  },
  {
   "cell_type": "code",
   "execution_count": 70,
   "id": "e77725dd-8e0f-4811-87a3-008cd12e7696",
   "metadata": {},
   "outputs": [],
   "source": [
    "del l[1]"
   ]
  },
  {
   "cell_type": "code",
   "execution_count": 72,
   "id": "272a4f11-9f00-4693-96b9-fdfee0baf5d3",
   "metadata": {},
   "outputs": [
    {
     "data": {
      "text/plain": [
       "[34, 101, 102, 63, 78, 91]"
      ]
     },
     "execution_count": 72,
     "metadata": {},
     "output_type": "execute_result"
    }
   ],
   "source": [
    "l"
   ]
  },
  {
   "cell_type": "code",
   "execution_count": 74,
   "id": "7e12348b-4e82-4004-8df5-bd028ebda1c2",
   "metadata": {},
   "outputs": [],
   "source": [
    "del l"
   ]
  },
  {
   "cell_type": "code",
   "execution_count": 76,
   "id": "bfaabd8e-7098-42e0-9fc2-b88b8677dedb",
   "metadata": {},
   "outputs": [
    {
     "ename": "NameError",
     "evalue": "name 'l' is not defined",
     "output_type": "error",
     "traceback": [
      "\u001b[1;31m---------------------------------------------------------------------------\u001b[0m",
      "\u001b[1;31mNameError\u001b[0m                                 Traceback (most recent call last)",
      "Cell \u001b[1;32mIn[76], line 1\u001b[0m\n\u001b[1;32m----> 1\u001b[0m \u001b[43ml\u001b[49m\n",
      "\u001b[1;31mNameError\u001b[0m: name 'l' is not defined"
     ]
    }
   ],
   "source": [
    "l"
   ]
  },
  {
   "cell_type": "code",
   "execution_count": 78,
   "id": "00b6acb8-9ba7-4c6f-bd51-741c739216c3",
   "metadata": {},
   "outputs": [],
   "source": [
    "# in operator"
   ]
  },
  {
   "cell_type": "code",
   "execution_count": 80,
   "id": "32b05437-b038-4617-b17c-6c2b85916c17",
   "metadata": {},
   "outputs": [],
   "source": [
    "l = [21, 34, 45, 22, 90]"
   ]
  },
  {
   "cell_type": "code",
   "execution_count": 82,
   "id": "7ab7589c-2a76-4060-954e-079c14c66278",
   "metadata": {},
   "outputs": [
    {
     "data": {
      "text/plain": [
       "True"
      ]
     },
     "execution_count": 82,
     "metadata": {},
     "output_type": "execute_result"
    }
   ],
   "source": [
    "34 in l"
   ]
  },
  {
   "cell_type": "code",
   "execution_count": 84,
   "id": "7fd3f5b8-82f2-4be7-af83-1e7131b8712a",
   "metadata": {},
   "outputs": [
    {
     "data": {
      "text/plain": [
       "False"
      ]
     },
     "execution_count": 84,
     "metadata": {},
     "output_type": "execute_result"
    }
   ],
   "source": [
    "100 in l"
   ]
  },
  {
   "cell_type": "code",
   "execution_count": 86,
   "id": "0f0d0e05-3f47-48ad-a25a-b135966b0d7a",
   "metadata": {},
   "outputs": [],
   "source": [
    "# arithmetic operator"
   ]
  },
  {
   "cell_type": "code",
   "execution_count": 88,
   "id": "50a3c078-bffd-4348-8a6c-2c0233a89c43",
   "metadata": {},
   "outputs": [
    {
     "data": {
      "text/plain": [
       "[21, 34, 45, 22, 90]"
      ]
     },
     "execution_count": 88,
     "metadata": {},
     "output_type": "execute_result"
    }
   ],
   "source": [
    "l"
   ]
  },
  {
   "cell_type": "code",
   "execution_count": 90,
   "id": "e9d19242-7fb0-4906-a554-5c2ed61da7a5",
   "metadata": {},
   "outputs": [
    {
     "data": {
      "text/plain": [
       "[21, 34, 45, 22, 90, 21, 34, 45, 22, 90]"
      ]
     },
     "execution_count": 90,
     "metadata": {},
     "output_type": "execute_result"
    }
   ],
   "source": [
    "l * 2"
   ]
  },
  {
   "cell_type": "code",
   "execution_count": 94,
   "id": "f6ffb6ca-ff31-4df4-a68e-05855341cfc8",
   "metadata": {},
   "outputs": [
    {
     "data": {
      "text/plain": [
       "[21, 34, 45, 22, 90, 12, 19, 30]"
      ]
     },
     "execution_count": 94,
     "metadata": {},
     "output_type": "execute_result"
    }
   ],
   "source": [
    "l + [12, 19, 30]"
   ]
  },
  {
   "cell_type": "code",
   "execution_count": 96,
   "id": "ef1fb5df-31e6-45ca-a879-1009739eafc3",
   "metadata": {},
   "outputs": [
    {
     "data": {
      "text/plain": [
       "[21, 34, 45, 22, 90]"
      ]
     },
     "execution_count": 96,
     "metadata": {},
     "output_type": "execute_result"
    }
   ],
   "source": [
    "l"
   ]
  },
  {
   "cell_type": "code",
   "execution_count": 98,
   "id": "53dc0f02-68fe-4e27-a837-b0666d58c7fd",
   "metadata": {},
   "outputs": [],
   "source": [
    "# iterating over a list"
   ]
  },
  {
   "cell_type": "code",
   "execution_count": 102,
   "id": "b68962e6-22ce-423f-a527-a085302dc7b9",
   "metadata": {},
   "outputs": [
    {
     "name": "stdout",
     "output_type": "stream",
     "text": [
      "21 34 45 22 90 "
     ]
    }
   ],
   "source": [
    "for n in l:\n",
    "    print(n, end =' ')"
   ]
  },
  {
   "cell_type": "code",
   "execution_count": 104,
   "id": "73f1c0ba-c391-48b5-89a4-a3e3879e8d36",
   "metadata": {},
   "outputs": [
    {
     "name": "stdout",
     "output_type": "stream",
     "text": [
      "21\n",
      "45\n"
     ]
    }
   ],
   "source": [
    "# write a program to print only odd numbers from the list l\n",
    "\n",
    "for i in l:\n",
    "    if i % 2 == 1:\n",
    "        print(i)"
   ]
  },
  {
   "cell_type": "markdown",
   "id": "5825871e-4049-4565-b783-2fd0db081728",
   "metadata": {},
   "source": [
    " #### list comprehension"
   ]
  },
  {
   "cell_type": "code",
   "execution_count": 107,
   "id": "3da32147-d0b4-4249-99e3-f1380afd95a3",
   "metadata": {},
   "outputs": [
    {
     "data": {
      "text/plain": [
       "[21, 34, 45, 22, 90]"
      ]
     },
     "execution_count": 107,
     "metadata": {},
     "output_type": "execute_result"
    }
   ],
   "source": [
    "l"
   ]
  },
  {
   "cell_type": "code",
   "execution_count": 109,
   "id": "e9abef9d-116e-4f09-99f5-1d5a58a603cf",
   "metadata": {},
   "outputs": [],
   "source": [
    "# map"
   ]
  },
  {
   "cell_type": "code",
   "execution_count": 111,
   "id": "bb0f225d-704c-4ea0-b8b3-e8ac3ab494f1",
   "metadata": {},
   "outputs": [],
   "source": [
    "a = [n**2 for n in l]"
   ]
  },
  {
   "cell_type": "code",
   "execution_count": 113,
   "id": "5d944049-c7ca-4f20-b60f-a78c1be84763",
   "metadata": {},
   "outputs": [
    {
     "data": {
      "text/plain": [
       "[441, 1156, 2025, 484, 8100]"
      ]
     },
     "execution_count": 113,
     "metadata": {},
     "output_type": "execute_result"
    }
   ],
   "source": [
    "a"
   ]
  },
  {
   "cell_type": "code",
   "execution_count": 117,
   "id": "9325015a-35da-45bf-94f8-ecff04bc2a25",
   "metadata": {},
   "outputs": [
    {
     "data": {
      "text/plain": [
       "[26, 39, 50, 27, 95]"
      ]
     },
     "execution_count": 117,
     "metadata": {},
     "output_type": "execute_result"
    }
   ],
   "source": [
    "# add 5 to all the elements\n",
    "\n",
    "[i+5 for i in l]"
   ]
  },
  {
   "cell_type": "code",
   "execution_count": 119,
   "id": "2301214a-c44d-4417-a3a4-687cd9dd7622",
   "metadata": {},
   "outputs": [],
   "source": [
    "# filter"
   ]
  },
  {
   "cell_type": "code",
   "execution_count": 125,
   "id": "085c3256-958c-43d7-89ea-445d4b838558",
   "metadata": {},
   "outputs": [
    {
     "data": {
      "text/plain": [
       "[21, 34, 45, 22, 90]"
      ]
     },
     "execution_count": 125,
     "metadata": {},
     "output_type": "execute_result"
    }
   ],
   "source": [
    "l"
   ]
  },
  {
   "cell_type": "code",
   "execution_count": 121,
   "id": "e4f2c07b-b391-4e31-a560-aa1f53070907",
   "metadata": {},
   "outputs": [],
   "source": [
    "b = [i for i in l if i > 25]"
   ]
  },
  {
   "cell_type": "code",
   "execution_count": 123,
   "id": "006d292d-3e6d-41ae-a788-c584a9d3f420",
   "metadata": {},
   "outputs": [
    {
     "data": {
      "text/plain": [
       "[34, 45, 90]"
      ]
     },
     "execution_count": 123,
     "metadata": {},
     "output_type": "execute_result"
    }
   ],
   "source": [
    "b"
   ]
  },
  {
   "cell_type": "code",
   "execution_count": 127,
   "id": "743c09f0-016a-4990-9fce-3f605932cff3",
   "metadata": {},
   "outputs": [],
   "source": [
    "# apply list comprehension and create a new list containing the names starting from 'r'\n",
    "\n",
    "names = [\"riya\", \"Rajan\", \"Aman\", \"amrita\", \"raghav\"]"
   ]
  },
  {
   "cell_type": "code",
   "execution_count": 131,
   "id": "67122dc2-32fc-45fe-9b7b-a0a8a43ed9ba",
   "metadata": {},
   "outputs": [],
   "source": [
    "new = [n for n in names if n.lower().startswith('r')]"
   ]
  },
  {
   "cell_type": "code",
   "execution_count": 133,
   "id": "b9d93734-c632-400f-93fa-12e112bcc869",
   "metadata": {},
   "outputs": [
    {
     "data": {
      "text/plain": [
       "['riya', 'Rajan', 'raghav']"
      ]
     },
     "execution_count": 133,
     "metadata": {},
     "output_type": "execute_result"
    }
   ],
   "source": [
    "new"
   ]
  },
  {
   "cell_type": "code",
   "execution_count": 135,
   "id": "daf59141-50a6-41d9-91c6-e1749e6d071e",
   "metadata": {},
   "outputs": [],
   "source": [
    "# list decomposition"
   ]
  },
  {
   "cell_type": "code",
   "execution_count": 137,
   "id": "5ad61d14-e45d-4e96-aaa6-b07208b50451",
   "metadata": {},
   "outputs": [],
   "source": [
    "l = [11, 12, 13]"
   ]
  },
  {
   "cell_type": "code",
   "execution_count": 139,
   "id": "89e39483-dcdc-4d66-bbf5-adda55b404aa",
   "metadata": {},
   "outputs": [],
   "source": [
    "x, y, z = l"
   ]
  },
  {
   "cell_type": "code",
   "execution_count": 143,
   "id": "7048f772-13e0-4167-935e-0b917a381199",
   "metadata": {},
   "outputs": [
    {
     "data": {
      "text/plain": [
       "(11, 12, 13)"
      ]
     },
     "execution_count": 143,
     "metadata": {},
     "output_type": "execute_result"
    }
   ],
   "source": [
    "x, y, z"
   ]
  },
  {
   "cell_type": "code",
   "execution_count": 145,
   "id": "82535fbb-999f-470e-bfe8-b9d688995ae6",
   "metadata": {},
   "outputs": [],
   "source": [
    "# empty list"
   ]
  },
  {
   "cell_type": "code",
   "execution_count": 147,
   "id": "f162d3fd-e650-463a-b9ba-72c80685de4c",
   "metadata": {},
   "outputs": [],
   "source": [
    "e = []"
   ]
  },
  {
   "cell_type": "code",
   "execution_count": 149,
   "id": "22465396-7d7c-4a4e-b2c3-35b5cdb0e536",
   "metadata": {},
   "outputs": [
    {
     "data": {
      "text/plain": [
       "list"
      ]
     },
     "execution_count": 149,
     "metadata": {},
     "output_type": "execute_result"
    }
   ],
   "source": [
    "type(e)"
   ]
  },
  {
   "cell_type": "code",
   "execution_count": 151,
   "id": "37568f95-c56c-4edb-add8-0796df5892b6",
   "metadata": {},
   "outputs": [
    {
     "ename": "IndexError",
     "evalue": "list index out of range",
     "output_type": "error",
     "traceback": [
      "\u001b[1;31m---------------------------------------------------------------------------\u001b[0m",
      "\u001b[1;31mIndexError\u001b[0m                                Traceback (most recent call last)",
      "Cell \u001b[1;32mIn[151], line 1\u001b[0m\n\u001b[1;32m----> 1\u001b[0m \u001b[43me\u001b[49m\u001b[43m[\u001b[49m\u001b[38;5;241;43m0\u001b[39;49m\u001b[43m]\u001b[49m\n",
      "\u001b[1;31mIndexError\u001b[0m: list index out of range"
     ]
    }
   ],
   "source": [
    "e[0]"
   ]
  },
  {
   "cell_type": "code",
   "execution_count": 155,
   "id": "f76049f7-48e3-4a71-9c59-485e120ae55e",
   "metadata": {},
   "outputs": [
    {
     "data": {
      "text/plain": [
       "[4]"
      ]
     },
     "execution_count": 155,
     "metadata": {},
     "output_type": "execute_result"
    }
   ],
   "source": [
    "e = e + [4]\n",
    "e"
   ]
  },
  {
   "cell_type": "markdown",
   "id": "fefd99cb-5006-408c-8527-1d975aa3d260",
   "metadata": {},
   "source": [
    "#### functions"
   ]
  },
  {
   "cell_type": "code",
   "execution_count": 158,
   "id": "534ef344-816d-455b-a0d2-681d1037887b",
   "metadata": {},
   "outputs": [
    {
     "data": {
      "text/plain": [
       "[11, 12, 13]"
      ]
     },
     "execution_count": 158,
     "metadata": {},
     "output_type": "execute_result"
    }
   ],
   "source": [
    "l"
   ]
  },
  {
   "cell_type": "code",
   "execution_count": 160,
   "id": "0384915c-cb0d-4370-a308-f9f49feeea86",
   "metadata": {},
   "outputs": [
    {
     "data": {
      "text/plain": [
       "3"
      ]
     },
     "execution_count": 160,
     "metadata": {},
     "output_type": "execute_result"
    }
   ],
   "source": [
    "len(l)"
   ]
  },
  {
   "cell_type": "code",
   "execution_count": 162,
   "id": "fa8a5749-6f76-467a-8216-6b2b5af4306a",
   "metadata": {},
   "outputs": [
    {
     "data": {
      "text/plain": [
       "13"
      ]
     },
     "execution_count": 162,
     "metadata": {},
     "output_type": "execute_result"
    }
   ],
   "source": [
    "max(l)"
   ]
  },
  {
   "cell_type": "code",
   "execution_count": 164,
   "id": "e807eb57-21b9-4be6-b2e6-b36293f2979a",
   "metadata": {},
   "outputs": [
    {
     "data": {
      "text/plain": [
       "11"
      ]
     },
     "execution_count": 164,
     "metadata": {},
     "output_type": "execute_result"
    }
   ],
   "source": [
    "min(l)"
   ]
  },
  {
   "cell_type": "code",
   "execution_count": 166,
   "id": "9350ed86-566a-4171-b8b0-5184200d6b36",
   "metadata": {},
   "outputs": [
    {
     "data": {
      "text/plain": [
       "[11, 12, 13]"
      ]
     },
     "execution_count": 166,
     "metadata": {},
     "output_type": "execute_result"
    }
   ],
   "source": [
    "sorted(l)"
   ]
  },
  {
   "cell_type": "code",
   "execution_count": 168,
   "id": "b5adf126-5425-48ab-bb38-ce2bb4763602",
   "metadata": {},
   "outputs": [
    {
     "data": {
      "text/plain": [
       "[13, 12, 11]"
      ]
     },
     "execution_count": 168,
     "metadata": {},
     "output_type": "execute_result"
    }
   ],
   "source": [
    "sorted(l, reverse = True)"
   ]
  },
  {
   "cell_type": "code",
   "execution_count": 170,
   "id": "a01ec18f-574f-491f-94f6-feadc7be82ff",
   "metadata": {},
   "outputs": [
    {
     "data": {
      "text/plain": [
       "['A', 'j', 'i', 'n', 'k', 'y', 'a']"
      ]
     },
     "execution_count": 170,
     "metadata": {},
     "output_type": "execute_result"
    }
   ],
   "source": [
    "name = \"Ajinkya\"\n",
    "list(name)"
   ]
  },
  {
   "cell_type": "code",
   "execution_count": 172,
   "id": "3b5b52d2-c114-4bdd-b358-c2ffbe4b8e5c",
   "metadata": {},
   "outputs": [],
   "source": [
    "# methods on list"
   ]
  },
  {
   "cell_type": "code",
   "execution_count": 174,
   "id": "28f86b7e-3673-43a5-a607-17ed6f751ba0",
   "metadata": {},
   "outputs": [
    {
     "data": {
      "text/plain": [
       "[11, 12, 13]"
      ]
     },
     "execution_count": 174,
     "metadata": {},
     "output_type": "execute_result"
    }
   ],
   "source": [
    "l"
   ]
  },
  {
   "cell_type": "code",
   "execution_count": 176,
   "id": "62766dfc-6cf8-473d-8c42-0be7dd38ead5",
   "metadata": {},
   "outputs": [],
   "source": [
    "# add an element at the end\n",
    "\n",
    "l.append(100)"
   ]
  },
  {
   "cell_type": "code",
   "execution_count": 178,
   "id": "93d143d8-2bf7-4da7-a6a4-1dfd3470b806",
   "metadata": {},
   "outputs": [
    {
     "data": {
      "text/plain": [
       "[11, 12, 13, 100]"
      ]
     },
     "execution_count": 178,
     "metadata": {},
     "output_type": "execute_result"
    }
   ],
   "source": [
    "l"
   ]
  },
  {
   "cell_type": "code",
   "execution_count": 180,
   "id": "b80a2b52-9b86-4d3f-aae9-57ddc4f63705",
   "metadata": {},
   "outputs": [],
   "source": [
    "# append and extend"
   ]
  },
  {
   "cell_type": "code",
   "execution_count": 182,
   "id": "0ac4b126-728e-496f-998e-027d7474f098",
   "metadata": {},
   "outputs": [],
   "source": [
    "l1 = [1,2,3]\n",
    "l2 = [1,2,3]"
   ]
  },
  {
   "cell_type": "code",
   "execution_count": 184,
   "id": "6c080714-eb68-412d-983f-738b66861bc7",
   "metadata": {},
   "outputs": [],
   "source": [
    "l1.append([11, 12])\n",
    "l2.extend([11,12])"
   ]
  },
  {
   "cell_type": "code",
   "execution_count": 186,
   "id": "aa57ade7-ce9f-4881-a569-940f39b39d9f",
   "metadata": {},
   "outputs": [
    {
     "data": {
      "text/plain": [
       "[1, 2, 3, [11, 12]]"
      ]
     },
     "execution_count": 186,
     "metadata": {},
     "output_type": "execute_result"
    }
   ],
   "source": [
    "l1"
   ]
  },
  {
   "cell_type": "code",
   "execution_count": 188,
   "id": "f3c94dbc-006c-435e-bfad-041b75d46cb5",
   "metadata": {},
   "outputs": [
    {
     "data": {
      "text/plain": [
       "[1, 2, 3, 11, 12]"
      ]
     },
     "execution_count": 188,
     "metadata": {},
     "output_type": "execute_result"
    }
   ],
   "source": [
    "l2"
   ]
  },
  {
   "cell_type": "code",
   "execution_count": 190,
   "id": "d115f675-b611-41c6-b9d2-e91f215fd90f",
   "metadata": {},
   "outputs": [
    {
     "data": {
      "text/plain": [
       "[11, 12]"
      ]
     },
     "execution_count": 190,
     "metadata": {},
     "output_type": "execute_result"
    }
   ],
   "source": [
    "l1[3]"
   ]
  },
  {
   "cell_type": "code",
   "execution_count": 194,
   "id": "02acee71-b59e-4526-bbc7-e9b5a4e7455a",
   "metadata": {},
   "outputs": [
    {
     "data": {
      "text/plain": [
       "12"
      ]
     },
     "execution_count": 194,
     "metadata": {},
     "output_type": "execute_result"
    }
   ],
   "source": [
    "l1[3][1]"
   ]
  },
  {
   "cell_type": "code",
   "execution_count": 196,
   "id": "68412546-3d5a-45c8-a078-a42e5287f177",
   "metadata": {},
   "outputs": [
    {
     "data": {
      "text/plain": [
       "[11, 12, 13, 100]"
      ]
     },
     "execution_count": 196,
     "metadata": {},
     "output_type": "execute_result"
    }
   ],
   "source": [
    "# insert\n",
    "l"
   ]
  },
  {
   "cell_type": "code",
   "execution_count": 198,
   "id": "cce45a00-e36e-454e-9684-aa76c455bbfb",
   "metadata": {},
   "outputs": [],
   "source": [
    "l.insert(2, 621)"
   ]
  },
  {
   "cell_type": "code",
   "execution_count": 200,
   "id": "ecc22f7a-b4e1-4af2-b800-2f7dcdb9eb24",
   "metadata": {},
   "outputs": [
    {
     "data": {
      "text/plain": [
       "[11, 12, 621, 13, 100]"
      ]
     },
     "execution_count": 200,
     "metadata": {},
     "output_type": "execute_result"
    }
   ],
   "source": [
    "l"
   ]
  },
  {
   "cell_type": "code",
   "execution_count": 202,
   "id": "ce49199e-753b-4d9c-85d2-94d11eed184d",
   "metadata": {},
   "outputs": [],
   "source": [
    "# remove\n",
    "\n",
    "l.remove(13)"
   ]
  },
  {
   "cell_type": "code",
   "execution_count": 204,
   "id": "f364ec20-b003-47cb-9a15-c22c8d806619",
   "metadata": {},
   "outputs": [
    {
     "data": {
      "text/plain": [
       "[11, 12, 621, 100]"
      ]
     },
     "execution_count": 204,
     "metadata": {},
     "output_type": "execute_result"
    }
   ],
   "source": [
    "l"
   ]
  },
  {
   "cell_type": "code",
   "execution_count": 206,
   "id": "378968e9-eb06-4f69-9194-09aaf0283cca",
   "metadata": {},
   "outputs": [
    {
     "data": {
      "text/plain": [
       "100"
      ]
     },
     "execution_count": 206,
     "metadata": {},
     "output_type": "execute_result"
    }
   ],
   "source": [
    "# delete/ pop\n",
    "\n",
    "l.pop()"
   ]
  },
  {
   "cell_type": "code",
   "execution_count": 208,
   "id": "54aa63cd-4b65-4a42-83bf-71c36be6ebef",
   "metadata": {},
   "outputs": [
    {
     "data": {
      "text/plain": [
       "[11, 12, 621]"
      ]
     },
     "execution_count": 208,
     "metadata": {},
     "output_type": "execute_result"
    }
   ],
   "source": [
    "l"
   ]
  },
  {
   "cell_type": "code",
   "execution_count": 210,
   "id": "aab9cf59-d649-45cb-8006-cbb80a20947d",
   "metadata": {},
   "outputs": [
    {
     "data": {
      "text/plain": [
       "1"
      ]
     },
     "execution_count": 210,
     "metadata": {},
     "output_type": "execute_result"
    }
   ],
   "source": [
    "l.index(12)"
   ]
  },
  {
   "cell_type": "code",
   "execution_count": 212,
   "id": "efb886fb-15fa-4709-a844-c57dbe2dcd7c",
   "metadata": {},
   "outputs": [
    {
     "data": {
      "text/plain": [
       "1"
      ]
     },
     "execution_count": 212,
     "metadata": {},
     "output_type": "execute_result"
    }
   ],
   "source": [
    "l.count(11)"
   ]
  },
  {
   "cell_type": "code",
   "execution_count": 214,
   "id": "6eebc458-8457-4cd1-906a-d2a408b62bd0",
   "metadata": {},
   "outputs": [
    {
     "data": {
      "text/plain": [
       "[11, 12, 621]"
      ]
     },
     "execution_count": 214,
     "metadata": {},
     "output_type": "execute_result"
    }
   ],
   "source": [
    "l"
   ]
  },
  {
   "cell_type": "code",
   "execution_count": 216,
   "id": "c4a7c5c5-af58-4b90-9e33-2c3118e7ad3a",
   "metadata": {},
   "outputs": [],
   "source": [
    "l = [12, 45, 23, 67, 10]"
   ]
  },
  {
   "cell_type": "code",
   "execution_count": 218,
   "id": "2f87a3c6-7774-4da4-a244-f1a7c8d71c75",
   "metadata": {},
   "outputs": [],
   "source": [
    "l.reverse()"
   ]
  },
  {
   "cell_type": "code",
   "execution_count": 220,
   "id": "5dba8747-3c6d-4492-9c7e-ee4ac39a85a9",
   "metadata": {},
   "outputs": [
    {
     "data": {
      "text/plain": [
       "[10, 67, 23, 45, 12]"
      ]
     },
     "execution_count": 220,
     "metadata": {},
     "output_type": "execute_result"
    }
   ],
   "source": [
    "l"
   ]
  },
  {
   "cell_type": "code",
   "execution_count": 226,
   "id": "ce4d0102-19ff-4a4b-98ee-c0d5828e3a45",
   "metadata": {},
   "outputs": [],
   "source": [
    "l.sort(reverse = True)"
   ]
  },
  {
   "cell_type": "code",
   "execution_count": 228,
   "id": "a186cd15-09ea-4f14-9887-ecd7557dccd5",
   "metadata": {},
   "outputs": [
    {
     "data": {
      "text/plain": [
       "[67, 45, 23, 12, 10]"
      ]
     },
     "execution_count": 228,
     "metadata": {},
     "output_type": "execute_result"
    }
   ],
   "source": [
    "l"
   ]
  },
  {
   "cell_type": "code",
   "execution_count": 232,
   "id": "3a6f639f-ab9a-40de-8128-abe5c622b6ec",
   "metadata": {},
   "outputs": [],
   "source": [
    "l.clear()"
   ]
  },
  {
   "cell_type": "code",
   "execution_count": 234,
   "id": "c6c95bb8-d71c-4455-bb47-009fe41fe60b",
   "metadata": {},
   "outputs": [
    {
     "data": {
      "text/plain": [
       "[]"
      ]
     },
     "execution_count": 234,
     "metadata": {},
     "output_type": "execute_result"
    }
   ],
   "source": [
    "l"
   ]
  },
  {
   "cell_type": "code",
   "execution_count": 230,
   "id": "e58cce06-4e38-49cd-9af0-7ea4172b738b",
   "metadata": {},
   "outputs": [
    {
     "name": "stdout",
     "output_type": "stream",
     "text": [
      "Help on class list in module builtins:\n",
      "\n",
      "class list(object)\n",
      " |  list(iterable=(), /)\n",
      " |  \n",
      " |  Built-in mutable sequence.\n",
      " |  \n",
      " |  If no argument is given, the constructor creates a new empty list.\n",
      " |  The argument must be an iterable if specified.\n",
      " |  \n",
      " |  Methods defined here:\n",
      " |  \n",
      " |  __add__(self, value, /)\n",
      " |      Return self+value.\n",
      " |  \n",
      " |  __contains__(self, key, /)\n",
      " |      Return key in self.\n",
      " |  \n",
      " |  __delitem__(self, key, /)\n",
      " |      Delete self[key].\n",
      " |  \n",
      " |  __eq__(self, value, /)\n",
      " |      Return self==value.\n",
      " |  \n",
      " |  __ge__(self, value, /)\n",
      " |      Return self>=value.\n",
      " |  \n",
      " |  __getattribute__(self, name, /)\n",
      " |      Return getattr(self, name).\n",
      " |  \n",
      " |  __getitem__(...)\n",
      " |      x.__getitem__(y) <==> x[y]\n",
      " |  \n",
      " |  __gt__(self, value, /)\n",
      " |      Return self>value.\n",
      " |  \n",
      " |  __iadd__(self, value, /)\n",
      " |      Implement self+=value.\n",
      " |  \n",
      " |  __imul__(self, value, /)\n",
      " |      Implement self*=value.\n",
      " |  \n",
      " |  __init__(self, /, *args, **kwargs)\n",
      " |      Initialize self.  See help(type(self)) for accurate signature.\n",
      " |  \n",
      " |  __iter__(self, /)\n",
      " |      Implement iter(self).\n",
      " |  \n",
      " |  __le__(self, value, /)\n",
      " |      Return self<=value.\n",
      " |  \n",
      " |  __len__(self, /)\n",
      " |      Return len(self).\n",
      " |  \n",
      " |  __lt__(self, value, /)\n",
      " |      Return self<value.\n",
      " |  \n",
      " |  __mul__(self, value, /)\n",
      " |      Return self*value.\n",
      " |  \n",
      " |  __ne__(self, value, /)\n",
      " |      Return self!=value.\n",
      " |  \n",
      " |  __repr__(self, /)\n",
      " |      Return repr(self).\n",
      " |  \n",
      " |  __reversed__(self, /)\n",
      " |      Return a reverse iterator over the list.\n",
      " |  \n",
      " |  __rmul__(self, value, /)\n",
      " |      Return value*self.\n",
      " |  \n",
      " |  __setitem__(self, key, value, /)\n",
      " |      Set self[key] to value.\n",
      " |  \n",
      " |  __sizeof__(self, /)\n",
      " |      Return the size of the list in memory, in bytes.\n",
      " |  \n",
      " |  append(self, object, /)\n",
      " |      Append object to the end of the list.\n",
      " |  \n",
      " |  clear(self, /)\n",
      " |      Remove all items from list.\n",
      " |  \n",
      " |  copy(self, /)\n",
      " |      Return a shallow copy of the list.\n",
      " |  \n",
      " |  count(self, value, /)\n",
      " |      Return number of occurrences of value.\n",
      " |  \n",
      " |  extend(self, iterable, /)\n",
      " |      Extend list by appending elements from the iterable.\n",
      " |  \n",
      " |  index(self, value, start=0, stop=9223372036854775807, /)\n",
      " |      Return first index of value.\n",
      " |      \n",
      " |      Raises ValueError if the value is not present.\n",
      " |  \n",
      " |  insert(self, index, object, /)\n",
      " |      Insert object before index.\n",
      " |  \n",
      " |  pop(self, index=-1, /)\n",
      " |      Remove and return item at index (default last).\n",
      " |      \n",
      " |      Raises IndexError if list is empty or index is out of range.\n",
      " |  \n",
      " |  remove(self, value, /)\n",
      " |      Remove first occurrence of value.\n",
      " |      \n",
      " |      Raises ValueError if the value is not present.\n",
      " |  \n",
      " |  reverse(self, /)\n",
      " |      Reverse *IN PLACE*.\n",
      " |  \n",
      " |  sort(self, /, *, key=None, reverse=False)\n",
      " |      Sort the list in ascending order and return None.\n",
      " |      \n",
      " |      The sort is in-place (i.e. the list itself is modified) and stable (i.e. the\n",
      " |      order of two equal elements is maintained).\n",
      " |      \n",
      " |      If a key function is given, apply it once to each list item and sort them,\n",
      " |      ascending or descending, according to their function values.\n",
      " |      \n",
      " |      The reverse flag can be set to sort in descending order.\n",
      " |  \n",
      " |  ----------------------------------------------------------------------\n",
      " |  Class methods defined here:\n",
      " |  \n",
      " |  __class_getitem__(...) from builtins.type\n",
      " |      See PEP 585\n",
      " |  \n",
      " |  ----------------------------------------------------------------------\n",
      " |  Static methods defined here:\n",
      " |  \n",
      " |  __new__(*args, **kwargs) from builtins.type\n",
      " |      Create and return a new object.  See help(type) for accurate signature.\n",
      " |  \n",
      " |  ----------------------------------------------------------------------\n",
      " |  Data and other attributes defined here:\n",
      " |  \n",
      " |  __hash__ = None\n",
      "\n"
     ]
    }
   ],
   "source": [
    "help(list)"
   ]
  },
  {
   "cell_type": "markdown",
   "id": "51a097df-b50f-4eaf-9b07-79dccc1bd7b6",
   "metadata": {},
   "source": [
    "# Tuple"
   ]
  },
  {
   "cell_type": "code",
   "execution_count": 237,
   "id": "5ae2312a-b38b-4cef-b4d3-3c715bcaf44f",
   "metadata": {},
   "outputs": [],
   "source": [
    "t = (24, 45, 67, 20, 18)"
   ]
  },
  {
   "cell_type": "code",
   "execution_count": 239,
   "id": "2ca08dce-5dbf-4e43-b13e-b34d632fc30c",
   "metadata": {},
   "outputs": [
    {
     "data": {
      "text/plain": [
       "(24, 45, 67, 20, 18)"
      ]
     },
     "execution_count": 239,
     "metadata": {},
     "output_type": "execute_result"
    }
   ],
   "source": [
    "t"
   ]
  },
  {
   "cell_type": "code",
   "execution_count": 241,
   "id": "3ab7c38a-ea20-4f9e-8ada-dd822ca2c0c9",
   "metadata": {},
   "outputs": [
    {
     "data": {
      "text/plain": [
       "tuple"
      ]
     },
     "execution_count": 241,
     "metadata": {},
     "output_type": "execute_result"
    }
   ],
   "source": [
    "type(t)"
   ]
  },
  {
   "cell_type": "code",
   "execution_count": 243,
   "id": "bbed3ad0-fa7b-4910-9fa4-f38d877ac5a4",
   "metadata": {},
   "outputs": [],
   "source": [
    "t1 = (12, 34.55, \"Aditya\", True)"
   ]
  },
  {
   "cell_type": "code",
   "execution_count": 247,
   "id": "56b099f1-7518-485e-b23a-50feccce074e",
   "metadata": {},
   "outputs": [
    {
     "data": {
      "text/plain": [
       "(12, 34.55, 'Aditya', True)"
      ]
     },
     "execution_count": 247,
     "metadata": {},
     "output_type": "execute_result"
    }
   ],
   "source": [
    "t1   # hetero"
   ]
  },
  {
   "cell_type": "code",
   "execution_count": 249,
   "id": "0c56b7cc-da84-4a4b-8c2d-f6cebeea2f9e",
   "metadata": {},
   "outputs": [],
   "source": [
    "t = (24, 45, 67, 20, 18, 45)"
   ]
  },
  {
   "cell_type": "code",
   "execution_count": 253,
   "id": "289b64c2-f055-4454-95a4-667da9598df7",
   "metadata": {},
   "outputs": [
    {
     "data": {
      "text/plain": [
       "(24, 45, 67, 20, 18, 45)"
      ]
     },
     "execution_count": 253,
     "metadata": {},
     "output_type": "execute_result"
    }
   ],
   "source": [
    "t  # duplicates are allowed"
   ]
  },
  {
   "cell_type": "code",
   "execution_count": 257,
   "id": "5d6ef83e-653e-4787-8152-4274aff150b0",
   "metadata": {},
   "outputs": [
    {
     "data": {
      "text/plain": [
       "67"
      ]
     },
     "execution_count": 257,
     "metadata": {},
     "output_type": "execute_result"
    }
   ],
   "source": [
    "t[2]  # ordered"
   ]
  },
  {
   "cell_type": "code",
   "execution_count": 263,
   "id": "225fd7c5-7735-4585-bef1-97368fa2cd24",
   "metadata": {},
   "outputs": [
    {
     "ename": "TypeError",
     "evalue": "'tuple' object does not support item assignment",
     "output_type": "error",
     "traceback": [
      "\u001b[1;31m---------------------------------------------------------------------------\u001b[0m",
      "\u001b[1;31mTypeError\u001b[0m                                 Traceback (most recent call last)",
      "Cell \u001b[1;32mIn[263], line 1\u001b[0m\n\u001b[1;32m----> 1\u001b[0m \u001b[43mt\u001b[49m\u001b[43m[\u001b[49m\u001b[38;5;241;43m2\u001b[39;49m\u001b[43m]\u001b[49m \u001b[38;5;241m=\u001b[39m \u001b[38;5;241m100\u001b[39m  \u001b[38;5;66;03m# immutable\u001b[39;00m\n",
      "\u001b[1;31mTypeError\u001b[0m: 'tuple' object does not support item assignment"
     ]
    }
   ],
   "source": [
    "t[2] = 100  # immutable"
   ]
  },
  {
   "cell_type": "code",
   "execution_count": 261,
   "id": "10dc27dc-e569-4b72-90f2-fca93cb199b2",
   "metadata": {},
   "outputs": [
    {
     "ename": "TypeError",
     "evalue": "'tuple' object doesn't support item deletion",
     "output_type": "error",
     "traceback": [
      "\u001b[1;31m---------------------------------------------------------------------------\u001b[0m",
      "\u001b[1;31mTypeError\u001b[0m                                 Traceback (most recent call last)",
      "Cell \u001b[1;32mIn[261], line 1\u001b[0m\n\u001b[1;32m----> 1\u001b[0m \u001b[38;5;28;01mdel\u001b[39;00m \u001b[43mt\u001b[49m\u001b[43m[\u001b[49m\u001b[38;5;241;43m2\u001b[39;49m\u001b[43m]\u001b[49m\n",
      "\u001b[1;31mTypeError\u001b[0m: 'tuple' object doesn't support item deletion"
     ]
    }
   ],
   "source": [
    "del t[2]"
   ]
  },
  {
   "cell_type": "code",
   "execution_count": 265,
   "id": "791ab606-dcf8-4c23-af3d-fd57c64c3b07",
   "metadata": {},
   "outputs": [
    {
     "data": {
      "text/plain": [
       "(24, 45, 67, 20, 18, 45)"
      ]
     },
     "execution_count": 265,
     "metadata": {},
     "output_type": "execute_result"
    }
   ],
   "source": [
    "t"
   ]
  },
  {
   "cell_type": "code",
   "execution_count": 267,
   "id": "7bd480dc-1edc-45b9-ad20-1eb0578b446e",
   "metadata": {},
   "outputs": [],
   "source": [
    "t = list(t)"
   ]
  },
  {
   "cell_type": "code",
   "execution_count": 269,
   "id": "0771a733-9908-4ef1-b13c-b8074906a51d",
   "metadata": {},
   "outputs": [
    {
     "data": {
      "text/plain": [
       "[24, 45, 67, 20, 18, 45]"
      ]
     },
     "execution_count": 269,
     "metadata": {},
     "output_type": "execute_result"
    }
   ],
   "source": [
    "t"
   ]
  },
  {
   "cell_type": "code",
   "execution_count": 271,
   "id": "14584e40-15ef-4c54-82db-1cfe8ddfd416",
   "metadata": {},
   "outputs": [],
   "source": [
    "del t[3]"
   ]
  },
  {
   "cell_type": "code",
   "execution_count": 273,
   "id": "9570ced9-fd6d-4e64-bcd4-54c559ea7e74",
   "metadata": {},
   "outputs": [
    {
     "data": {
      "text/plain": [
       "(24, 45, 67, 18, 45)"
      ]
     },
     "execution_count": 273,
     "metadata": {},
     "output_type": "execute_result"
    }
   ],
   "source": [
    "t = tuple(t)\n",
    "t"
   ]
  },
  {
   "cell_type": "markdown",
   "id": "0278aead-cf1c-4c26-bade-d9b3c1a6e879",
   "metadata": {},
   "source": [
    "# Set"
   ]
  },
  {
   "cell_type": "code",
   "execution_count": 276,
   "id": "fdab9896-7299-4749-aa85-a1fc95418f44",
   "metadata": {},
   "outputs": [],
   "source": [
    "s = {12, 45, 34, 60, 12, 45, 45}"
   ]
  },
  {
   "cell_type": "code",
   "execution_count": 278,
   "id": "def1e5a4-8a10-40f9-aa70-1a42bea58465",
   "metadata": {},
   "outputs": [
    {
     "data": {
      "text/plain": [
       "set"
      ]
     },
     "execution_count": 278,
     "metadata": {},
     "output_type": "execute_result"
    }
   ],
   "source": [
    "type(s)"
   ]
  },
  {
   "cell_type": "code",
   "execution_count": 282,
   "id": "667394a3-7c4a-4bc7-a52f-549dfaa55804",
   "metadata": {},
   "outputs": [
    {
     "data": {
      "text/plain": [
       "{12, 34, 45, 60}"
      ]
     },
     "execution_count": 282,
     "metadata": {},
     "output_type": "execute_result"
    }
   ],
   "source": [
    "s  # duplicates are not allowed"
   ]
  },
  {
   "cell_type": "code",
   "execution_count": 284,
   "id": "8e01504e-59df-4363-9359-5da64658533e",
   "metadata": {},
   "outputs": [],
   "source": [
    "s1 = {23, 44.55, \"raj\"}"
   ]
  },
  {
   "cell_type": "code",
   "execution_count": 288,
   "id": "b489cfe3-5fe7-43e7-8a4e-2405ce87840e",
   "metadata": {},
   "outputs": [
    {
     "data": {
      "text/plain": [
       "{23, 44.55, 'raj'}"
      ]
     },
     "execution_count": 288,
     "metadata": {},
     "output_type": "execute_result"
    }
   ],
   "source": [
    "s1  # hetero"
   ]
  },
  {
   "cell_type": "code",
   "execution_count": 292,
   "id": "44e9e2e6-b040-4507-a06e-a2dd5aef5c6b",
   "metadata": {},
   "outputs": [
    {
     "ename": "TypeError",
     "evalue": "'set' object is not subscriptable",
     "output_type": "error",
     "traceback": [
      "\u001b[1;31m---------------------------------------------------------------------------\u001b[0m",
      "\u001b[1;31mTypeError\u001b[0m                                 Traceback (most recent call last)",
      "Cell \u001b[1;32mIn[292], line 1\u001b[0m\n\u001b[1;32m----> 1\u001b[0m \u001b[43ms\u001b[49m\u001b[43m[\u001b[49m\u001b[38;5;241;43m1\u001b[39;49m\u001b[43m]\u001b[49m  \u001b[38;5;66;03m# unordered\u001b[39;00m\n",
      "\u001b[1;31mTypeError\u001b[0m: 'set' object is not subscriptable"
     ]
    }
   ],
   "source": [
    "s[1]  # unordered"
   ]
  },
  {
   "cell_type": "code",
   "execution_count": 294,
   "id": "369576e5-7143-4381-bd8a-5aaa95d8eae9",
   "metadata": {},
   "outputs": [
    {
     "data": {
      "text/plain": [
       "{12, 34, 45, 60}"
      ]
     },
     "execution_count": 294,
     "metadata": {},
     "output_type": "execute_result"
    }
   ],
   "source": [
    "s"
   ]
  },
  {
   "cell_type": "code",
   "execution_count": 296,
   "id": "dea66e51-eef5-4f1d-998c-7e3a9c955f2f",
   "metadata": {},
   "outputs": [],
   "source": [
    "s.add(21)  # mutable"
   ]
  },
  {
   "cell_type": "code",
   "execution_count": 298,
   "id": "acd79c02-16b5-4267-bc75-a47e9d3e5e24",
   "metadata": {},
   "outputs": [
    {
     "data": {
      "text/plain": [
       "{12, 21, 34, 45, 60}"
      ]
     },
     "execution_count": 298,
     "metadata": {},
     "output_type": "execute_result"
    }
   ],
   "source": [
    "s"
   ]
  },
  {
   "cell_type": "code",
   "execution_count": 300,
   "id": "4a5e2577-8419-4980-b5cd-daa468062c7f",
   "metadata": {},
   "outputs": [],
   "source": [
    "s1 = frozenset(s)"
   ]
  },
  {
   "cell_type": "code",
   "execution_count": 302,
   "id": "67025483-a2de-4db2-9e60-b3855914a9bf",
   "metadata": {},
   "outputs": [
    {
     "data": {
      "text/plain": [
       "frozenset({12, 21, 34, 45, 60})"
      ]
     },
     "execution_count": 302,
     "metadata": {},
     "output_type": "execute_result"
    }
   ],
   "source": [
    "s1"
   ]
  },
  {
   "cell_type": "code",
   "execution_count": 308,
   "id": "dc197935-081f-4453-9514-f948255b62f8",
   "metadata": {},
   "outputs": [
    {
     "ename": "AttributeError",
     "evalue": "'frozenset' object has no attribute 'add'",
     "output_type": "error",
     "traceback": [
      "\u001b[1;31m---------------------------------------------------------------------------\u001b[0m",
      "\u001b[1;31mAttributeError\u001b[0m                            Traceback (most recent call last)",
      "Cell \u001b[1;32mIn[308], line 1\u001b[0m\n\u001b[1;32m----> 1\u001b[0m \u001b[43ms1\u001b[49m\u001b[38;5;241;43m.\u001b[39;49m\u001b[43madd\u001b[49m(\u001b[38;5;241m21\u001b[39m)  \u001b[38;5;66;03m# frozensets are immutable\u001b[39;00m\n",
      "\u001b[1;31mAttributeError\u001b[0m: 'frozenset' object has no attribute 'add'"
     ]
    }
   ],
   "source": [
    "s1.add(21)  # frozensets are immutable"
   ]
  },
  {
   "cell_type": "markdown",
   "id": "d186d46c-7296-4585-b19b-6e6af01698f5",
   "metadata": {},
   "source": [
    "# Dictionary"
   ]
  },
  {
   "cell_type": "code",
   "execution_count": 311,
   "id": "c0fb0b65-e0ff-4a8e-8521-6bc85371da17",
   "metadata": {},
   "outputs": [],
   "source": [
    "d = {1: 45, 2: 30, 3: 57, 5: 49}"
   ]
  },
  {
   "cell_type": "code",
   "execution_count": 313,
   "id": "4f6db91c-4024-42fa-a887-fd853d077217",
   "metadata": {},
   "outputs": [
    {
     "data": {
      "text/plain": [
       "{1: 45, 2: 30, 3: 57, 5: 49}"
      ]
     },
     "execution_count": 313,
     "metadata": {},
     "output_type": "execute_result"
    }
   ],
   "source": [
    "d"
   ]
  },
  {
   "cell_type": "code",
   "execution_count": 317,
   "id": "b1710f78-a9eb-43a0-b422-fe146088d19c",
   "metadata": {},
   "outputs": [
    {
     "data": {
      "text/plain": [
       "57"
      ]
     },
     "execution_count": 317,
     "metadata": {},
     "output_type": "execute_result"
    }
   ],
   "source": [
    "d[3]  # ordered"
   ]
  },
  {
   "cell_type": "code",
   "execution_count": 319,
   "id": "445264fd-62e7-44c2-bb45-42ca4d6db83e",
   "metadata": {},
   "outputs": [],
   "source": [
    "d[3] = 100   # mutable"
   ]
  },
  {
   "cell_type": "code",
   "execution_count": 321,
   "id": "a2cedd54-4b79-463c-bab2-2ada5fbf95a2",
   "metadata": {},
   "outputs": [
    {
     "data": {
      "text/plain": [
       "{1: 45, 2: 30, 3: 100, 5: 49}"
      ]
     },
     "execution_count": 321,
     "metadata": {},
     "output_type": "execute_result"
    }
   ],
   "source": [
    "d"
   ]
  },
  {
   "cell_type": "code",
   "execution_count": 323,
   "id": "942c271e-de36-4e76-b32c-1d3c5b8b3eae",
   "metadata": {},
   "outputs": [],
   "source": [
    "# keys are unique, values can be duplicate"
   ]
  },
  {
   "cell_type": "code",
   "execution_count": 325,
   "id": "71c74651-5d9d-425c-aca5-39a16bb38006",
   "metadata": {},
   "outputs": [],
   "source": [
    "d[10] = \"Raj\"  # hetero"
   ]
  },
  {
   "cell_type": "code",
   "execution_count": 327,
   "id": "b5b2516d-bb34-4523-8ae4-145b6e7e0ade",
   "metadata": {},
   "outputs": [
    {
     "data": {
      "text/plain": [
       "{1: 45, 2: 30, 3: 100, 5: 49, 10: 'Raj'}"
      ]
     },
     "execution_count": 327,
     "metadata": {},
     "output_type": "execute_result"
    }
   ],
   "source": [
    "d"
   ]
  },
  {
   "cell_type": "code",
   "execution_count": 329,
   "id": "1676cbee-6f05-400e-9739-89553a33bd1b",
   "metadata": {},
   "outputs": [
    {
     "data": {
      "text/plain": [
       "dict_keys([1, 2, 3, 5, 10])"
      ]
     },
     "execution_count": 329,
     "metadata": {},
     "output_type": "execute_result"
    }
   ],
   "source": [
    "d.keys()"
   ]
  },
  {
   "cell_type": "code",
   "execution_count": 331,
   "id": "e48138b9-b3fc-434a-bf72-1b87247d8836",
   "metadata": {},
   "outputs": [
    {
     "data": {
      "text/plain": [
       "dict_values([45, 30, 100, 49, 'Raj'])"
      ]
     },
     "execution_count": 331,
     "metadata": {},
     "output_type": "execute_result"
    }
   ],
   "source": [
    "d.values()"
   ]
  },
  {
   "cell_type": "code",
   "execution_count": 333,
   "id": "3069a418-faeb-4762-a4f6-a46cfae8e2ff",
   "metadata": {},
   "outputs": [],
   "source": [
    "del d[10]"
   ]
  },
  {
   "cell_type": "code",
   "execution_count": 335,
   "id": "34ae6185-54fa-40ec-b4d1-d4664a982a0b",
   "metadata": {},
   "outputs": [
    {
     "data": {
      "text/plain": [
       "{1: 45, 2: 30, 3: 100, 5: 49}"
      ]
     },
     "execution_count": 335,
     "metadata": {},
     "output_type": "execute_result"
    }
   ],
   "source": [
    "d"
   ]
  },
  {
   "cell_type": "code",
   "execution_count": 337,
   "id": "9a87272d-5255-4724-b667-217ead49b698",
   "metadata": {},
   "outputs": [],
   "source": [
    "d[\"class\"] = [\"BE\", \"TE\"]"
   ]
  },
  {
   "cell_type": "code",
   "execution_count": 339,
   "id": "addeda4a-76ee-40e4-86ca-9b595039b2b8",
   "metadata": {},
   "outputs": [
    {
     "data": {
      "text/plain": [
       "{1: 45, 2: 30, 3: 100, 5: 49, 'class': ['BE', 'TE']}"
      ]
     },
     "execution_count": 339,
     "metadata": {},
     "output_type": "execute_result"
    }
   ],
   "source": [
    "d"
   ]
  },
  {
   "cell_type": "code",
   "execution_count": 341,
   "id": "eb8d6cf7-847a-4164-a6b1-ae530e2ba026",
   "metadata": {},
   "outputs": [],
   "source": [
    "#####"
   ]
  },
  {
   "cell_type": "code",
   "execution_count": 365,
   "id": "06c7ca79-11b0-4cad-bdd0-47e967832319",
   "metadata": {},
   "outputs": [
    {
     "name": "stdout",
     "output_type": "stream",
     "text": [
      "Welcome to the list generator\n"
     ]
    },
    {
     "name": "stdin",
     "output_type": "stream",
     "text": [
      "How many values you want in a list 2\n",
      "Enter the value  19\n",
      "Enter the value  30\n"
     ]
    },
    {
     "name": "stdout",
     "output_type": "stream",
     "text": [
      "your list is \n",
      " [19, 30]\n"
     ]
    }
   ],
   "source": [
    "# initialize/create a list from user input\n",
    "# ask how many elements ?  and which elements ?\n",
    "\n",
    "e = []\n",
    "\n",
    "print(\"Welcome to the list generator\")\n",
    "count = int(input(\"How many values you want in a list\"))\n",
    "\n",
    "for i in range(count):\n",
    "    value = int(input(\"Enter the value \"))\n",
    "    e.append(value)\n",
    "\n",
    "print(\"your list is \\n\", e)"
   ]
  },
  {
   "cell_type": "code",
   "execution_count": 357,
   "id": "a94186a3-c097-4eb9-88bb-ae849838d9ec",
   "metadata": {},
   "outputs": [
    {
     "data": {
      "text/plain": [
       "[1, 2, 3, 11, 12]"
      ]
     },
     "execution_count": 357,
     "metadata": {},
     "output_type": "execute_result"
    }
   ],
   "source": [
    "l2"
   ]
  },
  {
   "cell_type": "code",
   "execution_count": 359,
   "id": "4e342d11-82ef-418b-a76b-e5e9949d6f35",
   "metadata": {},
   "outputs": [
    {
     "ename": "TypeError",
     "evalue": "'int' object is not iterable",
     "output_type": "error",
     "traceback": [
      "\u001b[1;31m---------------------------------------------------------------------------\u001b[0m",
      "\u001b[1;31mTypeError\u001b[0m                                 Traceback (most recent call last)",
      "Cell \u001b[1;32mIn[359], line 1\u001b[0m\n\u001b[1;32m----> 1\u001b[0m \u001b[43ml2\u001b[49m\u001b[38;5;241;43m.\u001b[39;49m\u001b[43mextend\u001b[49m\u001b[43m(\u001b[49m\u001b[38;5;241;43m3\u001b[39;49m\u001b[43m)\u001b[49m\n",
      "\u001b[1;31mTypeError\u001b[0m: 'int' object is not iterable"
     ]
    }
   ],
   "source": [
    "l2.extend(3)"
   ]
  },
  {
   "cell_type": "code",
   "execution_count": 361,
   "id": "6c22eab5-df72-4ecc-894f-565af6a7891d",
   "metadata": {},
   "outputs": [],
   "source": [
    "l2.extend([45, 23])"
   ]
  },
  {
   "cell_type": "code",
   "execution_count": 363,
   "id": "c7389538-b3aa-45ae-8244-4d13c9be9cb1",
   "metadata": {},
   "outputs": [
    {
     "data": {
      "text/plain": [
       "[1, 2, 3, 11, 12, 45, 23]"
      ]
     },
     "execution_count": 363,
     "metadata": {},
     "output_type": "execute_result"
    }
   ],
   "source": [
    "l2"
   ]
  },
  {
   "cell_type": "code",
   "execution_count": null,
   "id": "b4f4ec70-7ed1-4b30-aa93-d1c898064b51",
   "metadata": {},
   "outputs": [],
   "source": []
  }
 ],
 "metadata": {
  "kernelspec": {
   "display_name": "Python [conda env:Orange]",
   "language": "python",
   "name": "conda-env-Orange-py"
  },
  "language_info": {
   "codemirror_mode": {
    "name": "ipython",
    "version": 3
   },
   "file_extension": ".py",
   "mimetype": "text/x-python",
   "name": "python",
   "nbconvert_exporter": "python",
   "pygments_lexer": "ipython3",
   "version": "3.11.8"
  }
 },
 "nbformat": 4,
 "nbformat_minor": 5
}
