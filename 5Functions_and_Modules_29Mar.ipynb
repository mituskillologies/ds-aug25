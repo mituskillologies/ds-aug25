{
 "cells": [
  {
   "cell_type": "markdown",
   "id": "db906d9d-e410-4a1a-94c5-b2d6f39e0edd",
   "metadata": {},
   "source": [
    "# Functions"
   ]
  },
  {
   "cell_type": "code",
   "execution_count": 1,
   "id": "0439a28a-831b-497b-bb9d-d3362d58894c",
   "metadata": {},
   "outputs": [],
   "source": [
    "def show():      # function definition\n",
    "    print(\"Hello\")\n",
    "    print(\"ok\")\n",
    "    print('goodbye!')"
   ]
  },
  {
   "cell_type": "code",
   "execution_count": 3,
   "id": "bc85c439-f9b0-4294-87a0-13e98a8f6daf",
   "metadata": {},
   "outputs": [
    {
     "name": "stdout",
     "output_type": "stream",
     "text": [
      "Hello\n",
      "ok\n",
      "goodbye!\n"
     ]
    }
   ],
   "source": [
    "show()   # function call"
   ]
  },
  {
   "cell_type": "code",
   "execution_count": 5,
   "id": "1eeacf7c-3dc6-410f-96a2-476449abe3d8",
   "metadata": {},
   "outputs": [
    {
     "name": "stdout",
     "output_type": "stream",
     "text": [
      "Hello\n",
      "ok\n",
      "goodbye!\n",
      "Hello\n",
      "ok\n",
      "goodbye!\n",
      "Hello\n",
      "ok\n",
      "goodbye!\n"
     ]
    }
   ],
   "source": [
    "show()\n",
    "show()\n",
    "show()"
   ]
  },
  {
   "cell_type": "code",
   "execution_count": 7,
   "id": "c4b1fecc-453c-45c2-8eae-835d370d4445",
   "metadata": {},
   "outputs": [],
   "source": [
    "# parameterized function"
   ]
  },
  {
   "cell_type": "code",
   "execution_count": 61,
   "id": "b18235ed-281e-4e3f-ae36-7ebfe13b2e24",
   "metadata": {},
   "outputs": [],
   "source": [
    "def sq(a):\n",
    "    result = a * a\n",
    "    print(result)"
   ]
  },
  {
   "cell_type": "code",
   "execution_count": 11,
   "id": "45ad26ff-100b-4280-81d6-c79717d6f32a",
   "metadata": {},
   "outputs": [
    {
     "name": "stdout",
     "output_type": "stream",
     "text": [
      "100\n"
     ]
    }
   ],
   "source": [
    "sq(10)"
   ]
  },
  {
   "cell_type": "code",
   "execution_count": 13,
   "id": "96ba40a2-da85-4cf0-8796-18ea5bca78fc",
   "metadata": {},
   "outputs": [
    {
     "ename": "TypeError",
     "evalue": "sq() missing 1 required positional argument: 'a'",
     "output_type": "error",
     "traceback": [
      "\u001b[1;31m---------------------------------------------------------------------------\u001b[0m",
      "\u001b[1;31mTypeError\u001b[0m                                 Traceback (most recent call last)",
      "Cell \u001b[1;32mIn[13], line 1\u001b[0m\n\u001b[1;32m----> 1\u001b[0m \u001b[43msq\u001b[49m\u001b[43m(\u001b[49m\u001b[43m)\u001b[49m\n",
      "\u001b[1;31mTypeError\u001b[0m: sq() missing 1 required positional argument: 'a'"
     ]
    }
   ],
   "source": [
    "sq()"
   ]
  },
  {
   "cell_type": "code",
   "execution_count": 19,
   "id": "4b240d57-b2b1-451b-846b-87ebef993d62",
   "metadata": {},
   "outputs": [],
   "source": [
    "def compare(x, y):\n",
    "    if x > y:\n",
    "        print(f\"{x} is greater\")\n",
    "    elif x == y:\n",
    "        print(f\"both equal\")\n",
    "    else:\n",
    "        print(f\"{y} is greater\")"
   ]
  },
  {
   "cell_type": "code",
   "execution_count": 21,
   "id": "c2ae4bf9-6c82-4782-832d-8c4ef30b146f",
   "metadata": {},
   "outputs": [
    {
     "name": "stdout",
     "output_type": "stream",
     "text": [
      "49 is greater\n"
     ]
    }
   ],
   "source": [
    "compare(10, 49)"
   ]
  },
  {
   "cell_type": "code",
   "execution_count": 23,
   "id": "97e22913-b692-4265-8b8e-71d7b8535e20",
   "metadata": {},
   "outputs": [],
   "source": [
    "# write a function which will display a string specified number of times"
   ]
  },
  {
   "cell_type": "code",
   "execution_count": 25,
   "id": "795185d4-cedf-4a34-8544-c27099490254",
   "metadata": {},
   "outputs": [],
   "source": [
    "def dis(name, count):\n",
    "    for n in range(count):\n",
    "        print(name)"
   ]
  },
  {
   "cell_type": "code",
   "execution_count": 27,
   "id": "5de963a8-17b7-4d0d-8026-73620c2e740e",
   "metadata": {},
   "outputs": [
    {
     "name": "stdout",
     "output_type": "stream",
     "text": [
      "Pune\n",
      "Pune\n",
      "Pune\n"
     ]
    }
   ],
   "source": [
    "dis(\"Pune\", 3)"
   ]
  },
  {
   "cell_type": "code",
   "execution_count": 29,
   "id": "b1e7f0dc-433f-4ef3-b7d0-03dcd242bbaf",
   "metadata": {},
   "outputs": [],
   "source": [
    "# write a function for finding the facotrial"
   ]
  },
  {
   "cell_type": "code",
   "execution_count": 35,
   "id": "9b6a2542-48cc-4be4-b430-86d8a415bb43",
   "metadata": {},
   "outputs": [],
   "source": [
    "def factorial(n):\n",
    "    fact = 1\n",
    "    for i in range(1, n+1):\n",
    "        fact = fact * i\n",
    "    print(fact)"
   ]
  },
  {
   "cell_type": "code",
   "execution_count": 37,
   "id": "f81d3875-6501-4e67-8d14-9285514f99ab",
   "metadata": {},
   "outputs": [
    {
     "name": "stdout",
     "output_type": "stream",
     "text": [
      "120\n"
     ]
    }
   ],
   "source": [
    "factorial(5)"
   ]
  },
  {
   "cell_type": "code",
   "execution_count": 41,
   "id": "bead0380-da38-4657-aeb5-b460333cd7fb",
   "metadata": {},
   "outputs": [],
   "source": [
    "# return and print"
   ]
  },
  {
   "cell_type": "code",
   "execution_count": 63,
   "id": "7a9fd7a5-27e2-4977-9ea3-242a97c58e50",
   "metadata": {},
   "outputs": [
    {
     "name": "stdout",
     "output_type": "stream",
     "text": [
      "100\n"
     ]
    }
   ],
   "source": [
    "v = sq(10)"
   ]
  },
  {
   "cell_type": "code",
   "execution_count": 65,
   "id": "17ba0b4e-16c7-4a6e-b23c-c935964ef5f1",
   "metadata": {},
   "outputs": [
    {
     "name": "stdout",
     "output_type": "stream",
     "text": [
      "None\n"
     ]
    }
   ],
   "source": [
    "print(v)"
   ]
  },
  {
   "cell_type": "code",
   "execution_count": 59,
   "id": "47228848-78e9-4cd8-a1f7-63c056987b8e",
   "metadata": {},
   "outputs": [],
   "source": [
    "def sq1(a):\n",
    "    result = a * a\n",
    "    return result"
   ]
  },
  {
   "cell_type": "code",
   "execution_count": 51,
   "id": "83328468-ca9c-4390-84d4-9909db932de1",
   "metadata": {},
   "outputs": [],
   "source": [
    "v = sq(10)"
   ]
  },
  {
   "cell_type": "code",
   "execution_count": 53,
   "id": "5dc7e952-6145-4a55-a79f-4bd9e40e23cf",
   "metadata": {},
   "outputs": [
    {
     "data": {
      "text/plain": [
       "100"
      ]
     },
     "execution_count": 53,
     "metadata": {},
     "output_type": "execute_result"
    }
   ],
   "source": [
    "v"
   ]
  },
  {
   "cell_type": "code",
   "execution_count": 67,
   "id": "6a120297-9720-47e9-aba7-21a5c4785b6d",
   "metadata": {},
   "outputs": [],
   "source": [
    "# multi-return"
   ]
  },
  {
   "cell_type": "code",
   "execution_count": 69,
   "id": "0b437019-68cc-4726-bf26-a3a3e934dbf9",
   "metadata": {},
   "outputs": [],
   "source": [
    "def calc(n):\n",
    "    sq = n * n\n",
    "    cu = n ** 3\n",
    "    return sq, cu"
   ]
  },
  {
   "cell_type": "code",
   "execution_count": 71,
   "id": "179748dc-d2ee-418b-8d4f-9cea58c1ffd1",
   "metadata": {},
   "outputs": [
    {
     "data": {
      "text/plain": [
       "(81, 729)"
      ]
     },
     "execution_count": 71,
     "metadata": {},
     "output_type": "execute_result"
    }
   ],
   "source": [
    "calc(9)"
   ]
  },
  {
   "cell_type": "code",
   "execution_count": 73,
   "id": "35f14b06-a2b3-4151-b3a4-02ed5cb12ba9",
   "metadata": {},
   "outputs": [
    {
     "data": {
      "text/plain": [
       "81"
      ]
     },
     "execution_count": 73,
     "metadata": {},
     "output_type": "execute_result"
    }
   ],
   "source": [
    "calc(9)[0]"
   ]
  },
  {
   "cell_type": "code",
   "execution_count": 75,
   "id": "25709eeb-400a-47e4-be48-34fbc31bd1cb",
   "metadata": {},
   "outputs": [
    {
     "data": {
      "text/plain": [
       "729"
      ]
     },
     "execution_count": 75,
     "metadata": {},
     "output_type": "execute_result"
    }
   ],
   "source": [
    "calc(9)[1]"
   ]
  },
  {
   "cell_type": "code",
   "execution_count": 83,
   "id": "02d6fb0f-42c1-4da9-a195-1278b91cb2bb",
   "metadata": {},
   "outputs": [
    {
     "name": "stdin",
     "output_type": "stream",
     "text": [
      "Enter the number 5\n"
     ]
    },
    {
     "name": "stdout",
     "output_type": "stream",
     "text": [
      "square 25\n",
      "cube 125\n"
     ]
    }
   ],
   "source": [
    "num = int(input(\"Enter the number\"))\n",
    "x, y = calc(num)\n",
    "print(\"square\", x)\n",
    "print(\"cube\", y)"
   ]
  },
  {
   "cell_type": "code",
   "execution_count": 89,
   "id": "c63b4280-b68d-46dd-aad8-764ff674e451",
   "metadata": {},
   "outputs": [],
   "source": [
    "def compare(x, y):\n",
    "    if x > y:\n",
    "        return x\n",
    "    elif x == y:\n",
    "        return 0\n",
    "    else:\n",
    "        return y"
   ]
  },
  {
   "cell_type": "code",
   "execution_count": 91,
   "id": "dfed2a6c-303f-4546-9263-90e955e75004",
   "metadata": {},
   "outputs": [
    {
     "data": {
      "text/plain": [
       "56"
      ]
     },
     "execution_count": 91,
     "metadata": {},
     "output_type": "execute_result"
    }
   ],
   "source": [
    "compare(10, 56)"
   ]
  },
  {
   "cell_type": "code",
   "execution_count": 93,
   "id": "89307de6-d147-4531-ab87-99f5b4bf3d4e",
   "metadata": {},
   "outputs": [
    {
     "name": "stdout",
     "output_type": "stream",
     "text": [
      "Help on function compare in module __main__:\n",
      "\n",
      "compare(x, y)\n",
      "\n"
     ]
    }
   ],
   "source": [
    "help(compare)"
   ]
  },
  {
   "cell_type": "code",
   "execution_count": 97,
   "id": "4daae54c-10b9-4a56-bd37-049a5223e1ba",
   "metadata": {},
   "outputs": [],
   "source": [
    "# type hint\n",
    "# specifying the datatypes of parameters and output"
   ]
  },
  {
   "cell_type": "code",
   "execution_count": 113,
   "id": "233ab797-fcb7-4fec-bb36-f95fa9c4febe",
   "metadata": {},
   "outputs": [],
   "source": [
    "def compare(x: int, y: int) -> int:\n",
    "    \"\"\"\n",
    "    returns the largest of 2 numbers\n",
    "    \"\"\"\n",
    "    \n",
    "    if x > y:\n",
    "        return x\n",
    "    elif x == y:\n",
    "        return 0\n",
    "    else:\n",
    "        return y"
   ]
  },
  {
   "cell_type": "code",
   "execution_count": 115,
   "id": "24f85311-0fa7-4339-bfff-30c745f5614d",
   "metadata": {},
   "outputs": [
    {
     "data": {
      "text/plain": [
       "56"
      ]
     },
     "execution_count": 115,
     "metadata": {},
     "output_type": "execute_result"
    }
   ],
   "source": [
    "compare(10, 56)"
   ]
  },
  {
   "cell_type": "code",
   "execution_count": 117,
   "id": "888be01c-c23a-4050-a71b-428ddbd5aecc",
   "metadata": {
    "scrolled": true
   },
   "outputs": [
    {
     "name": "stdout",
     "output_type": "stream",
     "text": [
      "Help on function compare in module __main__:\n",
      "\n",
      "compare(x: int, y: int) -> int\n",
      "    returns the largest of 2 numbers\n",
      "\n"
     ]
    }
   ],
   "source": [
    "help(compare)"
   ]
  },
  {
   "cell_type": "code",
   "execution_count": 119,
   "id": "3eec39ff-a56d-44e9-971e-5ccf3faee10d",
   "metadata": {},
   "outputs": [],
   "source": [
    "# write a function to add 3 numbers"
   ]
  },
  {
   "cell_type": "code",
   "execution_count": 143,
   "id": "78e9abfd-eacb-448e-8241-1b5fda3eb270",
   "metadata": {},
   "outputs": [],
   "source": [
    "def add3(x: int = 10, y = 20, z = 30):\n",
    "    res = x + y + z\n",
    "    return res"
   ]
  },
  {
   "cell_type": "code",
   "execution_count": 145,
   "id": "4560a39e-a0e7-49fa-b9b7-e45d8956d09f",
   "metadata": {},
   "outputs": [
    {
     "data": {
      "text/plain": [
       "6"
      ]
     },
     "execution_count": 145,
     "metadata": {},
     "output_type": "execute_result"
    }
   ],
   "source": [
    "add3(1, 2, 3)"
   ]
  },
  {
   "cell_type": "code",
   "execution_count": 147,
   "id": "836bc24d-a18b-4499-bbeb-149f383ab049",
   "metadata": {},
   "outputs": [
    {
     "data": {
      "text/plain": [
       "35"
      ]
     },
     "execution_count": 147,
     "metadata": {},
     "output_type": "execute_result"
    }
   ],
   "source": [
    "add3(1, 4)"
   ]
  },
  {
   "cell_type": "code",
   "execution_count": 149,
   "id": "175fd1c0-cafd-483c-a689-3d5bb68ed78f",
   "metadata": {},
   "outputs": [
    {
     "data": {
      "text/plain": [
       "51"
      ]
     },
     "execution_count": 149,
     "metadata": {},
     "output_type": "execute_result"
    }
   ],
   "source": [
    "add3(1)"
   ]
  },
  {
   "cell_type": "code",
   "execution_count": 151,
   "id": "a5dc12f4-336b-4713-bcfb-8ab55715104d",
   "metadata": {},
   "outputs": [
    {
     "data": {
      "text/plain": [
       "24"
      ]
     },
     "execution_count": 151,
     "metadata": {},
     "output_type": "execute_result"
    }
   ],
   "source": [
    "add3(x = 2, z = 2)"
   ]
  },
  {
   "cell_type": "code",
   "execution_count": 153,
   "id": "d0c0b3b0-a8f2-4932-8b0f-c6ed127dd11b",
   "metadata": {},
   "outputs": [],
   "source": [
    "# dynamic variable length"
   ]
  },
  {
   "cell_type": "code",
   "execution_count": 155,
   "id": "aa85e8cd-5e34-42b7-a563-5144eae57e0d",
   "metadata": {},
   "outputs": [],
   "source": [
    "def addall(*args):\n",
    "    return sum(args)"
   ]
  },
  {
   "cell_type": "code",
   "execution_count": 157,
   "id": "a579cafe-fa2b-4aa5-b8cd-0925c6af23b2",
   "metadata": {},
   "outputs": [
    {
     "data": {
      "text/plain": [
       "67"
      ]
     },
     "execution_count": 157,
     "metadata": {},
     "output_type": "execute_result"
    }
   ],
   "source": [
    "addall(10, 43, 3, 3, 5, 3)"
   ]
  },
  {
   "cell_type": "code",
   "execution_count": 159,
   "id": "2f895488-e029-495c-be2d-8f5e856e12aa",
   "metadata": {},
   "outputs": [],
   "source": [
    "# lambda function"
   ]
  },
  {
   "cell_type": "code",
   "execution_count": 163,
   "id": "8da575ab-4020-464d-931e-dd3251cb69e0",
   "metadata": {},
   "outputs": [],
   "source": [
    "square = lambda x: x ** 2"
   ]
  },
  {
   "cell_type": "code",
   "execution_count": 165,
   "id": "3110c82f-ed9e-4424-92d6-d81381cee958",
   "metadata": {},
   "outputs": [
    {
     "data": {
      "text/plain": [
       "361"
      ]
     },
     "execution_count": 165,
     "metadata": {},
     "output_type": "execute_result"
    }
   ],
   "source": [
    "square(19)"
   ]
  },
  {
   "cell_type": "code",
   "execution_count": 167,
   "id": "cfb4ef64-4ea0-44b2-a005-173c9ea17007",
   "metadata": {},
   "outputs": [],
   "source": [
    "# create a labda function for addition of 2 numbers"
   ]
  },
  {
   "cell_type": "code",
   "execution_count": 169,
   "id": "5e29c12e-cb6f-4876-b8d7-3846c00894eb",
   "metadata": {},
   "outputs": [],
   "source": [
    "ad = lambda x, y: x + y"
   ]
  },
  {
   "cell_type": "code",
   "execution_count": 171,
   "id": "ac706dfb-67a2-4bb5-acfb-814d1625a9fa",
   "metadata": {},
   "outputs": [
    {
     "data": {
      "text/plain": [
       "31"
      ]
     },
     "execution_count": 171,
     "metadata": {},
     "output_type": "execute_result"
    }
   ],
   "source": [
    "ad(10, 21)"
   ]
  },
  {
   "cell_type": "code",
   "execution_count": 173,
   "id": "32bc60fb-2096-4b68-a051-57b17b31e2b6",
   "metadata": {},
   "outputs": [],
   "source": [
    "num = [10, 34, 56, 23, 18, 45, 100, 4]"
   ]
  },
  {
   "cell_type": "code",
   "execution_count": 175,
   "id": "80bad03b-d5ab-48d9-8f13-15abd8239896",
   "metadata": {},
   "outputs": [],
   "source": [
    "new = filter(lambda x: x > 30, num)"
   ]
  },
  {
   "cell_type": "code",
   "execution_count": 177,
   "id": "5c5c864e-8826-4738-9e12-bdbdf755c707",
   "metadata": {},
   "outputs": [
    {
     "data": {
      "text/plain": [
       "[34, 56, 45, 100]"
      ]
     },
     "execution_count": 177,
     "metadata": {},
     "output_type": "execute_result"
    }
   ],
   "source": [
    "list(new)"
   ]
  },
  {
   "cell_type": "code",
   "execution_count": 179,
   "id": "0e5b0c8b-4bbd-4671-af64-dba6c7df2d48",
   "metadata": {},
   "outputs": [],
   "source": [
    "new1 = map(lambda x: x ** 2, num)"
   ]
  },
  {
   "cell_type": "code",
   "execution_count": 181,
   "id": "3fc56d46-759d-4aa4-8fc5-a2915012e84d",
   "metadata": {},
   "outputs": [
    {
     "data": {
      "text/plain": [
       "[100, 1156, 3136, 529, 324, 2025, 10000, 16]"
      ]
     },
     "execution_count": 181,
     "metadata": {},
     "output_type": "execute_result"
    }
   ],
   "source": [
    "list(new1)"
   ]
  },
  {
   "cell_type": "code",
   "execution_count": 183,
   "id": "ab2bdfbe-7c05-4413-88c9-c7ecb7b5eeee",
   "metadata": {},
   "outputs": [],
   "source": [
    "# check if a str is palindrome of not"
   ]
  },
  {
   "cell_type": "code",
   "execution_count": 189,
   "id": "a9d058af-febe-48be-818b-3ad94c067f5b",
   "metadata": {},
   "outputs": [],
   "source": [
    "a = \"4554\""
   ]
  },
  {
   "cell_type": "code",
   "execution_count": 199,
   "id": "7417322a-5adf-496a-97fa-d7bd2479e884",
   "metadata": {},
   "outputs": [
    {
     "data": {
      "text/plain": [
       "['4', '5', '5', '4']"
      ]
     },
     "execution_count": 199,
     "metadata": {},
     "output_type": "execute_result"
    }
   ],
   "source": [
    "a = list(a)\n",
    "a"
   ]
  },
  {
   "cell_type": "code",
   "execution_count": 203,
   "id": "d0f9963d-75ca-4c4f-a48e-9f95a005e87e",
   "metadata": {},
   "outputs": [
    {
     "data": {
      "text/plain": [
       "['4', '5', '5', '4']"
      ]
     },
     "execution_count": 203,
     "metadata": {},
     "output_type": "execute_result"
    }
   ],
   "source": [
    "y = a[::-1]\n",
    "y"
   ]
  },
  {
   "cell_type": "code",
   "execution_count": 187,
   "id": "65a44979-f3d0-4674-8dc2-dea91018064c",
   "metadata": {},
   "outputs": [],
   "source": [
    "# palindrome or not"
   ]
  },
  {
   "cell_type": "code",
   "execution_count": 207,
   "id": "c881d2e1-7671-45c7-a88a-be8dd3debafb",
   "metadata": {},
   "outputs": [],
   "source": [
    "def ispalindrome(text: str) -> bool:\n",
    "    \"\"\"\n",
    "    checks if the text is palindrome or not\n",
    "    forward and backward is same\n",
    "\n",
    "    Args:\n",
    "        a text to check if its palindrome or not\n",
    "\n",
    "    Returns:\n",
    "        a boolean value\n",
    "    \"\"\"\n",
    "    a = list(text)\n",
    "    b = a[::-1]\n",
    "\n",
    "    if a == b:\n",
    "        return True\n",
    "    else:\n",
    "        return False"
   ]
  },
  {
   "cell_type": "code",
   "execution_count": 209,
   "id": "6ded2b4d-d34c-403a-a5fd-32b21cf45cd6",
   "metadata": {},
   "outputs": [
    {
     "data": {
      "text/plain": [
       "True"
      ]
     },
     "execution_count": 209,
     "metadata": {},
     "output_type": "execute_result"
    }
   ],
   "source": [
    "ispalindrome(\"racecar\")"
   ]
  },
  {
   "cell_type": "code",
   "execution_count": 211,
   "id": "8cf0c9f2-afd0-4532-bd37-f07fdc3f2e30",
   "metadata": {},
   "outputs": [
    {
     "data": {
      "text/plain": [
       "False"
      ]
     },
     "execution_count": 211,
     "metadata": {},
     "output_type": "execute_result"
    }
   ],
   "source": [
    "ispalindrome(\"pune\")"
   ]
  },
  {
   "cell_type": "markdown",
   "id": "81d7683c-ccf9-44d7-b6e2-dd4a0e3228b4",
   "metadata": {},
   "source": [
    "# Modules"
   ]
  },
  {
   "cell_type": "code",
   "execution_count": 215,
   "id": "b4aaddd6-68bb-4d3f-b362-0cc2a792c6e3",
   "metadata": {},
   "outputs": [],
   "source": [
    "import math"
   ]
  },
  {
   "cell_type": "code",
   "execution_count": 217,
   "id": "254f1098-cda1-42b1-9dc1-f600376481f4",
   "metadata": {},
   "outputs": [
    {
     "data": {
      "text/plain": [
       "7.0"
      ]
     },
     "execution_count": 217,
     "metadata": {},
     "output_type": "execute_result"
    }
   ],
   "source": [
    "math.sqrt(49)"
   ]
  },
  {
   "cell_type": "code",
   "execution_count": 219,
   "id": "385d49e2-73c8-484d-a176-099df936533d",
   "metadata": {},
   "outputs": [
    {
     "data": {
      "text/plain": [
       "-0.9880316240928618"
      ]
     },
     "execution_count": 219,
     "metadata": {},
     "output_type": "execute_result"
    }
   ],
   "source": [
    "math.sin(30)"
   ]
  },
  {
   "cell_type": "code",
   "execution_count": 221,
   "id": "67460804-65bb-4cd8-8c41-c77ba811fb5b",
   "metadata": {},
   "outputs": [
    {
     "name": "stdout",
     "output_type": "stream",
     "text": [
      "Help on built-in module math:\n",
      "\n",
      "NAME\n",
      "    math\n",
      "\n",
      "DESCRIPTION\n",
      "    This module provides access to the mathematical functions\n",
      "    defined by the C standard.\n",
      "\n",
      "FUNCTIONS\n",
      "    acos(x, /)\n",
      "        Return the arc cosine (measured in radians) of x.\n",
      "        \n",
      "        The result is between 0 and pi.\n",
      "    \n",
      "    acosh(x, /)\n",
      "        Return the inverse hyperbolic cosine of x.\n",
      "    \n",
      "    asin(x, /)\n",
      "        Return the arc sine (measured in radians) of x.\n",
      "        \n",
      "        The result is between -pi/2 and pi/2.\n",
      "    \n",
      "    asinh(x, /)\n",
      "        Return the inverse hyperbolic sine of x.\n",
      "    \n",
      "    atan(x, /)\n",
      "        Return the arc tangent (measured in radians) of x.\n",
      "        \n",
      "        The result is between -pi/2 and pi/2.\n",
      "    \n",
      "    atan2(y, x, /)\n",
      "        Return the arc tangent (measured in radians) of y/x.\n",
      "        \n",
      "        Unlike atan(y/x), the signs of both x and y are considered.\n",
      "    \n",
      "    atanh(x, /)\n",
      "        Return the inverse hyperbolic tangent of x.\n",
      "    \n",
      "    cbrt(x, /)\n",
      "        Return the cube root of x.\n",
      "    \n",
      "    ceil(x, /)\n",
      "        Return the ceiling of x as an Integral.\n",
      "        \n",
      "        This is the smallest integer >= x.\n",
      "    \n",
      "    comb(n, k, /)\n",
      "        Number of ways to choose k items from n items without repetition and without order.\n",
      "        \n",
      "        Evaluates to n! / (k! * (n - k)!) when k <= n and evaluates\n",
      "        to zero when k > n.\n",
      "        \n",
      "        Also called the binomial coefficient because it is equivalent\n",
      "        to the coefficient of k-th term in polynomial expansion of the\n",
      "        expression (1 + x)**n.\n",
      "        \n",
      "        Raises TypeError if either of the arguments are not integers.\n",
      "        Raises ValueError if either of the arguments are negative.\n",
      "    \n",
      "    copysign(x, y, /)\n",
      "        Return a float with the magnitude (absolute value) of x but the sign of y.\n",
      "        \n",
      "        On platforms that support signed zeros, copysign(1.0, -0.0)\n",
      "        returns -1.0.\n",
      "    \n",
      "    cos(x, /)\n",
      "        Return the cosine of x (measured in radians).\n",
      "    \n",
      "    cosh(x, /)\n",
      "        Return the hyperbolic cosine of x.\n",
      "    \n",
      "    degrees(x, /)\n",
      "        Convert angle x from radians to degrees.\n",
      "    \n",
      "    dist(p, q, /)\n",
      "        Return the Euclidean distance between two points p and q.\n",
      "        \n",
      "        The points should be specified as sequences (or iterables) of\n",
      "        coordinates.  Both inputs must have the same dimension.\n",
      "        \n",
      "        Roughly equivalent to:\n",
      "            sqrt(sum((px - qx) ** 2.0 for px, qx in zip(p, q)))\n",
      "    \n",
      "    erf(x, /)\n",
      "        Error function at x.\n",
      "    \n",
      "    erfc(x, /)\n",
      "        Complementary error function at x.\n",
      "    \n",
      "    exp(x, /)\n",
      "        Return e raised to the power of x.\n",
      "    \n",
      "    exp2(x, /)\n",
      "        Return 2 raised to the power of x.\n",
      "    \n",
      "    expm1(x, /)\n",
      "        Return exp(x)-1.\n",
      "        \n",
      "        This function avoids the loss of precision involved in the direct evaluation of exp(x)-1 for small x.\n",
      "    \n",
      "    fabs(x, /)\n",
      "        Return the absolute value of the float x.\n",
      "    \n",
      "    factorial(n, /)\n",
      "        Find n!.\n",
      "        \n",
      "        Raise a ValueError if x is negative or non-integral.\n",
      "    \n",
      "    floor(x, /)\n",
      "        Return the floor of x as an Integral.\n",
      "        \n",
      "        This is the largest integer <= x.\n",
      "    \n",
      "    fmod(x, y, /)\n",
      "        Return fmod(x, y), according to platform C.\n",
      "        \n",
      "        x % y may differ.\n",
      "    \n",
      "    frexp(x, /)\n",
      "        Return the mantissa and exponent of x, as pair (m, e).\n",
      "        \n",
      "        m is a float and e is an int, such that x = m * 2.**e.\n",
      "        If x is 0, m and e are both 0.  Else 0.5 <= abs(m) < 1.0.\n",
      "    \n",
      "    fsum(seq, /)\n",
      "        Return an accurate floating point sum of values in the iterable seq.\n",
      "        \n",
      "        Assumes IEEE-754 floating point arithmetic.\n",
      "    \n",
      "    gamma(x, /)\n",
      "        Gamma function at x.\n",
      "    \n",
      "    gcd(*integers)\n",
      "        Greatest Common Divisor.\n",
      "    \n",
      "    hypot(...)\n",
      "        hypot(*coordinates) -> value\n",
      "        \n",
      "        Multidimensional Euclidean distance from the origin to a point.\n",
      "        \n",
      "        Roughly equivalent to:\n",
      "            sqrt(sum(x**2 for x in coordinates))\n",
      "        \n",
      "        For a two dimensional point (x, y), gives the hypotenuse\n",
      "        using the Pythagorean theorem:  sqrt(x*x + y*y).\n",
      "        \n",
      "        For example, the hypotenuse of a 3/4/5 right triangle is:\n",
      "        \n",
      "            >>> hypot(3.0, 4.0)\n",
      "            5.0\n",
      "    \n",
      "    isclose(a, b, *, rel_tol=1e-09, abs_tol=0.0)\n",
      "        Determine whether two floating point numbers are close in value.\n",
      "        \n",
      "          rel_tol\n",
      "            maximum difference for being considered \"close\", relative to the\n",
      "            magnitude of the input values\n",
      "          abs_tol\n",
      "            maximum difference for being considered \"close\", regardless of the\n",
      "            magnitude of the input values\n",
      "        \n",
      "        Return True if a is close in value to b, and False otherwise.\n",
      "        \n",
      "        For the values to be considered close, the difference between them\n",
      "        must be smaller than at least one of the tolerances.\n",
      "        \n",
      "        -inf, inf and NaN behave similarly to the IEEE 754 Standard.  That\n",
      "        is, NaN is not close to anything, even itself.  inf and -inf are\n",
      "        only close to themselves.\n",
      "    \n",
      "    isfinite(x, /)\n",
      "        Return True if x is neither an infinity nor a NaN, and False otherwise.\n",
      "    \n",
      "    isinf(x, /)\n",
      "        Return True if x is a positive or negative infinity, and False otherwise.\n",
      "    \n",
      "    isnan(x, /)\n",
      "        Return True if x is a NaN (not a number), and False otherwise.\n",
      "    \n",
      "    isqrt(n, /)\n",
      "        Return the integer part of the square root of the input.\n",
      "    \n",
      "    lcm(*integers)\n",
      "        Least Common Multiple.\n",
      "    \n",
      "    ldexp(x, i, /)\n",
      "        Return x * (2**i).\n",
      "        \n",
      "        This is essentially the inverse of frexp().\n",
      "    \n",
      "    lgamma(x, /)\n",
      "        Natural logarithm of absolute value of Gamma function at x.\n",
      "    \n",
      "    log(...)\n",
      "        log(x, [base=math.e])\n",
      "        Return the logarithm of x to the given base.\n",
      "        \n",
      "        If the base not specified, returns the natural logarithm (base e) of x.\n",
      "    \n",
      "    log10(x, /)\n",
      "        Return the base 10 logarithm of x.\n",
      "    \n",
      "    log1p(x, /)\n",
      "        Return the natural logarithm of 1+x (base e).\n",
      "        \n",
      "        The result is computed in a way which is accurate for x near zero.\n",
      "    \n",
      "    log2(x, /)\n",
      "        Return the base 2 logarithm of x.\n",
      "    \n",
      "    modf(x, /)\n",
      "        Return the fractional and integer parts of x.\n",
      "        \n",
      "        Both results carry the sign of x and are floats.\n",
      "    \n",
      "    nextafter(x, y, /)\n",
      "        Return the next floating-point value after x towards y.\n",
      "    \n",
      "    perm(n, k=None, /)\n",
      "        Number of ways to choose k items from n items without repetition and with order.\n",
      "        \n",
      "        Evaluates to n! / (n - k)! when k <= n and evaluates\n",
      "        to zero when k > n.\n",
      "        \n",
      "        If k is not specified or is None, then k defaults to n\n",
      "        and the function returns n!.\n",
      "        \n",
      "        Raises TypeError if either of the arguments are not integers.\n",
      "        Raises ValueError if either of the arguments are negative.\n",
      "    \n",
      "    pow(x, y, /)\n",
      "        Return x**y (x to the power of y).\n",
      "    \n",
      "    prod(iterable, /, *, start=1)\n",
      "        Calculate the product of all the elements in the input iterable.\n",
      "        \n",
      "        The default start value for the product is 1.\n",
      "        \n",
      "        When the iterable is empty, return the start value.  This function is\n",
      "        intended specifically for use with numeric values and may reject\n",
      "        non-numeric types.\n",
      "    \n",
      "    radians(x, /)\n",
      "        Convert angle x from degrees to radians.\n",
      "    \n",
      "    remainder(x, y, /)\n",
      "        Difference between x and the closest integer multiple of y.\n",
      "        \n",
      "        Return x - n*y where n*y is the closest integer multiple of y.\n",
      "        In the case where x is exactly halfway between two multiples of\n",
      "        y, the nearest even value of n is used. The result is always exact.\n",
      "    \n",
      "    sin(x, /)\n",
      "        Return the sine of x (measured in radians).\n",
      "    \n",
      "    sinh(x, /)\n",
      "        Return the hyperbolic sine of x.\n",
      "    \n",
      "    sqrt(x, /)\n",
      "        Return the square root of x.\n",
      "    \n",
      "    tan(x, /)\n",
      "        Return the tangent of x (measured in radians).\n",
      "    \n",
      "    tanh(x, /)\n",
      "        Return the hyperbolic tangent of x.\n",
      "    \n",
      "    trunc(x, /)\n",
      "        Truncates the Real x to the nearest Integral toward 0.\n",
      "        \n",
      "        Uses the __trunc__ magic method.\n",
      "    \n",
      "    ulp(x, /)\n",
      "        Return the value of the least significant bit of the float x.\n",
      "\n",
      "DATA\n",
      "    e = 2.718281828459045\n",
      "    inf = inf\n",
      "    nan = nan\n",
      "    pi = 3.141592653589793\n",
      "    tau = 6.283185307179586\n",
      "\n",
      "FILE\n",
      "    (built-in)\n",
      "\n",
      "\n"
     ]
    }
   ],
   "source": [
    "help(math)\n",
    "# create a function to calculate area of the circle"
   ]
  },
  {
   "cell_type": "code",
   "execution_count": 223,
   "id": "307adbb3-c34b-4b34-93e4-861babbbb570",
   "metadata": {},
   "outputs": [
    {
     "data": {
      "text/plain": [
       "3.141592653589793"
      ]
     },
     "execution_count": 223,
     "metadata": {},
     "output_type": "execute_result"
    }
   ],
   "source": [
    "math.pi"
   ]
  },
  {
   "cell_type": "code",
   "execution_count": 225,
   "id": "9b8bc04b-63c2-499a-ba51-9bfedf78d134",
   "metadata": {},
   "outputs": [],
   "source": [
    "def circle_area(radius: float) -> float:\n",
    "    area = math.pi * (radius ** 2)\n",
    "    return area"
   ]
  },
  {
   "cell_type": "code",
   "execution_count": 227,
   "id": "14d4697a-ac44-42d4-9ebd-da25835cab75",
   "metadata": {},
   "outputs": [
    {
     "data": {
      "text/plain": [
       "28.274333882308138"
      ]
     },
     "execution_count": 227,
     "metadata": {},
     "output_type": "execute_result"
    }
   ],
   "source": [
    "circle_area(3)"
   ]
  },
  {
   "cell_type": "code",
   "execution_count": 231,
   "id": "12339bb8-14c9-46c3-93d5-78aa1c5fc6fd",
   "metadata": {},
   "outputs": [],
   "source": [
    "import time as t"
   ]
  },
  {
   "cell_type": "code",
   "execution_count": 233,
   "id": "3a4db255-3b4a-4d84-b73e-4403630f89c1",
   "metadata": {},
   "outputs": [
    {
     "data": {
      "text/plain": [
       "'Sat Mar 29 12:08:50 2025'"
      ]
     },
     "execution_count": 233,
     "metadata": {},
     "output_type": "execute_result"
    }
   ],
   "source": [
    "t.asctime()"
   ]
  },
  {
   "cell_type": "code",
   "execution_count": 237,
   "id": "217c2d27-28f4-42b0-b73e-9a024bc35cfc",
   "metadata": {},
   "outputs": [
    {
     "name": "stdout",
     "output_type": "stream",
     "text": [
      "morning\n",
      "wake up\n"
     ]
    }
   ],
   "source": [
    "print(\"morning\")\n",
    "t.sleep(5)\n",
    "print(\"wake up\")"
   ]
  },
  {
   "cell_type": "code",
   "execution_count": 239,
   "id": "f99b59f4-eb69-42e7-a952-135504d2310f",
   "metadata": {},
   "outputs": [],
   "source": [
    "# selective imports"
   ]
  },
  {
   "cell_type": "code",
   "execution_count": 241,
   "id": "8d7dc8ab-d48b-4fa1-85f7-bde788f927f9",
   "metadata": {},
   "outputs": [],
   "source": [
    "from math import sqrt, sin, pi"
   ]
  },
  {
   "cell_type": "code",
   "execution_count": 243,
   "id": "2f76b389-06fe-4cc0-aa45-6dd341ddee25",
   "metadata": {},
   "outputs": [
    {
     "data": {
      "text/plain": [
       "10.0"
      ]
     },
     "execution_count": 243,
     "metadata": {},
     "output_type": "execute_result"
    }
   ],
   "source": [
    "sqrt(100)"
   ]
  },
  {
   "cell_type": "code",
   "execution_count": 245,
   "id": "968d74e3-5c02-4da8-a2ca-113fdf407953",
   "metadata": {},
   "outputs": [
    {
     "data": {
      "text/plain": [
       "-0.3048106211022167"
      ]
     },
     "execution_count": 245,
     "metadata": {},
     "output_type": "execute_result"
    }
   ],
   "source": [
    "sin(60)"
   ]
  },
  {
   "cell_type": "code",
   "execution_count": 247,
   "id": "2d3e2f43-ef29-4b59-b9c8-982313e6cd1f",
   "metadata": {},
   "outputs": [
    {
     "data": {
      "text/plain": [
       "3.141592653589793"
      ]
     },
     "execution_count": 247,
     "metadata": {},
     "output_type": "execute_result"
    }
   ],
   "source": [
    "pi"
   ]
  },
  {
   "cell_type": "code",
   "execution_count": 249,
   "id": "51d4f0d2-f68a-43ae-8612-0675a9c05833",
   "metadata": {},
   "outputs": [
    {
     "data": {
      "text/plain": [
       "'C:\\\\Users\\\\Aditya\\\\MITU MAR 2025'"
      ]
     },
     "execution_count": 249,
     "metadata": {},
     "output_type": "execute_result"
    }
   ],
   "source": [
    "pwd"
   ]
  },
  {
   "cell_type": "code",
   "execution_count": null,
   "id": "481cd802-d245-4af4-9dfa-ae41f764d979",
   "metadata": {},
   "outputs": [],
   "source": []
  }
 ],
 "metadata": {
  "kernelspec": {
   "display_name": "Python [conda env:Orange]",
   "language": "python",
   "name": "conda-env-Orange-py"
  },
  "language_info": {
   "codemirror_mode": {
    "name": "ipython",
    "version": 3
   },
   "file_extension": ".py",
   "mimetype": "text/x-python",
   "name": "python",
   "nbconvert_exporter": "python",
   "pygments_lexer": "ipython3",
   "version": "3.11.8"
  }
 },
 "nbformat": 4,
 "nbformat_minor": 5
}
