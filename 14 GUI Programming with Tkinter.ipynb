{
 "cells": [
  {
   "cell_type": "code",
   "execution_count": 1,
   "id": "a6028046-c0d9-4a43-a824-bf0f5b8022d1",
   "metadata": {},
   "outputs": [],
   "source": [
    "from tkinter import *"
   ]
  },
  {
   "cell_type": "markdown",
   "id": "659e920d-7932-4e9c-96ba-01354f320c5d",
   "metadata": {},
   "source": [
    "##### Simple Window"
   ]
  },
  {
   "cell_type": "code",
   "execution_count": 5,
   "id": "dce2ea18-b403-4bc0-aef6-459318b60984",
   "metadata": {},
   "outputs": [],
   "source": [
    "top = Tk()\n",
    "\n",
    "top.mainloop()"
   ]
  },
  {
   "cell_type": "markdown",
   "id": "dfbfa99e-109a-4260-ae83-6be41f335f4a",
   "metadata": {},
   "source": [
    "##### Decorate the window"
   ]
  },
  {
   "cell_type": "code",
   "execution_count": 8,
   "id": "85cff30b-9ec8-4397-946d-092bdeddf3c4",
   "metadata": {},
   "outputs": [],
   "source": [
    "top = Tk()\n",
    "top.geometry('600x400')\n",
    "top.title('My first application')\n",
    "top.mainloop()"
   ]
  },
  {
   "cell_type": "markdown",
   "id": "65853ee9-4997-4abe-bd0d-f803a70b50e2",
   "metadata": {},
   "source": [
    "##### Label on window"
   ]
  },
  {
   "cell_type": "code",
   "execution_count": 12,
   "id": "203d94da-f35d-4745-9b60-c19b21f43375",
   "metadata": {},
   "outputs": [],
   "source": [
    "top = Tk()\n",
    "top.geometry('600x400')\n",
    "top.title('Demo of Label')\n",
    "\n",
    "l = Label(top, text='Welcome to Tkinter Programming!')  # Create the object\n",
    "l.pack()   # attach to the main window\n",
    "\n",
    "top.mainloop()"
   ]
  },
  {
   "cell_type": "code",
   "execution_count": 25,
   "id": "5e0ca33e-757f-4d73-9505-c851a1aa45bb",
   "metadata": {},
   "outputs": [],
   "source": [
    "top = Tk()\n",
    "top.geometry('600x400')\n",
    "top.title('Demo of Label')\n",
    "\n",
    "l = Label(top, text='Welcome to Tkinter Programming!', fg='red', bg='lightblue',\n",
    "         font=('Times New Roman',20))  # Create the object\n",
    "l.pack(side=BOTTOM)   # attach to the main window\n",
    "\n",
    "top.mainloop()"
   ]
  },
  {
   "cell_type": "code",
   "execution_count": 31,
   "id": "98e9ef82-4812-4468-ab20-8d08b6d3b487",
   "metadata": {},
   "outputs": [],
   "source": [
    "top = Tk()\n",
    "top.geometry('600x400')\n",
    "top.title('Demo of Label')\n",
    "\n",
    "l1 = Label(top, text='First', fg='red', bg='lightblue',font=('Times New Roman',20)) \n",
    "l2 = Label(top, text='Second', fg='red', bg='cyan',font=('Times New Roman',20,'italic'))\n",
    "l3 = Label(top, text='Third', fg='magenta', bg='lightblue',font=('Times New Roman',20,'bold'))\n",
    "l4 = Label(top, text='Fourth', fg='green', bg='lightblue',font=('Times New Roman',20,'underline'))\n",
    "l1.pack(side=TOP)   # attach to the main window\n",
    "l2.pack(side=RIGHT) \n",
    "l3.pack(side=LEFT) \n",
    "l4.pack(side=BOTTOM) \n",
    "\n",
    "top.mainloop()"
   ]
  },
  {
   "cell_type": "markdown",
   "id": "2ccf735b-79d6-4ebd-8e41-8a02437d3c8c",
   "metadata": {},
   "source": [
    "##### Button Widget"
   ]
  },
  {
   "cell_type": "code",
   "execution_count": 34,
   "id": "3b5a5c5f-a75a-4770-a440-a62e4f3347b6",
   "metadata": {},
   "outputs": [],
   "source": [
    "top = Tk()\n",
    "top.geometry('600x400')\n",
    "top.title('Application of Button')\n",
    "\n",
    "b = Button(top, text = 'Click Here', fg = 'magenta', bg = 'yellow', \n",
    "           font=('Times New Roman',20))\n",
    "b.pack()\n",
    "top.mainloop()"
   ]
  },
  {
   "cell_type": "code",
   "execution_count": 39,
   "id": "afa232be-cee2-4651-9576-b0b05bcb210d",
   "metadata": {},
   "outputs": [],
   "source": [
    "top = Tk()\n",
    "top.geometry('600x400')\n",
    "top.title('Application of Button')\n",
    "\n",
    "b = Button(top, text = 'Click Here', fg = 'magenta', bg = 'yellow', \n",
    "           font=('Times New Roman',20))\n",
    "b.pack(side=LEFT, padx=200)\n",
    "top.mainloop()"
   ]
  },
  {
   "cell_type": "markdown",
   "id": "7d1981cb-0148-495b-83c8-22f6fce318db",
   "metadata": {},
   "source": [
    "##### Action generation using button"
   ]
  },
  {
   "cell_type": "code",
   "execution_count": 41,
   "id": "d0f3ffb6-7730-4c51-a588-84abdb53c807",
   "metadata": {},
   "outputs": [
    {
     "name": "stdout",
     "output_type": "stream",
     "text": [
      "You clicked the button!\n",
      "You clicked the button!\n",
      "You clicked the button!\n",
      "You clicked the button!\n",
      "You clicked the button!\n",
      "You clicked the button!\n"
     ]
    }
   ],
   "source": [
    "top = Tk()\n",
    "top.geometry('600x400')\n",
    "top.title('Action Generator')\n",
    "\n",
    "def calc():\n",
    "    print('You clicked the button!')\n",
    "\n",
    "b = Button(top, text = 'Click Here', fg = 'magenta', bg = 'yellow', \n",
    "           font=('Times New Roman',20), command = calc)\n",
    "b.pack(side=LEFT, padx=200)\n",
    "top.mainloop()"
   ]
  },
  {
   "cell_type": "code",
   "execution_count": 43,
   "id": "36709d74-25dc-438c-9352-b52d6d02c152",
   "metadata": {},
   "outputs": [],
   "source": [
    "top = Tk()\n",
    "top.geometry('600x400')\n",
    "top.title('Action Generator')\n",
    "\n",
    "def calc():\n",
    "    l = Label(top, text = 'Hello World!', font=('Times New Roman',20))\n",
    "    l.pack()\n",
    "\n",
    "b = Button(top, text = 'Click Here', font=('Times New Roman',20), command = calc)\n",
    "b.pack()\n",
    "top.mainloop()"
   ]
  },
  {
   "cell_type": "code",
   "execution_count": 46,
   "id": "89f3b356-8973-464d-bf06-da4d0c879add",
   "metadata": {},
   "outputs": [],
   "source": [
    "top = Tk()\n",
    "top.geometry('600x400')\n",
    "top.title('Action Generator')\n",
    "\n",
    "def calc():\n",
    "    l.config(text = 'Good Bye!', font=('Times New Roman',20), fg='red')\n",
    "\n",
    "b = Button(top, text = 'Click Here', font=('Times New Roman',20), command = calc)\n",
    "l = Label(top, text = 'Hello World!', font=('Times New Roman',20))\n",
    "b.pack()\n",
    "l.pack()\n",
    "top.mainloop()"
   ]
  },
  {
   "cell_type": "markdown",
   "id": "ab4497e2-02e6-4ec8-b859-9538e3dd9e1e",
   "metadata": {},
   "source": [
    "##### Entry textbox"
   ]
  },
  {
   "cell_type": "code",
   "execution_count": 49,
   "id": "b24c3b45-bd4d-4f08-9079-5dbf9035cc3f",
   "metadata": {},
   "outputs": [],
   "source": [
    "top = Tk()\n",
    "top.geometry('600x400')\n",
    "top.title('Application of Entry')\n",
    "\n",
    "e = Entry(top, font=('Times New Roman',20))\n",
    "e.pack()\n",
    "top.mainloop()"
   ]
  },
  {
   "cell_type": "code",
   "execution_count": 52,
   "id": "0ea7d2c0-ad4b-46f5-a666-d99c08115646",
   "metadata": {},
   "outputs": [
    {
     "name": "stdout",
     "output_type": "stream",
     "text": [
      "Square of the number: 144\n",
      "Square of the number: 36\n",
      "Square of the number: 6084\n"
     ]
    }
   ],
   "source": [
    "top = Tk()\n",
    "top.geometry('600x400')\n",
    "top.title('Find square of the number')\n",
    "\n",
    "def calc():\n",
    "    num = int(e.get())\n",
    "    print('Square of the number:', num ** 2)\n",
    "\n",
    "l = Label(top, text='Enter the number', font=('Times New Roman',20))\n",
    "e = Entry(top, font=('Times New Roman',20))\n",
    "b = Button(top, text='Find Square', font=('Times New Roman',20), command = calc)\n",
    "l.pack()\n",
    "e.pack()\n",
    "b.pack()\n",
    "top.mainloop()"
   ]
  },
  {
   "cell_type": "code",
   "execution_count": 54,
   "id": "c4f62501-386b-4ff5-bdb7-a839c7ff59cc",
   "metadata": {},
   "outputs": [],
   "source": [
    "top = Tk()\n",
    "top.geometry('600x400')\n",
    "top.title('Find square of the number')\n",
    "\n",
    "def calc():\n",
    "    num = int(e.get()) ** 2\n",
    "    out.config(text = 'Result:' + str(num))\n",
    "\n",
    "l = Label(top, text='Enter the number', font=('Times New Roman',20))\n",
    "e = Entry(top, font=('Times New Roman',20))\n",
    "b = Button(top, text='Find Square', font=('Times New Roman',20), command = calc)\n",
    "out = Label(top, text = 'Result:', font=('Times New Roman',20))\n",
    "l.pack()\n",
    "e.pack()\n",
    "b.pack()\n",
    "out.pack()\n",
    "top.mainloop()"
   ]
  },
  {
   "cell_type": "code",
   "execution_count": 55,
   "id": "3f93386a-220f-4dcd-817f-b1a25224e745",
   "metadata": {},
   "outputs": [],
   "source": [
    "top = Tk()\n",
    "top.geometry('600x400')\n",
    "top.title('Application of Entry')\n",
    "\n",
    "e = Entry(top, font=('Times New Roman',20), show = '*')\n",
    "e.pack()\n",
    "top.mainloop()"
   ]
  },
  {
   "cell_type": "markdown",
   "id": "51f3b404-590a-4011-85fd-bb3a31957123",
   "metadata": {},
   "source": [
    "##### Multi-line entry Text widget"
   ]
  },
  {
   "cell_type": "code",
   "execution_count": 61,
   "id": "8fe16aee-476b-4b1b-aefa-c4a7383bffa3",
   "metadata": {},
   "outputs": [],
   "source": [
    "top = Tk()\n",
    "top.geometry('800x500')\n",
    "top.title('Application of Text Widget')\n",
    "\n",
    "t= Text(top, font=('Times New Roman',20), height=15, width=40)\n",
    "t.pack()\n",
    "top.mainloop()"
   ]
  },
  {
   "cell_type": "code",
   "execution_count": 68,
   "id": "bf4c707b-05c1-450c-a3ce-5663572e9a54",
   "metadata": {},
   "outputs": [],
   "source": [
    "top = Tk()\n",
    "top.geometry('800x600')\n",
    "top.title('Notepad')\n",
    "\n",
    "def save():\n",
    "    f = open('demo.txt','w')\n",
    "    f.write(t.get(\"1.0\", END))\n",
    "    f.close()\n",
    "\n",
    "def clear():\n",
    "    t.delete(\"1.0\", END)\n",
    "\n",
    "t= Text(top, font=('Times New Roman',20), height=15, width=40)\n",
    "b1 = Button(top, text='Save', font=('Times New Roman',20), command = save)\n",
    "b2 = Button(top, text='Clear', font=('Times New Roman',20), command = clear)\n",
    "t.pack()\n",
    "b1.pack()\n",
    "b2.pack()\n",
    "top.mainloop()"
   ]
  },
  {
   "cell_type": "markdown",
   "id": "755e07ab-ba27-4e80-86c2-1f73706913c4",
   "metadata": {},
   "source": [
    "##### Binding the events"
   ]
  },
  {
   "cell_type": "code",
   "execution_count": 72,
   "id": "3b6b7ea9-ad9f-4b37-8abd-c8639b27719e",
   "metadata": {},
   "outputs": [
    {
     "name": "stdout",
     "output_type": "stream",
     "text": [
      "Left click!\n",
      "Right Click\n",
      "Left click!\n",
      "Double Click\n"
     ]
    }
   ],
   "source": [
    "top = Tk()\n",
    "top.geometry('800x600')\n",
    "top.title('Simple Binding of Events')\n",
    "\n",
    "def hello(event):\n",
    "    print('Left click!')\n",
    "\n",
    "def quit(event):\n",
    "    print('Double Click')\n",
    "\n",
    "def right(event):\n",
    "    print('Right Click')\n",
    "\n",
    "b = Button(top, text = 'Button Click', font=('Times New Roman',20))\n",
    "b.bind('<Button-1>', hello)\n",
    "b.bind('<Double-1>', quit)\n",
    "b.bind('<Button-3>', right)\n",
    "b.pack()\n",
    "top.mainloop()"
   ]
  },
  {
   "cell_type": "markdown",
   "id": "8b47c829-c9da-4878-b5bc-ad0ca469a9bf",
   "metadata": {},
   "source": [
    "##### Pack manager"
   ]
  },
  {
   "cell_type": "code",
   "execution_count": 81,
   "id": "30e62e4b-13a3-47ee-b81e-afca111e20bf",
   "metadata": {},
   "outputs": [],
   "source": [
    "top = Tk()\n",
    "top.geometry('600x400')\n",
    "top.title('Demo of Label')\n",
    "\n",
    "l1 = Label(top, text='First', fg='red', bg='yellow',font=('Times New Roman',20)) \n",
    "l2 = Label(top, text='Second', fg='red', bg='cyan',font=('Times New Roman',20,'italic'))\n",
    "l3 = Label(top, text='Third', fg='magenta', bg='lightblue',font=('Times New Roman',20,'bold'))\n",
    "l1.pack(fill=X, padx = 20, pady = 20)   # attach to the main window\n",
    "l2.pack(fill=X, padx = 20, pady = 20) \n",
    "l3.pack(fill=X, padx = 20, pady = 20) \n",
    "\n",
    "top.mainloop()"
   ]
  },
  {
   "cell_type": "markdown",
   "id": "7009b421-07ac-48f7-9f24-e4be191f6e43",
   "metadata": {},
   "source": [
    "##### Place manager"
   ]
  },
  {
   "cell_type": "code",
   "execution_count": 89,
   "id": "70d995d8-4a93-46e0-9e1f-e2b22ba4877e",
   "metadata": {},
   "outputs": [],
   "source": [
    "top = Tk()\n",
    "top.geometry('600x400')\n",
    "top.title('Find square of the number')\n",
    "\n",
    "def calc():\n",
    "    num = int(e.get()) ** 2\n",
    "    out.config(text = 'Result: ' + str(num))\n",
    "\n",
    "l = Label(top, text='Enter the number', font=('Times New Roman',20))\n",
    "e = Entry(top, font=('Times New Roman',20))\n",
    "b = Button(top, text='Find Square', font=('Times New Roman',20), command = calc)\n",
    "out = Label(top, text = 'Result:', font=('Times New Roman',20))\n",
    "l.place(x=20, y=20, width=200, height=30)\n",
    "e.place(x=250, y=20)\n",
    "b.place(x=250, y=80)\n",
    "out.place(x=250,y=150)\n",
    "top.mainloop()"
   ]
  },
  {
   "cell_type": "markdown",
   "id": "2d412f6e-7d44-43a1-b019-3ed49d009dca",
   "metadata": {},
   "source": [
    "##### Grid manager"
   ]
  },
  {
   "cell_type": "code",
   "execution_count": 91,
   "id": "d12d690e-7ec2-4fb9-acc1-0402b85abf07",
   "metadata": {},
   "outputs": [],
   "source": [
    "top = Tk()\n",
    "top.geometry('600x400')\n",
    "top.title('Find square of the number')\n",
    "\n",
    "def calc():\n",
    "    num = int(e.get()) ** 2\n",
    "    out.config(text = 'Result: ' + str(num))\n",
    "\n",
    "l = Label(top, text='Enter the number', font=('Times New Roman',20))\n",
    "e = Entry(top, font=('Times New Roman',20))\n",
    "b = Button(top, text='Find Square', font=('Times New Roman',20), command = calc)\n",
    "out = Label(top, text = 'Result:', font=('Times New Roman',20))\n",
    "l.grid(row=0, column=0)\n",
    "e.grid(row=0, column=1)\n",
    "b.grid(row=1, column=0)\n",
    "out.grid(row=1, column=1)\n",
    "top.mainloop()"
   ]
  },
  {
   "cell_type": "markdown",
   "id": "c2f58987-ded6-4814-af26-7a4c28bcf5ee",
   "metadata": {},
   "source": [
    "##### Simple Calculator"
   ]
  },
  {
   "cell_type": "code",
   "execution_count": 111,
   "id": "161c91fc-aede-4eb7-a1ea-d77dd55d8d44",
   "metadata": {},
   "outputs": [],
   "source": [
    "top = Tk()\n",
    "top.geometry('600x400')\n",
    "top.title('Simple Calculator')\n",
    "def add():\n",
    "    a = int(num1.get()) + int(num2.get())\n",
    "    result.config(text='Addition:' + str(a))\n",
    "\n",
    "def sub():\n",
    "    a = int(num1.get()) - int(num2.get())\n",
    "    result.config(text='Subtraction:' + str(a))\n",
    "\n",
    "def mul():\n",
    "    a = int(num1.get()) * int(num2.get())\n",
    "    result.config(text='Multiplication:' + str(a))\n",
    "\n",
    "def div():\n",
    "    a = int(num1.get()) / int(num2.get())\n",
    "    result.config(text='Division:' + str(a))\n",
    "\n",
    "num1 = Entry(top, font=('Times New Roman',20))\n",
    "num2 = Entry(top, font=('Times New Roman',20))\n",
    "add = Button(top, text=\"Add\", font=('Times New Roman',20), command=add)\n",
    "sub = Button(top, text=\"Sub\", font=('Times New Roman',20), command=sub)\n",
    "mul = Button(top, text=\"Mul\", font=('Times New Roman',20), command=mul)\n",
    "div = Button(top, text=\"Div\", font=('Times New Roman',20), command=div)\n",
    "result = Label(top, text=\"Result: \", font=('Times New Roman',20))\n",
    "num1.place(x=50, y=20);   num2.place(x=300, y=20);\n",
    "add.place(x=50,y=100); sub.place(x=150,y=100); mul.place(x=250,y=100); div.place(x=350,y=100);\n",
    "result.place(x=50, y=200)\n",
    "top.mainloop()"
   ]
  },
  {
   "cell_type": "code",
   "execution_count": null,
   "id": "c22d7885-468e-44e7-bd06-deea08e1080e",
   "metadata": {},
   "outputs": [],
   "source": []
  }
 ],
 "metadata": {
  "kernelspec": {
   "display_name": "Python 3 (ipykernel)",
   "language": "python",
   "name": "python3"
  },
  "language_info": {
   "codemirror_mode": {
    "name": "ipython",
    "version": 3
   },
   "file_extension": ".py",
   "mimetype": "text/x-python",
   "name": "python",
   "nbconvert_exporter": "python",
   "pygments_lexer": "ipython3",
   "version": "3.10.12"
  }
 },
 "nbformat": 4,
 "nbformat_minor": 5
}
