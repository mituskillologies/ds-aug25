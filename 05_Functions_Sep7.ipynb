{
 "cells": [
  {
   "cell_type": "code",
   "execution_count": 3,
   "id": "46d3dc05-06c4-4ef4-be18-940f244a45ef",
   "metadata": {},
   "outputs": [],
   "source": [
    "def show():                         # function definition\n",
    "    print(\"hello\")\n",
    "    print(\"this is the function\")\n",
    "    print(\"ok\")"
   ]
  },
  {
   "cell_type": "code",
   "execution_count": 5,
   "id": "b6f08c2b-37ab-42ce-81a0-5fbc16dcd2a4",
   "metadata": {},
   "outputs": [
    {
     "name": "stdout",
     "output_type": "stream",
     "text": [
      "hello\n",
      "this is the function\n",
      "ok\n"
     ]
    }
   ],
   "source": [
    "show()   # function call"
   ]
  },
  {
   "cell_type": "code",
   "execution_count": 7,
   "id": "ef372155-0e36-4e88-8495-619d011e9844",
   "metadata": {},
   "outputs": [
    {
     "name": "stdout",
     "output_type": "stream",
     "text": [
      "hello\n",
      "this is the function\n",
      "ok\n",
      "hello\n",
      "this is the function\n",
      "ok\n",
      "hello\n",
      "this is the function\n",
      "ok\n"
     ]
    }
   ],
   "source": [
    "show()\n",
    "show()\n",
    "show()"
   ]
  },
  {
   "cell_type": "code",
   "execution_count": 9,
   "id": "3a2b703a-2337-4e1b-8dfd-7973a6b2582c",
   "metadata": {},
   "outputs": [],
   "source": [
    "# parameterized function"
   ]
  },
  {
   "cell_type": "code",
   "execution_count": 15,
   "id": "7ffb7fe2-5a8d-4868-9fb3-8c283327ab06",
   "metadata": {},
   "outputs": [],
   "source": [
    "def square(a):\n",
    "    res = a * a\n",
    "    print(res)"
   ]
  },
  {
   "cell_type": "code",
   "execution_count": 17,
   "id": "a947ace2-b197-4bb5-bd51-0680c9142c38",
   "metadata": {},
   "outputs": [
    {
     "name": "stdout",
     "output_type": "stream",
     "text": [
      "100\n"
     ]
    }
   ],
   "source": [
    "square(10)"
   ]
  },
  {
   "cell_type": "code",
   "execution_count": 19,
   "id": "61a43617-8622-45e9-84a5-53475a2c6d75",
   "metadata": {},
   "outputs": [],
   "source": [
    "def largest(a, b):\n",
    "    if a > b:\n",
    "        print(a)\n",
    "    elif a == b:\n",
    "        print(\"equal\")\n",
    "    else:\n",
    "        print(b)"
   ]
  },
  {
   "cell_type": "code",
   "execution_count": 21,
   "id": "cb80db3e-74c7-499a-89f3-1925643b9d72",
   "metadata": {},
   "outputs": [
    {
     "name": "stdout",
     "output_type": "stream",
     "text": [
      "9\n"
     ]
    }
   ],
   "source": [
    "largest(5, 9)"
   ]
  },
  {
   "cell_type": "code",
   "execution_count": 23,
   "id": "e5f3c337-0a7c-44ed-b83d-4e2cb470b859",
   "metadata": {},
   "outputs": [],
   "source": [
    "# type hinting and doc"
   ]
  },
  {
   "cell_type": "code",
   "execution_count": 25,
   "id": "d00ba3df-f99a-4f3c-9855-bf3897d8f5f6",
   "metadata": {},
   "outputs": [
    {
     "name": "stdout",
     "output_type": "stream",
     "text": [
      "Help on function largest in module __main__:\n",
      "\n",
      "largest(a, b)\n",
      "\n"
     ]
    }
   ],
   "source": [
    "help(largest)"
   ]
  },
  {
   "cell_type": "code",
   "execution_count": 27,
   "id": "8f8a211a-a49c-4c70-8cec-da8690e40887",
   "metadata": {},
   "outputs": [
    {
     "name": "stdout",
     "output_type": "stream",
     "text": [
      "Help on _Helper in module _sitebuiltins object:\n",
      "\n",
      "class _Helper(builtins.object)\n",
      " |  Define the builtin 'help'.\n",
      " |  \n",
      " |  This is a wrapper around pydoc.help that provides a helpful message\n",
      " |  when 'help' is typed at the Python interactive prompt.\n",
      " |  \n",
      " |  Calling help() at the Python prompt starts an interactive help session.\n",
      " |  Calling help(thing) prints help for the python object 'thing'.\n",
      " |  \n",
      " |  Methods defined here:\n",
      " |  \n",
      " |  __call__(self, *args, **kwds)\n",
      " |      Call self as a function.\n",
      " |  \n",
      " |  __repr__(self)\n",
      " |      Return repr(self).\n",
      " |  \n",
      " |  ----------------------------------------------------------------------\n",
      " |  Data descriptors defined here:\n",
      " |  \n",
      " |  __dict__\n",
      " |      dictionary for instance variables\n",
      " |  \n",
      " |  __weakref__\n",
      " |      list of weak references to the object\n",
      "\n"
     ]
    }
   ],
   "source": [
    "help(help)"
   ]
  },
  {
   "cell_type": "code",
   "execution_count": 29,
   "id": "2da58981-456d-473c-9033-f26633d7fb65",
   "metadata": {},
   "outputs": [],
   "source": [
    "def largest(a: int, b: int) -> str:\n",
    "    if a > b:\n",
    "        print(f\"largest is {a}\")\n",
    "    elif a == b:\n",
    "        print(\"equal\")\n",
    "    else:\n",
    "        print(f\" largest is {b} \")"
   ]
  },
  {
   "cell_type": "code",
   "execution_count": 31,
   "id": "f219d447-2f8a-410a-aef1-a37164ae523c",
   "metadata": {},
   "outputs": [
    {
     "name": "stdout",
     "output_type": "stream",
     "text": [
      " largest is 8 \n"
     ]
    }
   ],
   "source": [
    "largest(5, 8)"
   ]
  },
  {
   "cell_type": "code",
   "execution_count": 33,
   "id": "56813670-9db4-4d0a-9459-dde8a6678054",
   "metadata": {},
   "outputs": [
    {
     "name": "stdout",
     "output_type": "stream",
     "text": [
      "Help on function largest in module __main__:\n",
      "\n",
      "largest(a: int, b: int) -> str\n",
      "\n"
     ]
    }
   ],
   "source": [
    "help(largest)"
   ]
  },
  {
   "cell_type": "code",
   "execution_count": 35,
   "id": "fa3a0d72-dc30-44eb-bf5c-df2512fe33f8",
   "metadata": {},
   "outputs": [],
   "source": [
    "def largest(a: int, b: int) -> str:\n",
    "    \"\"\"\n",
    "    takes two integers to compare and finds the largest\n",
    "\n",
    "    Parameters\n",
    "    __________\n",
    "                a: int\n",
    "                    the first integer\n",
    "                b: int\n",
    "                    the second integer\n",
    "\n",
    "    Returns\n",
    "    ________\n",
    "                int:\n",
    "                    largest value between 'a' and 'b'\n",
    "                    \n",
    "    \"\"\"\n",
    "\n",
    "    \n",
    "    if a > b:\n",
    "        print(f\"largest is {a}\")\n",
    "    elif a == b:\n",
    "        print(\"equal\")\n",
    "    else:\n",
    "        print(f\" largest is {b} \")"
   ]
  },
  {
   "cell_type": "code",
   "execution_count": 37,
   "id": "36054330-70f6-4e20-9b32-4c818824b574",
   "metadata": {},
   "outputs": [
    {
     "name": "stdout",
     "output_type": "stream",
     "text": [
      "Help on function largest in module __main__:\n",
      "\n",
      "largest(a: int, b: int) -> str\n",
      "    takes two integers to compare and finds the largest\n",
      "    \n",
      "    Parameters\n",
      "    __________\n",
      "                a: int\n",
      "                    the first integer\n",
      "                b: int\n",
      "                    the second integer\n",
      "    \n",
      "    Returns\n",
      "    ________\n",
      "                int:\n",
      "                    largest value between 'a' and 'b'\n",
      "\n"
     ]
    }
   ],
   "source": [
    "help(largest)"
   ]
  },
  {
   "cell_type": "code",
   "execution_count": 39,
   "id": "0a5078fb-2f76-464b-a030-6d603d11f53f",
   "metadata": {},
   "outputs": [],
   "source": [
    "# write a function to display a string 'n' number of times"
   ]
  },
  {
   "cell_type": "code",
   "execution_count": 43,
   "id": "cd971dda-9c7b-40b6-b680-d8d07fced338",
   "metadata": {},
   "outputs": [],
   "source": [
    "def dis(name, count):\n",
    "    for i in range(count):\n",
    "        print(name)"
   ]
  },
  {
   "cell_type": "code",
   "execution_count": 45,
   "id": "d1791185-dc02-473d-851f-dc86d9bcc8b0",
   "metadata": {},
   "outputs": [
    {
     "name": "stdout",
     "output_type": "stream",
     "text": [
      "pune\n",
      "pune\n",
      "pune\n",
      "pune\n",
      "pune\n"
     ]
    }
   ],
   "source": [
    "dis(\"pune\", 5)"
   ]
  },
  {
   "cell_type": "code",
   "execution_count": 47,
   "id": "778f7bfd-c3e7-43d2-8281-bf1fdf3b09e5",
   "metadata": {},
   "outputs": [],
   "source": [
    "# 'print' and 'return'"
   ]
  },
  {
   "cell_type": "code",
   "execution_count": 49,
   "id": "d83c908b-1480-4a78-aa08-e5d94ab066bc",
   "metadata": {},
   "outputs": [],
   "source": [
    "def square(a):\n",
    "    res = a * a\n",
    "    print(res)"
   ]
  },
  {
   "cell_type": "code",
   "execution_count": 51,
   "id": "b50d85a6-e941-4666-a195-456722ebbb7a",
   "metadata": {},
   "outputs": [
    {
     "name": "stdout",
     "output_type": "stream",
     "text": [
      "25\n"
     ]
    }
   ],
   "source": [
    "square(5)"
   ]
  },
  {
   "cell_type": "code",
   "execution_count": 53,
   "id": "1a86f81d-b856-42ad-9494-e42e5822fb16",
   "metadata": {},
   "outputs": [
    {
     "name": "stdout",
     "output_type": "stream",
     "text": [
      "25\n"
     ]
    }
   ],
   "source": [
    "z = square(5)"
   ]
  },
  {
   "cell_type": "code",
   "execution_count": 55,
   "id": "c8974eb8-e5c1-4657-bfb0-0ad433b43e86",
   "metadata": {},
   "outputs": [
    {
     "name": "stdout",
     "output_type": "stream",
     "text": [
      "None\n"
     ]
    }
   ],
   "source": [
    "print(z)"
   ]
  },
  {
   "cell_type": "code",
   "execution_count": 57,
   "id": "335b143a-af73-40ea-a35f-324cf93c2c21",
   "metadata": {},
   "outputs": [],
   "source": [
    "def square(a):\n",
    "    res = a * a\n",
    "    return res"
   ]
  },
  {
   "cell_type": "code",
   "execution_count": 59,
   "id": "299e745c-6a6a-4ade-b520-3eeda62ac1a7",
   "metadata": {},
   "outputs": [],
   "source": [
    "z = square(5)"
   ]
  },
  {
   "cell_type": "code",
   "execution_count": 61,
   "id": "68d8cd83-899a-462c-a8b5-54cfb30e2e6b",
   "metadata": {},
   "outputs": [
    {
     "name": "stdout",
     "output_type": "stream",
     "text": [
      "25\n"
     ]
    }
   ],
   "source": [
    "print(z)"
   ]
  },
  {
   "cell_type": "code",
   "execution_count": 63,
   "id": "105a4c0f-906e-43b1-b9a1-e3bb3f01b385",
   "metadata": {},
   "outputs": [],
   "source": [
    "# find the largest number function with return"
   ]
  },
  {
   "cell_type": "code",
   "execution_count": 67,
   "id": "6921a7cf-64b7-47b8-b76c-b2733fe3149f",
   "metadata": {},
   "outputs": [],
   "source": [
    "def largest(a, b):\n",
    "    if a > b:\n",
    "        return a\n",
    "    elif a == b:\n",
    "        return \"equal\"\n",
    "    else:\n",
    "        return b"
   ]
  },
  {
   "cell_type": "code",
   "execution_count": 69,
   "id": "08a1c1bb-81ca-4060-96b8-5a799c120b2f",
   "metadata": {},
   "outputs": [
    {
     "data": {
      "text/plain": [
       "10"
      ]
     },
     "execution_count": 69,
     "metadata": {},
     "output_type": "execute_result"
    }
   ],
   "source": [
    "largest(5, 10)"
   ]
  },
  {
   "cell_type": "code",
   "execution_count": 71,
   "id": "1e816245-6cb8-45d3-b4b3-e1075a6c29a9",
   "metadata": {},
   "outputs": [],
   "source": [
    "# multi-return"
   ]
  },
  {
   "cell_type": "code",
   "execution_count": 73,
   "id": "77266355-0457-4f9e-b0eb-3cb481be93fc",
   "metadata": {},
   "outputs": [],
   "source": [
    "def calc(n):\n",
    "    sq = n * n\n",
    "    cu = n ** 3\n",
    "    return sq, cu"
   ]
  },
  {
   "cell_type": "code",
   "execution_count": 75,
   "id": "9efcb978-fbb6-4440-8cb5-681d76536ab4",
   "metadata": {},
   "outputs": [
    {
     "data": {
      "text/plain": [
       "(9, 27)"
      ]
     },
     "execution_count": 75,
     "metadata": {},
     "output_type": "execute_result"
    }
   ],
   "source": [
    "calc(3)"
   ]
  },
  {
   "cell_type": "code",
   "execution_count": 79,
   "id": "db249f22-f446-45a4-bfb2-1d6799e0c049",
   "metadata": {},
   "outputs": [],
   "source": [
    "# default parameters"
   ]
  },
  {
   "cell_type": "code",
   "execution_count": 89,
   "id": "3ed82f9a-7675-4c86-9fa8-f78b935f1612",
   "metadata": {},
   "outputs": [],
   "source": [
    "def add3(a = 5, b = 10, c = 1):\n",
    "    res = a + b + c\n",
    "    return res"
   ]
  },
  {
   "cell_type": "code",
   "execution_count": 91,
   "id": "93b8eb24-3e5d-4e84-a9b8-f221e60b3d89",
   "metadata": {},
   "outputs": [
    {
     "data": {
      "text/plain": [
       "16"
      ]
     },
     "execution_count": 91,
     "metadata": {},
     "output_type": "execute_result"
    }
   ],
   "source": [
    "add3()"
   ]
  },
  {
   "cell_type": "code",
   "execution_count": 93,
   "id": "81a2bb99-9f24-4b59-8d64-24b84dc0ade3",
   "metadata": {},
   "outputs": [
    {
     "data": {
      "text/plain": [
       "8"
      ]
     },
     "execution_count": 93,
     "metadata": {},
     "output_type": "execute_result"
    }
   ],
   "source": [
    "add3(2, 5)"
   ]
  },
  {
   "cell_type": "code",
   "execution_count": 95,
   "id": "ca4b5fbc-4f8e-412f-88ff-fc61da660f32",
   "metadata": {},
   "outputs": [
    {
     "data": {
      "text/plain": [
       "15"
      ]
     },
     "execution_count": 95,
     "metadata": {},
     "output_type": "execute_result"
    }
   ],
   "source": [
    "add3(4)"
   ]
  },
  {
   "cell_type": "code",
   "execution_count": 97,
   "id": "f85e3996-ff3b-4194-aad0-1b7ad5f2ef48",
   "metadata": {},
   "outputs": [],
   "source": [
    "# call -> provide value of a, c .... should take default value of b"
   ]
  },
  {
   "cell_type": "code",
   "execution_count": 99,
   "id": "5ed3c32e-90cf-474d-87a1-61f2a9425d94",
   "metadata": {},
   "outputs": [
    {
     "data": {
      "text/plain": [
       "30"
      ]
     },
     "execution_count": 99,
     "metadata": {},
     "output_type": "execute_result"
    }
   ],
   "source": [
    "add3(a = 13, c = 7)"
   ]
  },
  {
   "cell_type": "code",
   "execution_count": 101,
   "id": "c3d2cb2a-acd8-41ff-a7fb-211eb58bdf31",
   "metadata": {},
   "outputs": [],
   "source": [
    "# dynamic or variable length parameters"
   ]
  },
  {
   "cell_type": "code",
   "execution_count": 103,
   "id": "3973c904-a51f-4079-8a2c-ecd1881e6371",
   "metadata": {},
   "outputs": [],
   "source": [
    "def add_all(*args):\n",
    "\n",
    "    return sum(args)"
   ]
  },
  {
   "cell_type": "code",
   "execution_count": 107,
   "id": "942d6270-8335-45e8-90cf-025c9978f08a",
   "metadata": {},
   "outputs": [
    {
     "data": {
      "text/plain": [
       "40"
      ]
     },
     "execution_count": 107,
     "metadata": {},
     "output_type": "execute_result"
    }
   ],
   "source": [
    "add_all(3, 4, 5, 5, 5, 8, 10)"
   ]
  },
  {
   "cell_type": "code",
   "execution_count": 109,
   "id": "f5d89aef-3d3a-4c7d-80d5-67bcf822f7f2",
   "metadata": {},
   "outputs": [],
   "source": [
    "# lambda function"
   ]
  },
  {
   "cell_type": "code",
   "execution_count": 111,
   "id": "628c0b3c-ec7f-4295-a24c-649ae880dfc3",
   "metadata": {},
   "outputs": [],
   "source": [
    "square = lambda x: x * x"
   ]
  },
  {
   "cell_type": "code",
   "execution_count": 113,
   "id": "3f22c8e2-32b3-4290-a67d-4da1d0d2d102",
   "metadata": {},
   "outputs": [
    {
     "data": {
      "text/plain": [
       "16"
      ]
     },
     "execution_count": 113,
     "metadata": {},
     "output_type": "execute_result"
    }
   ],
   "source": [
    "square(4)"
   ]
  },
  {
   "cell_type": "code",
   "execution_count": 115,
   "id": "7553a8f4-41d0-4610-8136-5ce3b2839219",
   "metadata": {},
   "outputs": [],
   "source": [
    "# syntax -> lambda arguments: expression"
   ]
  },
  {
   "cell_type": "code",
   "execution_count": 117,
   "id": "2d89a91c-d1c6-4235-b1ad-955df7a1bdbe",
   "metadata": {},
   "outputs": [],
   "source": [
    "# create for aaddition of 2 numbers"
   ]
  },
  {
   "cell_type": "code",
   "execution_count": 119,
   "id": "7684bb0a-6502-4908-a888-5cd9c6811e21",
   "metadata": {},
   "outputs": [],
   "source": [
    "ad = lambda x, y: x + y"
   ]
  },
  {
   "cell_type": "code",
   "execution_count": 121,
   "id": "cc7bbd00-c484-44e4-b720-50df7fc62a78",
   "metadata": {},
   "outputs": [
    {
     "data": {
      "text/plain": [
       "9"
      ]
     },
     "execution_count": 121,
     "metadata": {},
     "output_type": "execute_result"
    }
   ],
   "source": [
    "ad(4, 5)"
   ]
  },
  {
   "cell_type": "code",
   "execution_count": 123,
   "id": "74e5d986-53fb-47a1-97e2-2a6839865c62",
   "metadata": {},
   "outputs": [],
   "source": [
    "# filter"
   ]
  },
  {
   "cell_type": "code",
   "execution_count": 125,
   "id": "b49fb928-ce03-4119-a109-ff4d528194f7",
   "metadata": {},
   "outputs": [],
   "source": [
    "l = [12, 23, 34, 31, 60, 43, 20]"
   ]
  },
  {
   "cell_type": "code",
   "execution_count": 127,
   "id": "484a5cca-3b32-45f0-9662-3c50ac7b30c9",
   "metadata": {},
   "outputs": [],
   "source": [
    "newl = filter(lambda x: x > 30, l)"
   ]
  },
  {
   "cell_type": "code",
   "execution_count": 131,
   "id": "29a77c54-3345-44dd-94f9-7e03a07d90b7",
   "metadata": {},
   "outputs": [
    {
     "data": {
      "text/plain": [
       "[34, 31, 60, 43]"
      ]
     },
     "execution_count": 131,
     "metadata": {},
     "output_type": "execute_result"
    }
   ],
   "source": [
    "list(newl)"
   ]
  },
  {
   "cell_type": "code",
   "execution_count": 133,
   "id": "1a4146fe-d290-4cda-a68e-a5fbec938eee",
   "metadata": {},
   "outputs": [],
   "source": [
    "# map"
   ]
  },
  {
   "cell_type": "code",
   "execution_count": 143,
   "id": "3751f3ac-595d-476b-8f75-938629a155fb",
   "metadata": {},
   "outputs": [],
   "source": [
    "newl2 = map(lambda a: a * a, l)"
   ]
  },
  {
   "cell_type": "code",
   "execution_count": 145,
   "id": "8ef258a1-be3d-4f9d-a9f1-19c48a487103",
   "metadata": {},
   "outputs": [
    {
     "data": {
      "text/plain": [
       "[144, 529, 1156, 961, 3600, 1849, 400]"
      ]
     },
     "execution_count": 145,
     "metadata": {},
     "output_type": "execute_result"
    }
   ],
   "source": [
    "list(newl2)"
   ]
  },
  {
   "cell_type": "code",
   "execution_count": 147,
   "id": "cd0b860d-8709-4c88-a627-825ab85e17fe",
   "metadata": {},
   "outputs": [
    {
     "data": {
      "text/plain": [
       "[False, False, True, True, True, True, False]"
      ]
     },
     "execution_count": 147,
     "metadata": {},
     "output_type": "execute_result"
    }
   ],
   "source": [
    "newl = map(lambda x: x > 30, l)\n",
    "list(newl)"
   ]
  },
  {
   "cell_type": "code",
   "execution_count": 149,
   "id": "3631f140-5609-4c09-9513-81e3f5c9d12b",
   "metadata": {},
   "outputs": [
    {
     "data": {
      "text/plain": [
       "7"
      ]
     },
     "execution_count": 149,
     "metadata": {},
     "output_type": "execute_result"
    }
   ],
   "source": [
    "largest(4, 7)"
   ]
  },
  {
   "cell_type": "markdown",
   "id": "4ba6460f-8ec5-4a81-b5b2-794ea38e91b7",
   "metadata": {},
   "source": [
    "# Modules"
   ]
  },
  {
   "cell_type": "code",
   "execution_count": 152,
   "id": "71557518-5811-4662-a713-c6707c6e071b",
   "metadata": {},
   "outputs": [],
   "source": [
    "import math"
   ]
  },
  {
   "cell_type": "code",
   "execution_count": 154,
   "id": "3b1c3c5c-3879-41a6-a459-7baf122649d8",
   "metadata": {},
   "outputs": [
    {
     "data": {
      "text/plain": [
       "7.0"
      ]
     },
     "execution_count": 154,
     "metadata": {},
     "output_type": "execute_result"
    }
   ],
   "source": [
    "math.sqrt(49)"
   ]
  },
  {
   "cell_type": "code",
   "execution_count": 156,
   "id": "61a798d6-e31f-4d5a-b3a3-fa51e2e5b756",
   "metadata": {},
   "outputs": [
    {
     "ename": "NameError",
     "evalue": "name 'sqrt' is not defined",
     "output_type": "error",
     "traceback": [
      "\u001b[1;31m---------------------------------------------------------------------------\u001b[0m",
      "\u001b[1;31mNameError\u001b[0m                                 Traceback (most recent call last)",
      "Cell \u001b[1;32mIn[156], line 1\u001b[0m\n\u001b[1;32m----> 1\u001b[0m \u001b[43msqrt\u001b[49m(\u001b[38;5;241m49\u001b[39m)\n",
      "\u001b[1;31mNameError\u001b[0m: name 'sqrt' is not defined"
     ]
    }
   ],
   "source": [
    "sqrt(49)"
   ]
  },
  {
   "cell_type": "code",
   "execution_count": 158,
   "id": "22f49dd9-33e9-4bbe-abbf-478640776630",
   "metadata": {},
   "outputs": [
    {
     "data": {
      "text/plain": [
       "0.8939966636005579"
      ]
     },
     "execution_count": 158,
     "metadata": {},
     "output_type": "execute_result"
    }
   ],
   "source": [
    "math.sin(90)"
   ]
  },
  {
   "cell_type": "code",
   "execution_count": 160,
   "id": "d877f8ea-327f-43bc-b958-2e9824efe329",
   "metadata": {},
   "outputs": [],
   "source": [
    "import math as m"
   ]
  },
  {
   "cell_type": "code",
   "execution_count": 162,
   "id": "4a0f533d-459c-4b18-99b2-f0d3bb602bb6",
   "metadata": {},
   "outputs": [
    {
     "data": {
      "text/plain": [
       "10.0"
      ]
     },
     "execution_count": 162,
     "metadata": {},
     "output_type": "execute_result"
    }
   ],
   "source": [
    "m.sqrt(100)"
   ]
  },
  {
   "cell_type": "code",
   "execution_count": 164,
   "id": "ace23f69-e676-42ea-9672-5e4a5679a845",
   "metadata": {},
   "outputs": [
    {
     "name": "stdout",
     "output_type": "stream",
     "text": [
      "Help on built-in module math:\n",
      "\n",
      "NAME\n",
      "    math\n",
      "\n",
      "DESCRIPTION\n",
      "    This module provides access to the mathematical functions\n",
      "    defined by the C standard.\n",
      "\n",
      "FUNCTIONS\n",
      "    acos(x, /)\n",
      "        Return the arc cosine (measured in radians) of x.\n",
      "        \n",
      "        The result is between 0 and pi.\n",
      "    \n",
      "    acosh(x, /)\n",
      "        Return the inverse hyperbolic cosine of x.\n",
      "    \n",
      "    asin(x, /)\n",
      "        Return the arc sine (measured in radians) of x.\n",
      "        \n",
      "        The result is between -pi/2 and pi/2.\n",
      "    \n",
      "    asinh(x, /)\n",
      "        Return the inverse hyperbolic sine of x.\n",
      "    \n",
      "    atan(x, /)\n",
      "        Return the arc tangent (measured in radians) of x.\n",
      "        \n",
      "        The result is between -pi/2 and pi/2.\n",
      "    \n",
      "    atan2(y, x, /)\n",
      "        Return the arc tangent (measured in radians) of y/x.\n",
      "        \n",
      "        Unlike atan(y/x), the signs of both x and y are considered.\n",
      "    \n",
      "    atanh(x, /)\n",
      "        Return the inverse hyperbolic tangent of x.\n",
      "    \n",
      "    cbrt(x, /)\n",
      "        Return the cube root of x.\n",
      "    \n",
      "    ceil(x, /)\n",
      "        Return the ceiling of x as an Integral.\n",
      "        \n",
      "        This is the smallest integer >= x.\n",
      "    \n",
      "    comb(n, k, /)\n",
      "        Number of ways to choose k items from n items without repetition and without order.\n",
      "        \n",
      "        Evaluates to n! / (k! * (n - k)!) when k <= n and evaluates\n",
      "        to zero when k > n.\n",
      "        \n",
      "        Also called the binomial coefficient because it is equivalent\n",
      "        to the coefficient of k-th term in polynomial expansion of the\n",
      "        expression (1 + x)**n.\n",
      "        \n",
      "        Raises TypeError if either of the arguments are not integers.\n",
      "        Raises ValueError if either of the arguments are negative.\n",
      "    \n",
      "    copysign(x, y, /)\n",
      "        Return a float with the magnitude (absolute value) of x but the sign of y.\n",
      "        \n",
      "        On platforms that support signed zeros, copysign(1.0, -0.0)\n",
      "        returns -1.0.\n",
      "    \n",
      "    cos(x, /)\n",
      "        Return the cosine of x (measured in radians).\n",
      "    \n",
      "    cosh(x, /)\n",
      "        Return the hyperbolic cosine of x.\n",
      "    \n",
      "    degrees(x, /)\n",
      "        Convert angle x from radians to degrees.\n",
      "    \n",
      "    dist(p, q, /)\n",
      "        Return the Euclidean distance between two points p and q.\n",
      "        \n",
      "        The points should be specified as sequences (or iterables) of\n",
      "        coordinates.  Both inputs must have the same dimension.\n",
      "        \n",
      "        Roughly equivalent to:\n",
      "            sqrt(sum((px - qx) ** 2.0 for px, qx in zip(p, q)))\n",
      "    \n",
      "    erf(x, /)\n",
      "        Error function at x.\n",
      "    \n",
      "    erfc(x, /)\n",
      "        Complementary error function at x.\n",
      "    \n",
      "    exp(x, /)\n",
      "        Return e raised to the power of x.\n",
      "    \n",
      "    exp2(x, /)\n",
      "        Return 2 raised to the power of x.\n",
      "    \n",
      "    expm1(x, /)\n",
      "        Return exp(x)-1.\n",
      "        \n",
      "        This function avoids the loss of precision involved in the direct evaluation of exp(x)-1 for small x.\n",
      "    \n",
      "    fabs(x, /)\n",
      "        Return the absolute value of the float x.\n",
      "    \n",
      "    factorial(n, /)\n",
      "        Find n!.\n",
      "        \n",
      "        Raise a ValueError if x is negative or non-integral.\n",
      "    \n",
      "    floor(x, /)\n",
      "        Return the floor of x as an Integral.\n",
      "        \n",
      "        This is the largest integer <= x.\n",
      "    \n",
      "    fmod(x, y, /)\n",
      "        Return fmod(x, y), according to platform C.\n",
      "        \n",
      "        x % y may differ.\n",
      "    \n",
      "    frexp(x, /)\n",
      "        Return the mantissa and exponent of x, as pair (m, e).\n",
      "        \n",
      "        m is a float and e is an int, such that x = m * 2.**e.\n",
      "        If x is 0, m and e are both 0.  Else 0.5 <= abs(m) < 1.0.\n",
      "    \n",
      "    fsum(seq, /)\n",
      "        Return an accurate floating point sum of values in the iterable seq.\n",
      "        \n",
      "        Assumes IEEE-754 floating point arithmetic.\n",
      "    \n",
      "    gamma(x, /)\n",
      "        Gamma function at x.\n",
      "    \n",
      "    gcd(*integers)\n",
      "        Greatest Common Divisor.\n",
      "    \n",
      "    hypot(...)\n",
      "        hypot(*coordinates) -> value\n",
      "        \n",
      "        Multidimensional Euclidean distance from the origin to a point.\n",
      "        \n",
      "        Roughly equivalent to:\n",
      "            sqrt(sum(x**2 for x in coordinates))\n",
      "        \n",
      "        For a two dimensional point (x, y), gives the hypotenuse\n",
      "        using the Pythagorean theorem:  sqrt(x*x + y*y).\n",
      "        \n",
      "        For example, the hypotenuse of a 3/4/5 right triangle is:\n",
      "        \n",
      "            >>> hypot(3.0, 4.0)\n",
      "            5.0\n",
      "    \n",
      "    isclose(a, b, *, rel_tol=1e-09, abs_tol=0.0)\n",
      "        Determine whether two floating point numbers are close in value.\n",
      "        \n",
      "          rel_tol\n",
      "            maximum difference for being considered \"close\", relative to the\n",
      "            magnitude of the input values\n",
      "          abs_tol\n",
      "            maximum difference for being considered \"close\", regardless of the\n",
      "            magnitude of the input values\n",
      "        \n",
      "        Return True if a is close in value to b, and False otherwise.\n",
      "        \n",
      "        For the values to be considered close, the difference between them\n",
      "        must be smaller than at least one of the tolerances.\n",
      "        \n",
      "        -inf, inf and NaN behave similarly to the IEEE 754 Standard.  That\n",
      "        is, NaN is not close to anything, even itself.  inf and -inf are\n",
      "        only close to themselves.\n",
      "    \n",
      "    isfinite(x, /)\n",
      "        Return True if x is neither an infinity nor a NaN, and False otherwise.\n",
      "    \n",
      "    isinf(x, /)\n",
      "        Return True if x is a positive or negative infinity, and False otherwise.\n",
      "    \n",
      "    isnan(x, /)\n",
      "        Return True if x is a NaN (not a number), and False otherwise.\n",
      "    \n",
      "    isqrt(n, /)\n",
      "        Return the integer part of the square root of the input.\n",
      "    \n",
      "    lcm(*integers)\n",
      "        Least Common Multiple.\n",
      "    \n",
      "    ldexp(x, i, /)\n",
      "        Return x * (2**i).\n",
      "        \n",
      "        This is essentially the inverse of frexp().\n",
      "    \n",
      "    lgamma(x, /)\n",
      "        Natural logarithm of absolute value of Gamma function at x.\n",
      "    \n",
      "    log(...)\n",
      "        log(x, [base=math.e])\n",
      "        Return the logarithm of x to the given base.\n",
      "        \n",
      "        If the base not specified, returns the natural logarithm (base e) of x.\n",
      "    \n",
      "    log10(x, /)\n",
      "        Return the base 10 logarithm of x.\n",
      "    \n",
      "    log1p(x, /)\n",
      "        Return the natural logarithm of 1+x (base e).\n",
      "        \n",
      "        The result is computed in a way which is accurate for x near zero.\n",
      "    \n",
      "    log2(x, /)\n",
      "        Return the base 2 logarithm of x.\n",
      "    \n",
      "    modf(x, /)\n",
      "        Return the fractional and integer parts of x.\n",
      "        \n",
      "        Both results carry the sign of x and are floats.\n",
      "    \n",
      "    nextafter(x, y, /)\n",
      "        Return the next floating-point value after x towards y.\n",
      "    \n",
      "    perm(n, k=None, /)\n",
      "        Number of ways to choose k items from n items without repetition and with order.\n",
      "        \n",
      "        Evaluates to n! / (n - k)! when k <= n and evaluates\n",
      "        to zero when k > n.\n",
      "        \n",
      "        If k is not specified or is None, then k defaults to n\n",
      "        and the function returns n!.\n",
      "        \n",
      "        Raises TypeError if either of the arguments are not integers.\n",
      "        Raises ValueError if either of the arguments are negative.\n",
      "    \n",
      "    pow(x, y, /)\n",
      "        Return x**y (x to the power of y).\n",
      "    \n",
      "    prod(iterable, /, *, start=1)\n",
      "        Calculate the product of all the elements in the input iterable.\n",
      "        \n",
      "        The default start value for the product is 1.\n",
      "        \n",
      "        When the iterable is empty, return the start value.  This function is\n",
      "        intended specifically for use with numeric values and may reject\n",
      "        non-numeric types.\n",
      "    \n",
      "    radians(x, /)\n",
      "        Convert angle x from degrees to radians.\n",
      "    \n",
      "    remainder(x, y, /)\n",
      "        Difference between x and the closest integer multiple of y.\n",
      "        \n",
      "        Return x - n*y where n*y is the closest integer multiple of y.\n",
      "        In the case where x is exactly halfway between two multiples of\n",
      "        y, the nearest even value of n is used. The result is always exact.\n",
      "    \n",
      "    sin(x, /)\n",
      "        Return the sine of x (measured in radians).\n",
      "    \n",
      "    sinh(x, /)\n",
      "        Return the hyperbolic sine of x.\n",
      "    \n",
      "    sqrt(x, /)\n",
      "        Return the square root of x.\n",
      "    \n",
      "    tan(x, /)\n",
      "        Return the tangent of x (measured in radians).\n",
      "    \n",
      "    tanh(x, /)\n",
      "        Return the hyperbolic tangent of x.\n",
      "    \n",
      "    trunc(x, /)\n",
      "        Truncates the Real x to the nearest Integral toward 0.\n",
      "        \n",
      "        Uses the __trunc__ magic method.\n",
      "    \n",
      "    ulp(x, /)\n",
      "        Return the value of the least significant bit of the float x.\n",
      "\n",
      "DATA\n",
      "    e = 2.718281828459045\n",
      "    inf = inf\n",
      "    nan = nan\n",
      "    pi = 3.141592653589793\n",
      "    tau = 6.283185307179586\n",
      "\n",
      "FILE\n",
      "    (built-in)\n",
      "\n",
      "\n"
     ]
    }
   ],
   "source": [
    "help(m)"
   ]
  },
  {
   "cell_type": "code",
   "execution_count": 166,
   "id": "136607d6-cf92-4658-a2e3-664fcb8e0129",
   "metadata": {},
   "outputs": [
    {
     "data": {
      "text/plain": [
       "2.718281828459045"
      ]
     },
     "execution_count": 166,
     "metadata": {},
     "output_type": "execute_result"
    }
   ],
   "source": [
    "m.e"
   ]
  },
  {
   "cell_type": "code",
   "execution_count": 168,
   "id": "ef6a54c9-1e8e-4271-915a-a409cf432f6f",
   "metadata": {},
   "outputs": [],
   "source": [
    "# write a function to calculate the area of a circle\n",
    "# take pi value from math module\n",
    "# pi * (radius ** 2)"
   ]
  },
  {
   "cell_type": "code",
   "execution_count": 170,
   "id": "856fba43-0adf-4316-9769-a1b68d1c7bf1",
   "metadata": {},
   "outputs": [],
   "source": [
    "def area_circle(radius):\n",
    "    area = m.pi * (radius ** 2)\n",
    "    return area"
   ]
  },
  {
   "cell_type": "code",
   "execution_count": 172,
   "id": "69bcfd69-b05f-4212-9671-bb6a59f28830",
   "metadata": {},
   "outputs": [
    {
     "data": {
      "text/plain": [
       "78.53981633974483"
      ]
     },
     "execution_count": 172,
     "metadata": {},
     "output_type": "execute_result"
    }
   ],
   "source": [
    "area_circle(5)"
   ]
  },
  {
   "cell_type": "code",
   "execution_count": 174,
   "id": "365c56a3-7ce4-4ee0-991d-5d4704525e59",
   "metadata": {},
   "outputs": [],
   "source": [
    "import time"
   ]
  },
  {
   "cell_type": "code",
   "execution_count": 180,
   "id": "5665b0d3-613b-41bb-888e-c3e48b18d547",
   "metadata": {},
   "outputs": [
    {
     "name": "stdout",
     "output_type": "stream",
     "text": [
      "wake up\n",
      "morning\n"
     ]
    }
   ],
   "source": [
    "print(\"wake up\")\n",
    "time.sleep(3)\n",
    "print(\"morning\")"
   ]
  },
  {
   "cell_type": "code",
   "execution_count": 182,
   "id": "a4ba069e-f0fb-4ebb-88a2-08f648e24329",
   "metadata": {},
   "outputs": [
    {
     "data": {
      "text/plain": [
       "'Sun Sep  7 12:17:51 2025'"
      ]
     },
     "execution_count": 182,
     "metadata": {},
     "output_type": "execute_result"
    }
   ],
   "source": [
    "time.asctime()"
   ]
  },
  {
   "cell_type": "code",
   "execution_count": 192,
   "id": "98ba4155-c6a2-46bb-a183-e1104d635374",
   "metadata": {},
   "outputs": [],
   "source": [
    "# selective import"
   ]
  },
  {
   "cell_type": "code",
   "execution_count": 186,
   "id": "cfb54550-7b58-4b9f-b67a-1f7613402955",
   "metadata": {},
   "outputs": [],
   "source": [
    "from math import sqrt"
   ]
  },
  {
   "cell_type": "code",
   "execution_count": 188,
   "id": "8dd57806-70a9-43e9-8b3d-a73ddc1393ee",
   "metadata": {},
   "outputs": [
    {
     "data": {
      "text/plain": [
       "7.0"
      ]
     },
     "execution_count": 188,
     "metadata": {},
     "output_type": "execute_result"
    }
   ],
   "source": [
    "sqrt(49)"
   ]
  },
  {
   "cell_type": "code",
   "execution_count": null,
   "id": "e25aba4c-65f9-4179-bb9c-48e8f5d05e34",
   "metadata": {},
   "outputs": [],
   "source": []
  }
 ],
 "metadata": {
  "kernelspec": {
   "display_name": "Python [conda env:Orange]",
   "language": "python",
   "name": "conda-env-Orange-py"
  },
  "language_info": {
   "codemirror_mode": {
    "name": "ipython",
    "version": 3
   },
   "file_extension": ".py",
   "mimetype": "text/x-python",
   "name": "python",
   "nbconvert_exporter": "python",
   "pygments_lexer": "ipython3",
   "version": "3.11.8"
  }
 },
 "nbformat": 4,
 "nbformat_minor": 5
}
