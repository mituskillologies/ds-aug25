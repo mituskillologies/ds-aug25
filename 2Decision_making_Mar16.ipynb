{
 "cells": [
  {
   "cell_type": "code",
   "execution_count": 5,
   "id": "98bd012e-dcfa-466a-9f20-0c24e6abb6af",
   "metadata": {},
   "outputs": [
    {
     "name": "stdin",
     "output_type": "stream",
     "text": [
      "Enter the number  11\n"
     ]
    }
   ],
   "source": [
    "num = int(input(\"Enter the number \"))\n",
    "\n",
    "if num > 50:\n",
    "    print(\"number is greater than 50\")\n",
    "    print('ok')"
   ]
  },
  {
   "cell_type": "code",
   "execution_count": 11,
   "id": "1284e75b-e021-41de-a26a-f2a71c31b2d0",
   "metadata": {},
   "outputs": [
    {
     "name": "stdin",
     "output_type": "stream",
     "text": [
      "Enter the number  0\n"
     ]
    },
    {
     "name": "stdout",
     "output_type": "stream",
     "text": [
      "negative\n"
     ]
    }
   ],
   "source": [
    "# check if the number is positive or negative\n",
    "\n",
    "num = int(input(\"Enter the number \"))\n",
    "\n",
    "if num > 0:\n",
    "    print(\"Positive\")\n",
    "else:\n",
    "    print(\"negative\")"
   ]
  },
  {
   "cell_type": "code",
   "execution_count": 13,
   "id": "3b21cb51-c44d-4411-9b42-3a85b6e5cc1c",
   "metadata": {},
   "outputs": [
    {
     "name": "stdin",
     "output_type": "stream",
     "text": [
      "Enter the number  0\n"
     ]
    },
    {
     "name": "stdout",
     "output_type": "stream",
     "text": [
      "ZERO\n"
     ]
    }
   ],
   "source": [
    "num = int(input(\"Enter the number \"))\n",
    "\n",
    "if num > 0:\n",
    "    print(\"Positive\")\n",
    "elif num == 0:\n",
    "    print('ZERO')8\n",
    "else:\n",
    "    print(\"negative\")"
   ]
  },
  {
   "cell_type": "code",
   "execution_count": 17,
   "id": "e355066d-cf5a-4764-ac0f-dfe90b08253b",
   "metadata": {},
   "outputs": [
    {
     "name": "stdin",
     "output_type": "stream",
     "text": [
      "Enter the number  7\n"
     ]
    },
    {
     "name": "stdout",
     "output_type": "stream",
     "text": [
      "numer is odd\n"
     ]
    }
   ],
   "source": [
    "# check if the number is even or odd\n",
    "\n",
    "num = int(input(\"Enter the number \"))\n",
    "\n",
    "if num % 2 == 0:\n",
    "    print(\"Number is even\")\n",
    "else:\n",
    "    print(\"numer is odd\")"
   ]
  },
  {
   "cell_type": "code",
   "execution_count": 19,
   "id": "1e288f51-f31a-482f-b2bd-5954e218a364",
   "metadata": {},
   "outputs": [
    {
     "data": {
      "text/plain": [
       "2"
      ]
     },
     "execution_count": 19,
     "metadata": {},
     "output_type": "execute_result"
    }
   ],
   "source": [
    "True + True + False"
   ]
  },
  {
   "cell_type": "code",
   "execution_count": 21,
   "id": "1b7edd86-f21a-45b1-92fc-41cecc3585fe",
   "metadata": {},
   "outputs": [
    {
     "data": {
      "text/plain": [
       "0"
      ]
     },
     "execution_count": 21,
     "metadata": {},
     "output_type": "execute_result"
    }
   ],
   "source": [
    "int(False)"
   ]
  },
  {
   "cell_type": "code",
   "execution_count": 31,
   "id": "53d11752-0b4c-4d70-988e-14bbd1440777",
   "metadata": {},
   "outputs": [
    {
     "name": "stdin",
     "output_type": "stream",
     "text": [
      "Enter the number  145\n"
     ]
    },
    {
     "name": "stdout",
     "output_type": "stream",
     "text": [
      "greater 50 but not less than 100\n"
     ]
    }
   ],
   "source": [
    "# check if the number is in between 50 and 100\n",
    "\n",
    "num = int(input(\"Enter the number \"))\n",
    "\n",
    "if num > 50:\n",
    "    if num < 100:\n",
    "        print('OK')\n",
    "    else:\n",
    "        print(\"greater 50 but not less than 100\")\n",
    "else:\n",
    "    print(\"Not ok\")"
   ]
  },
  {
   "cell_type": "code",
   "execution_count": 37,
   "id": "76500be6-7a5a-49ed-bd6e-09961693204e",
   "metadata": {},
   "outputs": [
    {
     "name": "stdin",
     "output_type": "stream",
     "text": [
      "Enter the number  14\n"
     ]
    },
    {
     "name": "stdout",
     "output_type": "stream",
     "text": [
      "not ok\n"
     ]
    }
   ],
   "source": [
    "num = int(input(\"Enter the number \"))\n",
    "\n",
    "if num >= 50 and num <= 100:\n",
    "    print('ok')\n",
    "else:\n",
    "    print(\"not ok\")"
   ]
  },
  {
   "cell_type": "code",
   "execution_count": 41,
   "id": "d6a20ac6-3a4f-4034-8b00-4b677965b50a",
   "metadata": {},
   "outputs": [
    {
     "name": "stdin",
     "output_type": "stream",
     "text": [
      "enter the purchase cost  300\n",
      "enter the selling cost  100\n"
     ]
    },
    {
     "name": "stdout",
     "output_type": "stream",
     "text": [
      "loss of 200\n"
     ]
    }
   ],
   "source": [
    "# read selling cost and purchase cost from the user\n",
    "# check if profit or loss and how much\n",
    "\n",
    "purchase_cost = int(input(\"enter the purchase cost \"))\n",
    "selling_cost = int(input(\"enter the selling cost \"))\n",
    "\n",
    "if selling_cost > purchase_cost:\n",
    "    print(f\"profit of {selling_cost - purchase_cost}\")\n",
    "else:\n",
    "    print(f\"loss of {purchase_cost - selling_cost}\")"
   ]
  },
  {
   "cell_type": "code",
   "execution_count": 51,
   "id": "caf57ccf-90c2-43bf-8aa7-67542e96702d",
   "metadata": {},
   "outputs": [
    {
     "name": "stdin",
     "output_type": "stream",
     "text": [
      "Enter the year  1900\n"
     ]
    },
    {
     "name": "stdout",
     "output_type": "stream",
     "text": [
      "1900 is a century year but not leap\n"
     ]
    }
   ],
   "source": [
    "# 2020 => leap\n",
    "# 2018 => not leap\n",
    "# 2000 => leap\n",
    "# 1900 => not leap\n",
    "# take the user input as year... and check if its leap\n",
    "# 'and' or 'or' are not allowed. use nested if\n",
    "\n",
    "year = int(input(\"Enter the year \"))\n",
    "\n",
    "if year % 4 == 0:\n",
    "    if year % 100 == 0:\n",
    "        if year % 400 == 0:\n",
    "            print(f\"{year} is a leap century year\")\n",
    "        else:\n",
    "            print(f\"{year} is a century year but not leap\")\n",
    "    else:\n",
    "        print(f\"{year} is a normal leap year\")\n",
    "else:\n",
    "    print(f\"{year} is not a leap year\")"
   ]
  },
  {
   "cell_type": "code",
   "execution_count": 53,
   "id": "62c768f8-404a-4c38-b236-8a96d0a011c1",
   "metadata": {},
   "outputs": [],
   "source": [
    "# simple menu driven program"
   ]
  },
  {
   "cell_type": "code",
   "execution_count": 77,
   "id": "9eacef42-389e-4a0b-b310-67f2d608f2c1",
   "metadata": {},
   "outputs": [
    {
     "name": "stdout",
     "output_type": "stream",
     "text": [
      "Welcome to this simple calculator!!!\n"
     ]
    },
    {
     "name": "stdin",
     "output_type": "stream",
     "text": [
      "Enter the number  10\n"
     ]
    },
    {
     "name": "stdout",
     "output_type": "stream",
     "text": [
      "MENU => \n",
      "1. square\n",
      "2. cube\n",
      "3. positive or negative\n"
     ]
    },
    {
     "name": "stdin",
     "output_type": "stream",
     "text": [
      "Enter the choice  1912498\n"
     ]
    },
    {
     "name": "stdout",
     "output_type": "stream",
     "text": [
      "Please visit the nearest hospital\n"
     ]
    }
   ],
   "source": [
    "print(\"Welcome to this simple calculator!!!\")\n",
    "num = int(input(\"Enter the number \"))\n",
    "\n",
    "print(\"MENU => \\n1. square\\n2. cube\\n3. positive or negative\")\n",
    "\n",
    "ch = int(input(\"Enter the choice \"))\n",
    "\n",
    "if ch == 1:\n",
    "    print(f\"square is {num ** 2}\")\n",
    "elif ch == 2:\n",
    "    print(f\"cube is {num ** 3}\")\n",
    "elif ch == 3:\n",
    "    if num > 0:\n",
    "        print(f\"number is positive\")\n",
    "    else:\n",
    "        print(f\"number is negative\")\n",
    "else:\n",
    "    print(f\"Please visit the nearest hospital\")"
   ]
  },
  {
   "cell_type": "code",
   "execution_count": null,
   "id": "b607cbaa-fe55-49a0-8895-f9bca42b6568",
   "metadata": {},
   "outputs": [],
   "source": []
  }
 ],
 "metadata": {
  "kernelspec": {
   "display_name": "Python [conda env:base] *",
   "language": "python",
   "name": "conda-base-py"
  },
  "language_info": {
   "codemirror_mode": {
    "name": "ipython",
    "version": 3
   },
   "file_extension": ".py",
   "mimetype": "text/x-python",
   "name": "python",
   "nbconvert_exporter": "python",
   "pygments_lexer": "ipython3",
   "version": "3.12.4"
  }
 },
 "nbformat": 4,
 "nbformat_minor": 5
}
