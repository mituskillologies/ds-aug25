{
 "cells": [
  {
   "cell_type": "code",
   "execution_count": 4,
   "id": "c87d27b7-e307-4d82-94a4-cbc6fa870719",
   "metadata": {},
   "outputs": [
    {
     "ename": "NameError",
     "evalue": "name 'largest' is not defined",
     "output_type": "error",
     "traceback": [
      "\u001b[1;31m---------------------------------------------------------------------------\u001b[0m",
      "\u001b[1;31mNameError\u001b[0m                                 Traceback (most recent call last)",
      "Cell \u001b[1;32mIn[4], line 1\u001b[0m\n\u001b[1;32m----> 1\u001b[0m \u001b[43mlargest\u001b[49m(\u001b[38;5;241m5\u001b[39m, \u001b[38;5;241m6\u001b[39m)\n",
      "\u001b[1;31mNameError\u001b[0m: name 'largest' is not defined"
     ]
    }
   ],
   "source": [
    "largest(5, 6)"
   ]
  },
  {
   "cell_type": "code",
   "execution_count": 6,
   "id": "4f6cc69a-109b-49ac-8db6-c300e715656f",
   "metadata": {},
   "outputs": [],
   "source": [
    "import test_module"
   ]
  },
  {
   "cell_type": "code",
   "execution_count": 8,
   "id": "0d8a39ec-568e-4c14-a6fb-25f263bc1a53",
   "metadata": {},
   "outputs": [
    {
     "name": "stdout",
     "output_type": "stream",
     "text": [
      " largest is 10 \n"
     ]
    }
   ],
   "source": [
    "test_module.largest(7, 10)"
   ]
  },
  {
   "cell_type": "code",
   "execution_count": 10,
   "id": "a720d22d-974e-4496-ba4a-a0d20aaee885",
   "metadata": {},
   "outputs": [
    {
     "name": "stdout",
     "output_type": "stream",
     "text": [
      "Help on module test_module:\n",
      "\n",
      "NAME\n",
      "    test_module\n",
      "\n",
      "FUNCTIONS\n",
      "    largest(a: int, b: int) -> str\n",
      "        takes two integers to compare and finds the largest\n",
      "        \n",
      "        Parameters\n",
      "        __________\n",
      "                    a: int\n",
      "                        the first integer\n",
      "                    b: int\n",
      "                        the second integer\n",
      "        \n",
      "        Returns\n",
      "        ________\n",
      "                    int:\n",
      "                        largest value between 'a' and 'b'\n",
      "\n",
      "FILE\n",
      "    c:\\users\\aditya\\mitu_aug25\\test_module.py\n",
      "\n",
      "\n"
     ]
    }
   ],
   "source": [
    "help(test_module)"
   ]
  },
  {
   "cell_type": "code",
   "execution_count": null,
   "id": "8c897132-dc80-49d2-b7ca-6390d7a64087",
   "metadata": {},
   "outputs": [],
   "source": []
  }
 ],
 "metadata": {
  "kernelspec": {
   "display_name": "Python [conda env:Orange]",
   "language": "python",
   "name": "conda-env-Orange-py"
  },
  "language_info": {
   "codemirror_mode": {
    "name": "ipython",
    "version": 3
   },
   "file_extension": ".py",
   "mimetype": "text/x-python",
   "name": "python",
   "nbconvert_exporter": "python",
   "pygments_lexer": "ipython3",
   "version": "3.11.8"
  }
 },
 "nbformat": 4,
 "nbformat_minor": 5
}
