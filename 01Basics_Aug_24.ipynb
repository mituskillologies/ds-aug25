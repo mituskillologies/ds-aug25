{
 "cells": [
  {
   "cell_type": "code",
   "execution_count": 1,
   "id": "42bf6f35-b81d-412c-b8e7-39b3dbe17d18",
   "metadata": {},
   "outputs": [
    {
     "name": "stdout",
     "output_type": "stream",
     "text": [
      "Hello World\n"
     ]
    }
   ],
   "source": [
    "print(\"Hello World\")"
   ]
  },
  {
   "cell_type": "markdown",
   "id": "0648f347-41ac-4148-9e7e-bd5970f389b2",
   "metadata": {},
   "source": [
    "# basics of python"
   ]
  },
  {
   "cell_type": "code",
   "execution_count": 8,
   "id": "ad0dc0af-68a8-426c-bca8-a627bbfeea9f",
   "metadata": {},
   "outputs": [
    {
     "data": {
      "text/plain": [
       "'Hello World'"
      ]
     },
     "execution_count": 8,
     "metadata": {},
     "output_type": "execute_result"
    }
   ],
   "source": [
    "\"Hello World\""
   ]
  },
  {
   "cell_type": "code",
   "execution_count": 10,
   "id": "f2a510d4-6e44-43ee-9632-40e52b7dd188",
   "metadata": {},
   "outputs": [],
   "source": [
    "num = 10"
   ]
  },
  {
   "cell_type": "code",
   "execution_count": 12,
   "id": "1df1d482-7fd0-42e0-81dd-cd31f980ca33",
   "metadata": {},
   "outputs": [
    {
     "name": "stdout",
     "output_type": "stream",
     "text": [
      "10\n"
     ]
    }
   ],
   "source": [
    "print(num)"
   ]
  },
  {
   "cell_type": "code",
   "execution_count": 14,
   "id": "f277a7a5-a54c-4a26-af8a-9ff3c2b23325",
   "metadata": {},
   "outputs": [
    {
     "data": {
      "text/plain": [
       "10"
      ]
     },
     "execution_count": 14,
     "metadata": {},
     "output_type": "execute_result"
    }
   ],
   "source": [
    "num"
   ]
  },
  {
   "cell_type": "code",
   "execution_count": 16,
   "id": "df87e9dd-9b4a-4484-99b6-bb0486f73d46",
   "metadata": {},
   "outputs": [
    {
     "data": {
      "text/plain": [
       "15"
      ]
     },
     "execution_count": 16,
     "metadata": {},
     "output_type": "execute_result"
    }
   ],
   "source": [
    "num1 = 15\n",
    "num1"
   ]
  },
  {
   "cell_type": "code",
   "execution_count": 20,
   "id": "1b03926a-d6d6-493f-b1fc-b3d80405f4ed",
   "metadata": {},
   "outputs": [],
   "source": [
    "rate_of_interest = 20"
   ]
  },
  {
   "cell_type": "code",
   "execution_count": 22,
   "id": "bf46e1c1-84ba-4cf3-804a-111e7bfee6a7",
   "metadata": {},
   "outputs": [
    {
     "data": {
      "text/plain": [
       "20"
      ]
     },
     "execution_count": 22,
     "metadata": {},
     "output_type": "execute_result"
    }
   ],
   "source": [
    "rate_of_interest"
   ]
  },
  {
   "cell_type": "code",
   "execution_count": 24,
   "id": "b7b03a93-6d60-4c63-a929-903b14adf3a7",
   "metadata": {},
   "outputs": [],
   "source": [
    "num3 = \"Pune\""
   ]
  },
  {
   "cell_type": "code",
   "execution_count": 26,
   "id": "965d9708-2316-4e92-8833-6f94f45f552a",
   "metadata": {},
   "outputs": [
    {
     "data": {
      "text/plain": [
       "'Pune'"
      ]
     },
     "execution_count": 26,
     "metadata": {},
     "output_type": "execute_result"
    }
   ],
   "source": [
    "num3"
   ]
  },
  {
   "cell_type": "code",
   "execution_count": 28,
   "id": "fa67021c-4d67-4052-928c-a4820587f116",
   "metadata": {},
   "outputs": [],
   "source": [
    "# keywords"
   ]
  },
  {
   "cell_type": "code",
   "execution_count": 30,
   "id": "024795b6-8f91-4e1b-9db5-f56e9c3b16bc",
   "metadata": {},
   "outputs": [
    {
     "ename": "SyntaxError",
     "evalue": "invalid syntax (1130572820.py, line 1)",
     "output_type": "error",
     "traceback": [
      "\u001b[1;36m  Cell \u001b[1;32mIn[30], line 1\u001b[1;36m\u001b[0m\n\u001b[1;33m    pass = 23\u001b[0m\n\u001b[1;37m         ^\u001b[0m\n\u001b[1;31mSyntaxError\u001b[0m\u001b[1;31m:\u001b[0m invalid syntax\n"
     ]
    }
   ],
   "source": [
    "pass = 23"
   ]
  },
  {
   "cell_type": "code",
   "execution_count": 32,
   "id": "a5450f69-e97c-41d4-86cf-2cc4a05c020f",
   "metadata": {},
   "outputs": [
    {
     "data": {
      "text/plain": [
       "25"
      ]
     },
     "execution_count": 32,
     "metadata": {},
     "output_type": "execute_result"
    }
   ],
   "source": [
    "Pass = 25\n",
    "Pass"
   ]
  },
  {
   "cell_type": "code",
   "execution_count": 34,
   "id": "51290759-8ff7-4381-ad43-6d12b710c469",
   "metadata": {},
   "outputs": [],
   "source": [
    "# datatypes"
   ]
  },
  {
   "cell_type": "code",
   "execution_count": 36,
   "id": "8a20b32e-88d5-4078-86b4-6051b7120cd9",
   "metadata": {},
   "outputs": [],
   "source": [
    "num1 = 12\n",
    "num2 = 12.34\n",
    "num3 = \"Pune\""
   ]
  },
  {
   "cell_type": "code",
   "execution_count": 38,
   "id": "761c84be-94d4-4a7f-923f-88f84b60a553",
   "metadata": {},
   "outputs": [
    {
     "data": {
      "text/plain": [
       "int"
      ]
     },
     "execution_count": 38,
     "metadata": {},
     "output_type": "execute_result"
    }
   ],
   "source": [
    "type(num1)"
   ]
  },
  {
   "cell_type": "code",
   "execution_count": 40,
   "id": "de4ccd05-16a4-4459-87e3-981318c0fd99",
   "metadata": {},
   "outputs": [
    {
     "data": {
      "text/plain": [
       "float"
      ]
     },
     "execution_count": 40,
     "metadata": {},
     "output_type": "execute_result"
    }
   ],
   "source": [
    "type(num2)"
   ]
  },
  {
   "cell_type": "code",
   "execution_count": 42,
   "id": "cdb3956b-2fa3-4b66-b708-2cc52ff29ed9",
   "metadata": {},
   "outputs": [
    {
     "data": {
      "text/plain": [
       "str"
      ]
     },
     "execution_count": 42,
     "metadata": {},
     "output_type": "execute_result"
    }
   ],
   "source": [
    "type(num3)"
   ]
  },
  {
   "cell_type": "code",
   "execution_count": 48,
   "id": "4a903595-a677-487b-9e6d-a5e74d935dea",
   "metadata": {},
   "outputs": [
    {
     "data": {
      "text/plain": [
       "(3+4j)"
      ]
     },
     "execution_count": 48,
     "metadata": {},
     "output_type": "execute_result"
    }
   ],
   "source": [
    "# complex\n",
    "c = 3 + 4j\n",
    "c"
   ]
  },
  {
   "cell_type": "code",
   "execution_count": 50,
   "id": "888d1a94-5225-4d21-8023-c9ce26cf5502",
   "metadata": {},
   "outputs": [
    {
     "data": {
      "text/plain": [
       "complex"
      ]
     },
     "execution_count": 50,
     "metadata": {},
     "output_type": "execute_result"
    }
   ],
   "source": [
    "type(c)"
   ]
  },
  {
   "cell_type": "code",
   "execution_count": 52,
   "id": "a159f059-433c-4456-a19e-6d1861b97095",
   "metadata": {},
   "outputs": [],
   "source": [
    "c2 = complex(5, -2)"
   ]
  },
  {
   "cell_type": "code",
   "execution_count": 54,
   "id": "cb0d0ea6-ea9b-45c4-83f9-b00e8c3a6bba",
   "metadata": {},
   "outputs": [
    {
     "data": {
      "text/plain": [
       "(5-2j)"
      ]
     },
     "execution_count": 54,
     "metadata": {},
     "output_type": "execute_result"
    }
   ],
   "source": [
    "c2"
   ]
  },
  {
   "cell_type": "code",
   "execution_count": 56,
   "id": "1ea6eef8-0b68-4299-bde0-41ee6e2368bf",
   "metadata": {},
   "outputs": [
    {
     "data": {
      "text/plain": [
       "12"
      ]
     },
     "execution_count": 56,
     "metadata": {},
     "output_type": "execute_result"
    }
   ],
   "source": [
    "num1"
   ]
  },
  {
   "cell_type": "code",
   "execution_count": 60,
   "id": "0fc6c56d-06df-4b1f-987f-2defe22a246a",
   "metadata": {},
   "outputs": [],
   "source": [
    "result = num1 + 10"
   ]
  },
  {
   "cell_type": "code",
   "execution_count": 62,
   "id": "c12c01a8-2484-43aa-87b1-1f27c8e233e5",
   "metadata": {},
   "outputs": [
    {
     "data": {
      "text/plain": [
       "22"
      ]
     },
     "execution_count": 62,
     "metadata": {},
     "output_type": "execute_result"
    }
   ],
   "source": [
    "result"
   ]
  },
  {
   "cell_type": "code",
   "execution_count": 68,
   "id": "0388bab1-5948-441d-b6cb-dc1a24ee7606",
   "metadata": {},
   "outputs": [],
   "source": [
    "num = 8325748812 ** 123"
   ]
  },
  {
   "cell_type": "code",
   "execution_count": 70,
   "id": "61b4a71b-9d4e-4180-a1cc-c8b70e06de8c",
   "metadata": {},
   "outputs": [
    {
     "data": {
      "text/plain": [
       "162954516232998678095125015705858895208524993327988441982343800159262611768735909253523406142269066730962426756914235068348052909173583725907609994268338934884881398319016267968802421806795514818123414643880480788191314001518969962117545693021912493241686401571104722875204992484769996644994640325626788247799063150854971398433555289332164028200531673124745654757831050283200092335771812248732634703492730712393914407074609439047997832788423234498238574223059326140638469023708662759778065022118659830865780942138838862979447498367863268266380617515482484246100860069857959441892068694291360307941090788548285138460023333516251650647583242803455476063291918598883522608373029230550086305721744342520357465145762375011086414806207373598437784301032186887081312462433184419114206780620322395189037572172647763151436463014504043828060030784544375927248388912010035615889579521364111248294922346536581484403802424300161572933580114641259836156158566752158045880035509791432889399898906788194738902209296503030014119299471525282595629690644680391635869709746892944567440309371420932643959525116568474744967207436439508249141238281872497556353089568790789664568000959982622788866073151452972190128770473105506430079687855177728"
      ]
     },
     "execution_count": 70,
     "metadata": {},
     "output_type": "execute_result"
    }
   ],
   "source": [
    "num"
   ]
  },
  {
   "cell_type": "code",
   "execution_count": 72,
   "id": "dad25eed-cb2c-4422-bbda-1a90a246305f",
   "metadata": {},
   "outputs": [],
   "source": [
    "# float datatype"
   ]
  },
  {
   "cell_type": "code",
   "execution_count": 74,
   "id": "f0fe147a-4b75-4089-a25f-687ca642237d",
   "metadata": {},
   "outputs": [],
   "source": [
    "num = 65.57"
   ]
  },
  {
   "cell_type": "code",
   "execution_count": 76,
   "id": "3f95ba5f-86ed-4f36-baa3-ae4f749218f4",
   "metadata": {},
   "outputs": [],
   "source": [
    "res = num * 23"
   ]
  },
  {
   "cell_type": "code",
   "execution_count": 78,
   "id": "1392fdc0-606b-445b-b99c-225303d5a8da",
   "metadata": {},
   "outputs": [
    {
     "data": {
      "text/plain": [
       "1508.11"
      ]
     },
     "execution_count": 78,
     "metadata": {},
     "output_type": "execute_result"
    }
   ],
   "source": [
    "res"
   ]
  },
  {
   "cell_type": "code",
   "execution_count": 80,
   "id": "2e23daee-5fa7-47d1-b594-127ff889a1e4",
   "metadata": {},
   "outputs": [],
   "source": [
    "a = 15e4"
   ]
  },
  {
   "cell_type": "code",
   "execution_count": 82,
   "id": "de7cafe5-6ea5-4bc9-b90b-2ff60b977aa5",
   "metadata": {},
   "outputs": [
    {
     "data": {
      "text/plain": [
       "float"
      ]
     },
     "execution_count": 82,
     "metadata": {},
     "output_type": "execute_result"
    }
   ],
   "source": [
    "type(a)"
   ]
  },
  {
   "cell_type": "code",
   "execution_count": 84,
   "id": "4ec4409e-e453-4660-8eb4-700a2c8f7775",
   "metadata": {},
   "outputs": [
    {
     "data": {
      "text/plain": [
       "150000.0"
      ]
     },
     "execution_count": 84,
     "metadata": {},
     "output_type": "execute_result"
    }
   ],
   "source": [
    "a"
   ]
  },
  {
   "cell_type": "code",
   "execution_count": 86,
   "id": "6cfbec53-6ab5-488e-80d1-d49ea2b0be8a",
   "metadata": {},
   "outputs": [],
   "source": [
    "a2 = 12e-2"
   ]
  },
  {
   "cell_type": "code",
   "execution_count": 88,
   "id": "6e245be1-5529-4e59-b6ae-1ecb2b53175e",
   "metadata": {},
   "outputs": [
    {
     "data": {
      "text/plain": [
       "0.12"
      ]
     },
     "execution_count": 88,
     "metadata": {},
     "output_type": "execute_result"
    }
   ],
   "source": [
    "a2"
   ]
  },
  {
   "cell_type": "code",
   "execution_count": 90,
   "id": "03b86c65-ce27-420e-a16b-ee0257dd021d",
   "metadata": {},
   "outputs": [],
   "source": [
    "# string datatype"
   ]
  },
  {
   "cell_type": "code",
   "execution_count": 92,
   "id": "798d515d-729c-4640-94bd-1d79d532f981",
   "metadata": {},
   "outputs": [],
   "source": [
    "name = 'Ranjit'"
   ]
  },
  {
   "cell_type": "code",
   "execution_count": 94,
   "id": "b7704f9c-0b95-4306-8052-c3dcf69d6a1f",
   "metadata": {},
   "outputs": [
    {
     "data": {
      "text/plain": [
       "str"
      ]
     },
     "execution_count": 94,
     "metadata": {},
     "output_type": "execute_result"
    }
   ],
   "source": [
    "type(name)"
   ]
  },
  {
   "cell_type": "code",
   "execution_count": 96,
   "id": "970843cf-6cbc-42d7-83a3-ff9266a9179e",
   "metadata": {},
   "outputs": [
    {
     "name": "stdout",
     "output_type": "stream",
     "text": [
      "Ranjit\n"
     ]
    }
   ],
   "source": [
    "print(name)"
   ]
  },
  {
   "cell_type": "code",
   "execution_count": 98,
   "id": "4c0afe71-dd65-497f-bed8-cc3145fb3e9f",
   "metadata": {},
   "outputs": [
    {
     "name": "stdout",
     "output_type": "stream",
     "text": [
      "name\n"
     ]
    }
   ],
   "source": [
    "print(\"name\")"
   ]
  },
  {
   "cell_type": "code",
   "execution_count": 100,
   "id": "c21e7b34-3ab7-4e00-849e-266888302e92",
   "metadata": {},
   "outputs": [],
   "source": [
    "sent = \"I like Python Programming\""
   ]
  },
  {
   "cell_type": "code",
   "execution_count": 102,
   "id": "d516946a-9129-44fc-9571-5c3e9aa874a0",
   "metadata": {},
   "outputs": [
    {
     "name": "stdout",
     "output_type": "stream",
     "text": [
      "I like Python Programming\n"
     ]
    }
   ],
   "source": [
    "print(sent)"
   ]
  },
  {
   "cell_type": "code",
   "execution_count": 106,
   "id": "bd725c78-baf7-44cf-8033-fa40b09bc716",
   "metadata": {},
   "outputs": [
    {
     "data": {
      "text/plain": [
       "'I like \"Python\" Programming'"
      ]
     },
     "execution_count": 106,
     "metadata": {},
     "output_type": "execute_result"
    }
   ],
   "source": [
    "'I like \"Python\" Programming'"
   ]
  },
  {
   "cell_type": "code",
   "execution_count": 108,
   "id": "ea3face7-1e46-48ad-91df-a4fd582809d8",
   "metadata": {},
   "outputs": [
    {
     "data": {
      "text/plain": [
       "\"I like 'Python' Programming\""
      ]
     },
     "execution_count": 108,
     "metadata": {},
     "output_type": "execute_result"
    }
   ],
   "source": [
    "\"I like 'Python' Programming\""
   ]
  },
  {
   "cell_type": "code",
   "execution_count": 110,
   "id": "3c46e222-ee1d-444a-8c0b-77099246eb04",
   "metadata": {},
   "outputs": [],
   "source": [
    "num1, num2, num3 = 40, 50, 60"
   ]
  },
  {
   "cell_type": "code",
   "execution_count": 112,
   "id": "ed798cb6-9c75-4dda-9350-4ef5e7eaf8c1",
   "metadata": {},
   "outputs": [
    {
     "data": {
      "text/plain": [
       "40"
      ]
     },
     "execution_count": 112,
     "metadata": {},
     "output_type": "execute_result"
    }
   ],
   "source": [
    "num1"
   ]
  },
  {
   "cell_type": "code",
   "execution_count": 114,
   "id": "3570340e-b714-4da7-a603-776704870e62",
   "metadata": {},
   "outputs": [
    {
     "data": {
      "text/plain": [
       "50"
      ]
     },
     "execution_count": 114,
     "metadata": {},
     "output_type": "execute_result"
    }
   ],
   "source": [
    "num2"
   ]
  },
  {
   "cell_type": "code",
   "execution_count": 116,
   "id": "07ab363b-8880-4f75-a9a5-e34739a41f91",
   "metadata": {},
   "outputs": [
    {
     "data": {
      "text/plain": [
       "60"
      ]
     },
     "execution_count": 116,
     "metadata": {},
     "output_type": "execute_result"
    }
   ],
   "source": [
    "num3"
   ]
  },
  {
   "cell_type": "code",
   "execution_count": 118,
   "id": "6fc4acf3-0f05-43e2-b8b7-33ee3f84f180",
   "metadata": {},
   "outputs": [],
   "source": [
    "# create a simple addition programm"
   ]
  },
  {
   "cell_type": "code",
   "execution_count": 120,
   "id": "673266ec-e1d9-4af3-9947-4621529638b1",
   "metadata": {},
   "outputs": [
    {
     "name": "stdout",
     "output_type": "stream",
     "text": [
      "45\n"
     ]
    }
   ],
   "source": [
    "num1 = 20\n",
    "num2 = 25\n",
    "res = num1 + num2\n",
    "print(res)"
   ]
  },
  {
   "cell_type": "code",
   "execution_count": 122,
   "id": "abd2a28b-5c2b-4da2-b185-9c27514ee589",
   "metadata": {},
   "outputs": [
    {
     "name": "stdout",
     "output_type": "stream",
     "text": [
      "45\n"
     ]
    }
   ],
   "source": [
    "num1 = 20; num2 = 25; res = num1 + num2; print(res)"
   ]
  },
  {
   "cell_type": "code",
   "execution_count": 124,
   "id": "15360488-8416-4140-ac5f-5ef1844ff2b2",
   "metadata": {},
   "outputs": [],
   "source": [
    "# string methods/functions"
   ]
  },
  {
   "cell_type": "code",
   "execution_count": 126,
   "id": "3c381ec9-295e-458a-82d3-940ec7c42afd",
   "metadata": {},
   "outputs": [],
   "source": [
    "name = \"Arvind\""
   ]
  },
  {
   "cell_type": "code",
   "execution_count": 128,
   "id": "90c0ecfe-603c-47bf-aa1b-75ad04f7fd4f",
   "metadata": {},
   "outputs": [
    {
     "data": {
      "text/plain": [
       "'arvind'"
      ]
     },
     "execution_count": 128,
     "metadata": {},
     "output_type": "execute_result"
    }
   ],
   "source": [
    "name.lower()"
   ]
  },
  {
   "cell_type": "code",
   "execution_count": 130,
   "id": "a951dec9-fdab-47b1-8e4c-7660ab95d280",
   "metadata": {},
   "outputs": [
    {
     "data": {
      "text/plain": [
       "'ARVIND'"
      ]
     },
     "execution_count": 130,
     "metadata": {},
     "output_type": "execute_result"
    }
   ],
   "source": [
    "name.upper()"
   ]
  },
  {
   "cell_type": "code",
   "execution_count": 132,
   "id": "752d0407-44fc-4919-959d-920b806dffb7",
   "metadata": {},
   "outputs": [
    {
     "data": {
      "text/plain": [
       "'aRVIND'"
      ]
     },
     "execution_count": 132,
     "metadata": {},
     "output_type": "execute_result"
    }
   ],
   "source": [
    "name.swapcase()"
   ]
  },
  {
   "cell_type": "code",
   "execution_count": 134,
   "id": "668b258f-3a2e-4b30-bdd1-7727b3480cc6",
   "metadata": {},
   "outputs": [
    {
     "data": {
      "text/plain": [
       "False"
      ]
     },
     "execution_count": 134,
     "metadata": {},
     "output_type": "execute_result"
    }
   ],
   "source": [
    "name.islower()"
   ]
  },
  {
   "cell_type": "code",
   "execution_count": 136,
   "id": "ab9bf464-54e2-4069-9782-03f070055904",
   "metadata": {},
   "outputs": [
    {
     "data": {
      "text/plain": [
       "True"
      ]
     },
     "execution_count": 136,
     "metadata": {},
     "output_type": "execute_result"
    }
   ],
   "source": [
    "name.istitle()"
   ]
  },
  {
   "cell_type": "code",
   "execution_count": 138,
   "id": "b54cfea3-4f38-4c8b-a5aa-e5cdd42e9542",
   "metadata": {},
   "outputs": [],
   "source": [
    "data1 = \"pune\"\n",
    "data2 = \"1234\"\n",
    "data3 = \"pune1234\""
   ]
  },
  {
   "cell_type": "code",
   "execution_count": 140,
   "id": "c29e8f1a-c70d-407f-996c-f59796b27501",
   "metadata": {},
   "outputs": [
    {
     "data": {
      "text/plain": [
       "True"
      ]
     },
     "execution_count": 140,
     "metadata": {},
     "output_type": "execute_result"
    }
   ],
   "source": [
    "data1.isalpha()"
   ]
  },
  {
   "cell_type": "code",
   "execution_count": 142,
   "id": "66bd4521-e8df-475a-a53f-8f2da65f4387",
   "metadata": {},
   "outputs": [
    {
     "data": {
      "text/plain": [
       "False"
      ]
     },
     "execution_count": 142,
     "metadata": {},
     "output_type": "execute_result"
    }
   ],
   "source": [
    "data2.isalpha()"
   ]
  },
  {
   "cell_type": "code",
   "execution_count": 144,
   "id": "38611a50-a6aa-4af2-812e-12b8c0586804",
   "metadata": {},
   "outputs": [
    {
     "data": {
      "text/plain": [
       "False"
      ]
     },
     "execution_count": 144,
     "metadata": {},
     "output_type": "execute_result"
    }
   ],
   "source": [
    "data3.isalpha()"
   ]
  },
  {
   "cell_type": "code",
   "execution_count": 146,
   "id": "a38c6c9c-1e76-4cf0-aaf2-a6e6c0d7441f",
   "metadata": {},
   "outputs": [
    {
     "data": {
      "text/plain": [
       "False"
      ]
     },
     "execution_count": 146,
     "metadata": {},
     "output_type": "execute_result"
    }
   ],
   "source": [
    "data1.isdigit()"
   ]
  },
  {
   "cell_type": "code",
   "execution_count": 148,
   "id": "a8cbf9d1-1f50-4a96-a853-3aeb97d4ac66",
   "metadata": {},
   "outputs": [
    {
     "data": {
      "text/plain": [
       "True"
      ]
     },
     "execution_count": 148,
     "metadata": {},
     "output_type": "execute_result"
    }
   ],
   "source": [
    "data2.isdigit()"
   ]
  },
  {
   "cell_type": "code",
   "execution_count": 150,
   "id": "f893b4d6-6d5e-486b-a015-0ba12da3775a",
   "metadata": {},
   "outputs": [
    {
     "data": {
      "text/plain": [
       "True"
      ]
     },
     "execution_count": 150,
     "metadata": {},
     "output_type": "execute_result"
    }
   ],
   "source": [
    "data1.isalnum()"
   ]
  },
  {
   "cell_type": "code",
   "execution_count": 152,
   "id": "4d6b8161-acf5-4049-afc9-407f2bbc4fea",
   "metadata": {},
   "outputs": [
    {
     "data": {
      "text/plain": [
       "True"
      ]
     },
     "execution_count": 152,
     "metadata": {},
     "output_type": "execute_result"
    }
   ],
   "source": [
    "data3.isalnum()"
   ]
  },
  {
   "cell_type": "code",
   "execution_count": 162,
   "id": "e84de687-9d59-4c30-a162-e1b0b793caa0",
   "metadata": {},
   "outputs": [],
   "source": [
    "name = \" Pune \""
   ]
  },
  {
   "cell_type": "code",
   "execution_count": 164,
   "id": "940635e0-5d98-4886-9e13-27f35846ffa1",
   "metadata": {},
   "outputs": [
    {
     "data": {
      "text/plain": [
       "' Pune '"
      ]
     },
     "execution_count": 164,
     "metadata": {},
     "output_type": "execute_result"
    }
   ],
   "source": [
    "name"
   ]
  },
  {
   "cell_type": "code",
   "execution_count": 166,
   "id": "56891357-10fe-4226-8426-24950dcd167a",
   "metadata": {},
   "outputs": [
    {
     "data": {
      "text/plain": [
       "'Pune '"
      ]
     },
     "execution_count": 166,
     "metadata": {},
     "output_type": "execute_result"
    }
   ],
   "source": [
    "name.lstrip()"
   ]
  },
  {
   "cell_type": "code",
   "execution_count": 168,
   "id": "892616c0-023b-4845-9e45-02b7cd50c8e7",
   "metadata": {},
   "outputs": [
    {
     "data": {
      "text/plain": [
       "' Pune'"
      ]
     },
     "execution_count": 168,
     "metadata": {},
     "output_type": "execute_result"
    }
   ],
   "source": [
    "name.rstrip()"
   ]
  },
  {
   "cell_type": "code",
   "execution_count": 170,
   "id": "9d96ab10-7eed-449a-bc95-a31259883f59",
   "metadata": {},
   "outputs": [
    {
     "data": {
      "text/plain": [
       "'Pune'"
      ]
     },
     "execution_count": 170,
     "metadata": {},
     "output_type": "execute_result"
    }
   ],
   "source": [
    "name.strip()"
   ]
  },
  {
   "cell_type": "code",
   "execution_count": 172,
   "id": "6dd2a46c-2ada-401e-b170-077f996d869d",
   "metadata": {},
   "outputs": [],
   "source": [
    "sent = \" this is python \""
   ]
  },
  {
   "cell_type": "code",
   "execution_count": 174,
   "id": "00f8a346-a565-4e50-8f36-52d808a68bda",
   "metadata": {},
   "outputs": [
    {
     "data": {
      "text/plain": [
       "' this is python'"
      ]
     },
     "execution_count": 174,
     "metadata": {},
     "output_type": "execute_result"
    }
   ],
   "source": [
    "sent.rstrip()"
   ]
  },
  {
   "cell_type": "code",
   "execution_count": 176,
   "id": "21767a51-e025-4f3d-bf9b-7d08f4525aba",
   "metadata": {},
   "outputs": [],
   "source": [
    "num1 = 4\n",
    "num2 = 5"
   ]
  },
  {
   "cell_type": "code",
   "execution_count": 178,
   "id": "07abd485-3a53-4d4a-a3d9-5edcc957ece0",
   "metadata": {},
   "outputs": [
    {
     "data": {
      "text/plain": [
       "5"
      ]
     },
     "execution_count": 178,
     "metadata": {},
     "output_type": "execute_result"
    }
   ],
   "source": [
    "num1\n",
    "num2"
   ]
  },
  {
   "cell_type": "code",
   "execution_count": 180,
   "id": "178be292-8bd8-4211-9ccd-4c567a24541b",
   "metadata": {},
   "outputs": [
    {
     "name": "stdout",
     "output_type": "stream",
     "text": [
      "4\n",
      "5\n"
     ]
    }
   ],
   "source": [
    "print(num1)\n",
    "print(num2)"
   ]
  },
  {
   "cell_type": "code",
   "execution_count": 182,
   "id": "31f3dc20-b4e1-4018-be75-207f844197c7",
   "metadata": {},
   "outputs": [
    {
     "data": {
      "text/plain": [
       "' Pune '"
      ]
     },
     "execution_count": 182,
     "metadata": {},
     "output_type": "execute_result"
    }
   ],
   "source": [
    "name"
   ]
  },
  {
   "cell_type": "code",
   "execution_count": 184,
   "id": "00dbbc40-b141-470d-9fb4-c11061c829d2",
   "metadata": {},
   "outputs": [
    {
     "data": {
      "text/plain": [
       "False"
      ]
     },
     "execution_count": 184,
     "metadata": {},
     "output_type": "execute_result"
    }
   ],
   "source": [
    "name.startswith(\"P\")"
   ]
  },
  {
   "cell_type": "code",
   "execution_count": 188,
   "id": "079df077-3a48-4f21-9e16-440be39af96c",
   "metadata": {},
   "outputs": [
    {
     "data": {
      "text/plain": [
       "True"
      ]
     },
     "execution_count": 188,
     "metadata": {},
     "output_type": "execute_result"
    }
   ],
   "source": [
    "name.startswith(\" P\")"
   ]
  },
  {
   "cell_type": "code",
   "execution_count": 190,
   "id": "95d563d2-07ed-4da3-be26-b60c537b6059",
   "metadata": {},
   "outputs": [
    {
     "data": {
      "text/plain": [
       "True"
      ]
     },
     "execution_count": 190,
     "metadata": {},
     "output_type": "execute_result"
    }
   ],
   "source": [
    "name.endswith(\"e \")"
   ]
  },
  {
   "cell_type": "code",
   "execution_count": 192,
   "id": "a2415423-621c-49a5-bd7e-ab3c8562be35",
   "metadata": {},
   "outputs": [
    {
     "data": {
      "text/plain": [
       "' Poone '"
      ]
     },
     "execution_count": 192,
     "metadata": {},
     "output_type": "execute_result"
    }
   ],
   "source": [
    "name.replace(\"u\", \"oo\")"
   ]
  },
  {
   "cell_type": "code",
   "execution_count": 194,
   "id": "4e85e54c-adf0-4678-92df-7c27826ee64f",
   "metadata": {},
   "outputs": [
    {
     "data": {
      "text/plain": [
       "'Pune'"
      ]
     },
     "execution_count": 194,
     "metadata": {},
     "output_type": "execute_result"
    }
   ],
   "source": [
    "name = name.strip()\n",
    "name"
   ]
  },
  {
   "cell_type": "code",
   "execution_count": 196,
   "id": "950387e5-1957-44c9-92a2-4c1e5ac45e35",
   "metadata": {},
   "outputs": [
    {
     "data": {
      "text/plain": [
       "'P'"
      ]
     },
     "execution_count": 196,
     "metadata": {},
     "output_type": "execute_result"
    }
   ],
   "source": [
    "name[0]"
   ]
  },
  {
   "cell_type": "code",
   "execution_count": 198,
   "id": "2675a9bb-d314-4ddd-974b-bf07e235585c",
   "metadata": {},
   "outputs": [
    {
     "data": {
      "text/plain": [
       "1"
      ]
     },
     "execution_count": 198,
     "metadata": {},
     "output_type": "execute_result"
    }
   ],
   "source": [
    "name.find(\"u\")"
   ]
  },
  {
   "cell_type": "code",
   "execution_count": 200,
   "id": "edef7f68-b5eb-4c9d-ae5d-3bf65a0b216c",
   "metadata": {},
   "outputs": [
    {
     "data": {
      "text/plain": [
       "'Pun'"
      ]
     },
     "execution_count": 200,
     "metadata": {},
     "output_type": "execute_result"
    }
   ],
   "source": [
    "name[0: 3]"
   ]
  },
  {
   "cell_type": "code",
   "execution_count": 202,
   "id": "0bc76d80-11ef-4b5e-8b81-8ec744ff7dfb",
   "metadata": {},
   "outputs": [
    {
     "data": {
      "text/plain": [
       "['__add__',\n",
       " '__class__',\n",
       " '__contains__',\n",
       " '__delattr__',\n",
       " '__dir__',\n",
       " '__doc__',\n",
       " '__eq__',\n",
       " '__format__',\n",
       " '__ge__',\n",
       " '__getattribute__',\n",
       " '__getitem__',\n",
       " '__getnewargs__',\n",
       " '__getstate__',\n",
       " '__gt__',\n",
       " '__hash__',\n",
       " '__init__',\n",
       " '__init_subclass__',\n",
       " '__iter__',\n",
       " '__le__',\n",
       " '__len__',\n",
       " '__lt__',\n",
       " '__mod__',\n",
       " '__mul__',\n",
       " '__ne__',\n",
       " '__new__',\n",
       " '__reduce__',\n",
       " '__reduce_ex__',\n",
       " '__repr__',\n",
       " '__rmod__',\n",
       " '__rmul__',\n",
       " '__setattr__',\n",
       " '__sizeof__',\n",
       " '__str__',\n",
       " '__subclasshook__',\n",
       " 'capitalize',\n",
       " 'casefold',\n",
       " 'center',\n",
       " 'count',\n",
       " 'encode',\n",
       " 'endswith',\n",
       " 'expandtabs',\n",
       " 'find',\n",
       " 'format',\n",
       " 'format_map',\n",
       " 'index',\n",
       " 'isalnum',\n",
       " 'isalpha',\n",
       " 'isascii',\n",
       " 'isdecimal',\n",
       " 'isdigit',\n",
       " 'isidentifier',\n",
       " 'islower',\n",
       " 'isnumeric',\n",
       " 'isprintable',\n",
       " 'isspace',\n",
       " 'istitle',\n",
       " 'isupper',\n",
       " 'join',\n",
       " 'ljust',\n",
       " 'lower',\n",
       " 'lstrip',\n",
       " 'maketrans',\n",
       " 'partition',\n",
       " 'removeprefix',\n",
       " 'removesuffix',\n",
       " 'replace',\n",
       " 'rfind',\n",
       " 'rindex',\n",
       " 'rjust',\n",
       " 'rpartition',\n",
       " 'rsplit',\n",
       " 'rstrip',\n",
       " 'split',\n",
       " 'splitlines',\n",
       " 'startswith',\n",
       " 'strip',\n",
       " 'swapcase',\n",
       " 'title',\n",
       " 'translate',\n",
       " 'upper',\n",
       " 'zfill']"
      ]
     },
     "execution_count": 202,
     "metadata": {},
     "output_type": "execute_result"
    }
   ],
   "source": [
    "dir(name)"
   ]
  },
  {
   "cell_type": "code",
   "execution_count": 206,
   "id": "9e6958d1-e53f-4f53-ba71-97a3b23dc973",
   "metadata": {},
   "outputs": [
    {
     "name": "stdout",
     "output_type": "stream",
     "text": [
      "Help on built-in function startswith:\n",
      "\n",
      "startswith(...) method of builtins.str instance\n",
      "    S.startswith(prefix[, start[, end]]) -> bool\n",
      "    \n",
      "    Return True if S starts with the specified prefix, False otherwise.\n",
      "    With optional start, test S beginning at that position.\n",
      "    With optional end, stop comparing S at that position.\n",
      "    prefix can also be a tuple of strings to try.\n",
      "\n"
     ]
    }
   ],
   "source": [
    "help(name.startswith)"
   ]
  },
  {
   "cell_type": "code",
   "execution_count": 208,
   "id": "54d08594-620f-44a8-b3af-6499da5cadae",
   "metadata": {},
   "outputs": [
    {
     "name": "stdout",
     "output_type": "stream",
     "text": [
      "Help on built-in function strip:\n",
      "\n",
      "strip(chars=None, /) method of builtins.str instance\n",
      "    Return a copy of the string with leading and trailing whitespace removed.\n",
      "    \n",
      "    If chars is given and not None, remove characters in chars instead.\n",
      "\n"
     ]
    }
   ],
   "source": [
    "help(name.strip)"
   ]
  },
  {
   "cell_type": "code",
   "execution_count": 210,
   "id": "017e9f8e-c679-4a46-9f02-ac565b01ca79",
   "metadata": {},
   "outputs": [
    {
     "name": "stdout",
     "output_type": "stream",
     "text": [
      "Help on class str in module builtins:\n",
      "\n",
      "class str(object)\n",
      " |  str(object='') -> str\n",
      " |  str(bytes_or_buffer[, encoding[, errors]]) -> str\n",
      " |  \n",
      " |  Create a new string object from the given object. If encoding or\n",
      " |  errors is specified, then the object must expose a data buffer\n",
      " |  that will be decoded using the given encoding and error handler.\n",
      " |  Otherwise, returns the result of object.__str__() (if defined)\n",
      " |  or repr(object).\n",
      " |  encoding defaults to sys.getdefaultencoding().\n",
      " |  errors defaults to 'strict'.\n",
      " |  \n",
      " |  Methods defined here:\n",
      " |  \n",
      " |  __add__(self, value, /)\n",
      " |      Return self+value.\n",
      " |  \n",
      " |  __contains__(self, key, /)\n",
      " |      Return key in self.\n",
      " |  \n",
      " |  __eq__(self, value, /)\n",
      " |      Return self==value.\n",
      " |  \n",
      " |  __format__(self, format_spec, /)\n",
      " |      Return a formatted version of the string as described by format_spec.\n",
      " |  \n",
      " |  __ge__(self, value, /)\n",
      " |      Return self>=value.\n",
      " |  \n",
      " |  __getattribute__(self, name, /)\n",
      " |      Return getattr(self, name).\n",
      " |  \n",
      " |  __getitem__(self, key, /)\n",
      " |      Return self[key].\n",
      " |  \n",
      " |  __getnewargs__(...)\n",
      " |  \n",
      " |  __gt__(self, value, /)\n",
      " |      Return self>value.\n",
      " |  \n",
      " |  __hash__(self, /)\n",
      " |      Return hash(self).\n",
      " |  \n",
      " |  __iter__(self, /)\n",
      " |      Implement iter(self).\n",
      " |  \n",
      " |  __le__(self, value, /)\n",
      " |      Return self<=value.\n",
      " |  \n",
      " |  __len__(self, /)\n",
      " |      Return len(self).\n",
      " |  \n",
      " |  __lt__(self, value, /)\n",
      " |      Return self<value.\n",
      " |  \n",
      " |  __mod__(self, value, /)\n",
      " |      Return self%value.\n",
      " |  \n",
      " |  __mul__(self, value, /)\n",
      " |      Return self*value.\n",
      " |  \n",
      " |  __ne__(self, value, /)\n",
      " |      Return self!=value.\n",
      " |  \n",
      " |  __repr__(self, /)\n",
      " |      Return repr(self).\n",
      " |  \n",
      " |  __rmod__(self, value, /)\n",
      " |      Return value%self.\n",
      " |  \n",
      " |  __rmul__(self, value, /)\n",
      " |      Return value*self.\n",
      " |  \n",
      " |  __sizeof__(self, /)\n",
      " |      Return the size of the string in memory, in bytes.\n",
      " |  \n",
      " |  __str__(self, /)\n",
      " |      Return str(self).\n",
      " |  \n",
      " |  capitalize(self, /)\n",
      " |      Return a capitalized version of the string.\n",
      " |      \n",
      " |      More specifically, make the first character have upper case and the rest lower\n",
      " |      case.\n",
      " |  \n",
      " |  casefold(self, /)\n",
      " |      Return a version of the string suitable for caseless comparisons.\n",
      " |  \n",
      " |  center(self, width, fillchar=' ', /)\n",
      " |      Return a centered string of length width.\n",
      " |      \n",
      " |      Padding is done using the specified fill character (default is a space).\n",
      " |  \n",
      " |  count(...)\n",
      " |      S.count(sub[, start[, end]]) -> int\n",
      " |      \n",
      " |      Return the number of non-overlapping occurrences of substring sub in\n",
      " |      string S[start:end].  Optional arguments start and end are\n",
      " |      interpreted as in slice notation.\n",
      " |  \n",
      " |  encode(self, /, encoding='utf-8', errors='strict')\n",
      " |      Encode the string using the codec registered for encoding.\n",
      " |      \n",
      " |      encoding\n",
      " |        The encoding in which to encode the string.\n",
      " |      errors\n",
      " |        The error handling scheme to use for encoding errors.\n",
      " |        The default is 'strict' meaning that encoding errors raise a\n",
      " |        UnicodeEncodeError.  Other possible values are 'ignore', 'replace' and\n",
      " |        'xmlcharrefreplace' as well as any other name registered with\n",
      " |        codecs.register_error that can handle UnicodeEncodeErrors.\n",
      " |  \n",
      " |  endswith(...)\n",
      " |      S.endswith(suffix[, start[, end]]) -> bool\n",
      " |      \n",
      " |      Return True if S ends with the specified suffix, False otherwise.\n",
      " |      With optional start, test S beginning at that position.\n",
      " |      With optional end, stop comparing S at that position.\n",
      " |      suffix can also be a tuple of strings to try.\n",
      " |  \n",
      " |  expandtabs(self, /, tabsize=8)\n",
      " |      Return a copy where all tab characters are expanded using spaces.\n",
      " |      \n",
      " |      If tabsize is not given, a tab size of 8 characters is assumed.\n",
      " |  \n",
      " |  find(...)\n",
      " |      S.find(sub[, start[, end]]) -> int\n",
      " |      \n",
      " |      Return the lowest index in S where substring sub is found,\n",
      " |      such that sub is contained within S[start:end].  Optional\n",
      " |      arguments start and end are interpreted as in slice notation.\n",
      " |      \n",
      " |      Return -1 on failure.\n",
      " |  \n",
      " |  format(...)\n",
      " |      S.format(*args, **kwargs) -> str\n",
      " |      \n",
      " |      Return a formatted version of S, using substitutions from args and kwargs.\n",
      " |      The substitutions are identified by braces ('{' and '}').\n",
      " |  \n",
      " |  format_map(...)\n",
      " |      S.format_map(mapping) -> str\n",
      " |      \n",
      " |      Return a formatted version of S, using substitutions from mapping.\n",
      " |      The substitutions are identified by braces ('{' and '}').\n",
      " |  \n",
      " |  index(...)\n",
      " |      S.index(sub[, start[, end]]) -> int\n",
      " |      \n",
      " |      Return the lowest index in S where substring sub is found,\n",
      " |      such that sub is contained within S[start:end].  Optional\n",
      " |      arguments start and end are interpreted as in slice notation.\n",
      " |      \n",
      " |      Raises ValueError when the substring is not found.\n",
      " |  \n",
      " |  isalnum(self, /)\n",
      " |      Return True if the string is an alpha-numeric string, False otherwise.\n",
      " |      \n",
      " |      A string is alpha-numeric if all characters in the string are alpha-numeric and\n",
      " |      there is at least one character in the string.\n",
      " |  \n",
      " |  isalpha(self, /)\n",
      " |      Return True if the string is an alphabetic string, False otherwise.\n",
      " |      \n",
      " |      A string is alphabetic if all characters in the string are alphabetic and there\n",
      " |      is at least one character in the string.\n",
      " |  \n",
      " |  isascii(self, /)\n",
      " |      Return True if all characters in the string are ASCII, False otherwise.\n",
      " |      \n",
      " |      ASCII characters have code points in the range U+0000-U+007F.\n",
      " |      Empty string is ASCII too.\n",
      " |  \n",
      " |  isdecimal(self, /)\n",
      " |      Return True if the string is a decimal string, False otherwise.\n",
      " |      \n",
      " |      A string is a decimal string if all characters in the string are decimal and\n",
      " |      there is at least one character in the string.\n",
      " |  \n",
      " |  isdigit(self, /)\n",
      " |      Return True if the string is a digit string, False otherwise.\n",
      " |      \n",
      " |      A string is a digit string if all characters in the string are digits and there\n",
      " |      is at least one character in the string.\n",
      " |  \n",
      " |  isidentifier(self, /)\n",
      " |      Return True if the string is a valid Python identifier, False otherwise.\n",
      " |      \n",
      " |      Call keyword.iskeyword(s) to test whether string s is a reserved identifier,\n",
      " |      such as \"def\" or \"class\".\n",
      " |  \n",
      " |  islower(self, /)\n",
      " |      Return True if the string is a lowercase string, False otherwise.\n",
      " |      \n",
      " |      A string is lowercase if all cased characters in the string are lowercase and\n",
      " |      there is at least one cased character in the string.\n",
      " |  \n",
      " |  isnumeric(self, /)\n",
      " |      Return True if the string is a numeric string, False otherwise.\n",
      " |      \n",
      " |      A string is numeric if all characters in the string are numeric and there is at\n",
      " |      least one character in the string.\n",
      " |  \n",
      " |  isprintable(self, /)\n",
      " |      Return True if the string is printable, False otherwise.\n",
      " |      \n",
      " |      A string is printable if all of its characters are considered printable in\n",
      " |      repr() or if it is empty.\n",
      " |  \n",
      " |  isspace(self, /)\n",
      " |      Return True if the string is a whitespace string, False otherwise.\n",
      " |      \n",
      " |      A string is whitespace if all characters in the string are whitespace and there\n",
      " |      is at least one character in the string.\n",
      " |  \n",
      " |  istitle(self, /)\n",
      " |      Return True if the string is a title-cased string, False otherwise.\n",
      " |      \n",
      " |      In a title-cased string, upper- and title-case characters may only\n",
      " |      follow uncased characters and lowercase characters only cased ones.\n",
      " |  \n",
      " |  isupper(self, /)\n",
      " |      Return True if the string is an uppercase string, False otherwise.\n",
      " |      \n",
      " |      A string is uppercase if all cased characters in the string are uppercase and\n",
      " |      there is at least one cased character in the string.\n",
      " |  \n",
      " |  join(self, iterable, /)\n",
      " |      Concatenate any number of strings.\n",
      " |      \n",
      " |      The string whose method is called is inserted in between each given string.\n",
      " |      The result is returned as a new string.\n",
      " |      \n",
      " |      Example: '.'.join(['ab', 'pq', 'rs']) -> 'ab.pq.rs'\n",
      " |  \n",
      " |  ljust(self, width, fillchar=' ', /)\n",
      " |      Return a left-justified string of length width.\n",
      " |      \n",
      " |      Padding is done using the specified fill character (default is a space).\n",
      " |  \n",
      " |  lower(self, /)\n",
      " |      Return a copy of the string converted to lowercase.\n",
      " |  \n",
      " |  lstrip(self, chars=None, /)\n",
      " |      Return a copy of the string with leading whitespace removed.\n",
      " |      \n",
      " |      If chars is given and not None, remove characters in chars instead.\n",
      " |  \n",
      " |  partition(self, sep, /)\n",
      " |      Partition the string into three parts using the given separator.\n",
      " |      \n",
      " |      This will search for the separator in the string.  If the separator is found,\n",
      " |      returns a 3-tuple containing the part before the separator, the separator\n",
      " |      itself, and the part after it.\n",
      " |      \n",
      " |      If the separator is not found, returns a 3-tuple containing the original string\n",
      " |      and two empty strings.\n",
      " |  \n",
      " |  removeprefix(self, prefix, /)\n",
      " |      Return a str with the given prefix string removed if present.\n",
      " |      \n",
      " |      If the string starts with the prefix string, return string[len(prefix):].\n",
      " |      Otherwise, return a copy of the original string.\n",
      " |  \n",
      " |  removesuffix(self, suffix, /)\n",
      " |      Return a str with the given suffix string removed if present.\n",
      " |      \n",
      " |      If the string ends with the suffix string and that suffix is not empty,\n",
      " |      return string[:-len(suffix)]. Otherwise, return a copy of the original\n",
      " |      string.\n",
      " |  \n",
      " |  replace(self, old, new, count=-1, /)\n",
      " |      Return a copy with all occurrences of substring old replaced by new.\n",
      " |      \n",
      " |        count\n",
      " |          Maximum number of occurrences to replace.\n",
      " |          -1 (the default value) means replace all occurrences.\n",
      " |      \n",
      " |      If the optional argument count is given, only the first count occurrences are\n",
      " |      replaced.\n",
      " |  \n",
      " |  rfind(...)\n",
      " |      S.rfind(sub[, start[, end]]) -> int\n",
      " |      \n",
      " |      Return the highest index in S where substring sub is found,\n",
      " |      such that sub is contained within S[start:end].  Optional\n",
      " |      arguments start and end are interpreted as in slice notation.\n",
      " |      \n",
      " |      Return -1 on failure.\n",
      " |  \n",
      " |  rindex(...)\n",
      " |      S.rindex(sub[, start[, end]]) -> int\n",
      " |      \n",
      " |      Return the highest index in S where substring sub is found,\n",
      " |      such that sub is contained within S[start:end].  Optional\n",
      " |      arguments start and end are interpreted as in slice notation.\n",
      " |      \n",
      " |      Raises ValueError when the substring is not found.\n",
      " |  \n",
      " |  rjust(self, width, fillchar=' ', /)\n",
      " |      Return a right-justified string of length width.\n",
      " |      \n",
      " |      Padding is done using the specified fill character (default is a space).\n",
      " |  \n",
      " |  rpartition(self, sep, /)\n",
      " |      Partition the string into three parts using the given separator.\n",
      " |      \n",
      " |      This will search for the separator in the string, starting at the end. If\n",
      " |      the separator is found, returns a 3-tuple containing the part before the\n",
      " |      separator, the separator itself, and the part after it.\n",
      " |      \n",
      " |      If the separator is not found, returns a 3-tuple containing two empty strings\n",
      " |      and the original string.\n",
      " |  \n",
      " |  rsplit(self, /, sep=None, maxsplit=-1)\n",
      " |      Return a list of the substrings in the string, using sep as the separator string.\n",
      " |      \n",
      " |        sep\n",
      " |          The separator used to split the string.\n",
      " |      \n",
      " |          When set to None (the default value), will split on any whitespace\n",
      " |          character (including \\n \\r \\t \\f and spaces) and will discard\n",
      " |          empty strings from the result.\n",
      " |        maxsplit\n",
      " |          Maximum number of splits.\n",
      " |          -1 (the default value) means no limit.\n",
      " |      \n",
      " |      Splitting starts at the end of the string and works to the front.\n",
      " |  \n",
      " |  rstrip(self, chars=None, /)\n",
      " |      Return a copy of the string with trailing whitespace removed.\n",
      " |      \n",
      " |      If chars is given and not None, remove characters in chars instead.\n",
      " |  \n",
      " |  split(self, /, sep=None, maxsplit=-1)\n",
      " |      Return a list of the substrings in the string, using sep as the separator string.\n",
      " |      \n",
      " |        sep\n",
      " |          The separator used to split the string.\n",
      " |      \n",
      " |          When set to None (the default value), will split on any whitespace\n",
      " |          character (including \\n \\r \\t \\f and spaces) and will discard\n",
      " |          empty strings from the result.\n",
      " |        maxsplit\n",
      " |          Maximum number of splits.\n",
      " |          -1 (the default value) means no limit.\n",
      " |      \n",
      " |      Splitting starts at the front of the string and works to the end.\n",
      " |      \n",
      " |      Note, str.split() is mainly useful for data that has been intentionally\n",
      " |      delimited.  With natural text that includes punctuation, consider using\n",
      " |      the regular expression module.\n",
      " |  \n",
      " |  splitlines(self, /, keepends=False)\n",
      " |      Return a list of the lines in the string, breaking at line boundaries.\n",
      " |      \n",
      " |      Line breaks are not included in the resulting list unless keepends is given and\n",
      " |      true.\n",
      " |  \n",
      " |  startswith(...)\n",
      " |      S.startswith(prefix[, start[, end]]) -> bool\n",
      " |      \n",
      " |      Return True if S starts with the specified prefix, False otherwise.\n",
      " |      With optional start, test S beginning at that position.\n",
      " |      With optional end, stop comparing S at that position.\n",
      " |      prefix can also be a tuple of strings to try.\n",
      " |  \n",
      " |  strip(self, chars=None, /)\n",
      " |      Return a copy of the string with leading and trailing whitespace removed.\n",
      " |      \n",
      " |      If chars is given and not None, remove characters in chars instead.\n",
      " |  \n",
      " |  swapcase(self, /)\n",
      " |      Convert uppercase characters to lowercase and lowercase characters to uppercase.\n",
      " |  \n",
      " |  title(self, /)\n",
      " |      Return a version of the string where each word is titlecased.\n",
      " |      \n",
      " |      More specifically, words start with uppercased characters and all remaining\n",
      " |      cased characters have lower case.\n",
      " |  \n",
      " |  translate(self, table, /)\n",
      " |      Replace each character in the string using the given translation table.\n",
      " |      \n",
      " |        table\n",
      " |          Translation table, which must be a mapping of Unicode ordinals to\n",
      " |          Unicode ordinals, strings, or None.\n",
      " |      \n",
      " |      The table must implement lookup/indexing via __getitem__, for instance a\n",
      " |      dictionary or list.  If this operation raises LookupError, the character is\n",
      " |      left untouched.  Characters mapped to None are deleted.\n",
      " |  \n",
      " |  upper(self, /)\n",
      " |      Return a copy of the string converted to uppercase.\n",
      " |  \n",
      " |  zfill(self, width, /)\n",
      " |      Pad a numeric string with zeros on the left, to fill a field of the given width.\n",
      " |      \n",
      " |      The string is never truncated.\n",
      " |  \n",
      " |  ----------------------------------------------------------------------\n",
      " |  Static methods defined here:\n",
      " |  \n",
      " |  __new__(*args, **kwargs) from builtins.type\n",
      " |      Create and return a new object.  See help(type) for accurate signature.\n",
      " |  \n",
      " |  maketrans(...)\n",
      " |      Return a translation table usable for str.translate().\n",
      " |      \n",
      " |      If there is only one argument, it must be a dictionary mapping Unicode\n",
      " |      ordinals (integers) or characters to Unicode ordinals, strings or None.\n",
      " |      Character keys will be then converted to ordinals.\n",
      " |      If there are two arguments, they must be strings of equal length, and\n",
      " |      in the resulting dictionary, each character in x will be mapped to the\n",
      " |      character at the same position in y. If there is a third argument, it\n",
      " |      must be a string, whose characters will be mapped to None in the result.\n",
      "\n"
     ]
    }
   ],
   "source": [
    "help(str)"
   ]
  },
  {
   "cell_type": "code",
   "execution_count": 212,
   "id": "402e8861-63b5-4d37-bab8-7246a00f3f00",
   "metadata": {},
   "outputs": [],
   "source": [
    "name1 = \"pune\"\n",
    "name2 = \"1234\""
   ]
  },
  {
   "cell_type": "code",
   "execution_count": 218,
   "id": "baff9608-ad80-4081-b363-0727c5bab698",
   "metadata": {},
   "outputs": [
    {
     "data": {
      "text/plain": [
       "'pune1234'"
      ]
     },
     "execution_count": 218,
     "metadata": {},
     "output_type": "execute_result"
    }
   ],
   "source": [
    "name1 + name2  # concating the strings"
   ]
  },
  {
   "cell_type": "code",
   "execution_count": 220,
   "id": "bef48f17-d22e-4d18-8adf-02793555cb1e",
   "metadata": {},
   "outputs": [
    {
     "data": {
      "text/plain": [
       "'pune 1234'"
      ]
     },
     "execution_count": 220,
     "metadata": {},
     "output_type": "execute_result"
    }
   ],
   "source": [
    "name1 + ' ' + name2"
   ]
  },
  {
   "cell_type": "code",
   "execution_count": 224,
   "id": "2ae31dc5-6a95-462f-ad84-4fce095dbe19",
   "metadata": {},
   "outputs": [
    {
     "data": {
      "text/plain": [
       "'Pune Pune Pune '"
      ]
     },
     "execution_count": 224,
     "metadata": {},
     "output_type": "execute_result"
    }
   ],
   "source": [
    "(name + \" \") * 3"
   ]
  },
  {
   "cell_type": "code",
   "execution_count": 226,
   "id": "67e3122c-6e58-42a6-aec4-1cea99bdbcd4",
   "metadata": {},
   "outputs": [],
   "source": [
    "# escape sequence"
   ]
  },
  {
   "cell_type": "code",
   "execution_count": 232,
   "id": "2f247ce2-f76b-4f99-9f8e-46ceaf125c69",
   "metadata": {},
   "outputs": [
    {
     "name": "stdout",
     "output_type": "stream",
     "text": [
      "Hello\n",
      "World\n"
     ]
    }
   ],
   "source": [
    "print(\"Hello\\nWorld\")"
   ]
  },
  {
   "cell_type": "code",
   "execution_count": 234,
   "id": "1cd027d5-b50d-46d9-9d12-96bb5a685e5f",
   "metadata": {},
   "outputs": [
    {
     "name": "stdout",
     "output_type": "stream",
     "text": [
      "Hello\tWorld\n"
     ]
    }
   ],
   "source": [
    "print(\"Hello\\tWorld\")"
   ]
  },
  {
   "cell_type": "code",
   "execution_count": 238,
   "id": "27823a81-192b-403b-813b-fad99abedb2c",
   "metadata": {},
   "outputs": [
    {
     "name": "stdout",
     "output_type": "stream",
     "text": [
      "Hello\"World\n"
     ]
    }
   ],
   "source": [
    "print(\"Hello\\\"World\")"
   ]
  },
  {
   "cell_type": "code",
   "execution_count": 242,
   "id": "d2d4aaa7-b3db-4182-831e-e80bdf8eb11c",
   "metadata": {},
   "outputs": [],
   "source": [
    "# doc string"
   ]
  },
  {
   "cell_type": "code",
   "execution_count": 244,
   "id": "e1702c6d-476b-4567-9c9b-f37f574ea970",
   "metadata": {},
   "outputs": [
    {
     "name": "stdout",
     "output_type": "stream",
     "text": [
      "this is the 1st line\n",
      "this is the 2nd\n",
      "this is the third\n"
     ]
    }
   ],
   "source": [
    "print(\"\"\"this is the 1st line\n",
    "this is the 2nd\n",
    "this is the third\"\"\")"
   ]
  },
  {
   "cell_type": "code",
   "execution_count": 246,
   "id": "f23a439c-e74b-48a3-8f28-1389c50aa4c5",
   "metadata": {},
   "outputs": [
    {
     "name": "stdout",
     "output_type": "stream",
     "text": [
      "this is the 1st line\n",
      "this is the 2nd\n",
      "this is the third\n"
     ]
    }
   ],
   "source": [
    "print('''this is the 1st line\n",
    "this is the 2nd\n",
    "this is the third''')"
   ]
  },
  {
   "cell_type": "code",
   "execution_count": 248,
   "id": "df2ad893-a638-4fc2-a86a-25f0cf77390a",
   "metadata": {},
   "outputs": [],
   "source": [
    "name = \"Ayan\"\n",
    "marks = 60"
   ]
  },
  {
   "cell_type": "code",
   "execution_count": 250,
   "id": "d17183b9-661f-4af0-91da-d76d26e8d8a1",
   "metadata": {},
   "outputs": [],
   "source": [
    "# my name is Ayan and marks are 60"
   ]
  },
  {
   "cell_type": "code",
   "execution_count": 252,
   "id": "412dea6f-9b74-4935-a0c8-eb421e38e1fb",
   "metadata": {},
   "outputs": [
    {
     "name": "stdout",
     "output_type": "stream",
     "text": [
      "my name is Ayan and marks are 60\n"
     ]
    }
   ],
   "source": [
    "print(\"my name is\", name,\"and marks are\", marks)"
   ]
  },
  {
   "cell_type": "code",
   "execution_count": 254,
   "id": "7c12ac86-00d7-4cd6-a005-53a3a7f0624f",
   "metadata": {},
   "outputs": [
    {
     "name": "stdout",
     "output_type": "stream",
     "text": [
      "my name is Ayan and marks are 60\n"
     ]
    }
   ],
   "source": [
    "print(f\"my name is {name} and marks are {marks}\")"
   ]
  },
  {
   "cell_type": "code",
   "execution_count": 256,
   "id": "6faf8b63-0130-4fce-b97a-52ed40a3ed98",
   "metadata": {},
   "outputs": [],
   "source": [
    "name = \"jack\"\n",
    "city = \"mumbai\"\n",
    "marks = 70"
   ]
  },
  {
   "cell_type": "code",
   "execution_count": 260,
   "id": "09de9d7d-0b5c-40f7-b921-ff9952e07394",
   "metadata": {},
   "outputs": [
    {
     "name": "stdout",
     "output_type": "stream",
     "text": [
      "jack\n",
      "mumbai\n",
      "70\n"
     ]
    }
   ],
   "source": [
    "print(name, city, marks, sep = '\\n')"
   ]
  },
  {
   "cell_type": "code",
   "execution_count": 264,
   "id": "ea9bea7d-4adf-48b5-82ed-275a59b1f587",
   "metadata": {},
   "outputs": [
    {
     "name": "stdout",
     "output_type": "stream",
     "text": [
      "jack\tmumbai\t70\n"
     ]
    }
   ],
   "source": [
    "print(name, city, marks, sep = '\\t')"
   ]
  },
  {
   "cell_type": "code",
   "execution_count": 266,
   "id": "1d905b3e-f275-4cee-9f57-cd2e91f99cab",
   "metadata": {},
   "outputs": [
    {
     "name": "stdout",
     "output_type": "stream",
     "text": [
      "jack*mumbai*70\n"
     ]
    }
   ],
   "source": [
    "print(name, city, marks, sep = '*')"
   ]
  },
  {
   "cell_type": "code",
   "execution_count": 268,
   "id": "614eb70e-c278-4a7e-b075-3b0cdc3cb6b2",
   "metadata": {},
   "outputs": [
    {
     "name": "stdout",
     "output_type": "stream",
     "text": [
      "jack mumbai 70*"
     ]
    }
   ],
   "source": [
    "print(name, city, marks, end = '*')"
   ]
  },
  {
   "cell_type": "code",
   "execution_count": 270,
   "id": "19b27f0b-0f13-44eb-8491-4c39fe0dac54",
   "metadata": {},
   "outputs": [],
   "source": [
    "# arithmetic operators"
   ]
  },
  {
   "cell_type": "code",
   "execution_count": 272,
   "id": "78492f52-d363-4ca2-bc22-c1adece08580",
   "metadata": {},
   "outputs": [],
   "source": [
    "num1 = 10\n",
    "num2 = 3"
   ]
  },
  {
   "cell_type": "code",
   "execution_count": 274,
   "id": "4f11d72d-037b-4231-a626-deeab5e959ef",
   "metadata": {},
   "outputs": [
    {
     "data": {
      "text/plain": [
       "13"
      ]
     },
     "execution_count": 274,
     "metadata": {},
     "output_type": "execute_result"
    }
   ],
   "source": [
    "num1 + num2"
   ]
  },
  {
   "cell_type": "code",
   "execution_count": 276,
   "id": "84d8b2be-74e7-4e67-876d-0b9ec589d886",
   "metadata": {},
   "outputs": [
    {
     "data": {
      "text/plain": [
       "7"
      ]
     },
     "execution_count": 276,
     "metadata": {},
     "output_type": "execute_result"
    }
   ],
   "source": [
    "num1 - num2"
   ]
  },
  {
   "cell_type": "code",
   "execution_count": 278,
   "id": "482747a3-f8f5-4164-9e41-5f0cc4b634a0",
   "metadata": {},
   "outputs": [
    {
     "data": {
      "text/plain": [
       "30"
      ]
     },
     "execution_count": 278,
     "metadata": {},
     "output_type": "execute_result"
    }
   ],
   "source": [
    "num1 * num2"
   ]
  },
  {
   "cell_type": "code",
   "execution_count": 280,
   "id": "6463d598-250c-4077-ae0e-9608ee7afb01",
   "metadata": {},
   "outputs": [
    {
     "data": {
      "text/plain": [
       "3.3333333333333335"
      ]
     },
     "execution_count": 280,
     "metadata": {},
     "output_type": "execute_result"
    }
   ],
   "source": [
    "num1 / num2"
   ]
  },
  {
   "cell_type": "code",
   "execution_count": 282,
   "id": "7febed53-dcd7-43ef-94ee-00500e1c5e93",
   "metadata": {},
   "outputs": [
    {
     "data": {
      "text/plain": [
       "1000"
      ]
     },
     "execution_count": 282,
     "metadata": {},
     "output_type": "execute_result"
    }
   ],
   "source": [
    "num1 ** 3"
   ]
  },
  {
   "cell_type": "code",
   "execution_count": 284,
   "id": "0b680060-ba5b-4f1c-a3c1-955fcbddf6cf",
   "metadata": {},
   "outputs": [
    {
     "data": {
      "text/plain": [
       "3"
      ]
     },
     "execution_count": 284,
     "metadata": {},
     "output_type": "execute_result"
    }
   ],
   "source": [
    "num1 // num2  # floor division"
   ]
  },
  {
   "cell_type": "code",
   "execution_count": 286,
   "id": "cd710d75-d96d-40ac-8476-25c607eabdba",
   "metadata": {},
   "outputs": [
    {
     "data": {
      "text/plain": [
       "1"
      ]
     },
     "execution_count": 286,
     "metadata": {},
     "output_type": "execute_result"
    }
   ],
   "source": [
    "num1 % num2 # remainder"
   ]
  },
  {
   "cell_type": "code",
   "execution_count": 288,
   "id": "31242014-e2f3-46e3-a88f-c4772d8aaa49",
   "metadata": {},
   "outputs": [],
   "source": [
    "# relational operators"
   ]
  },
  {
   "cell_type": "code",
   "execution_count": 298,
   "id": "2b0c9156-4e7e-4579-a4b3-dd7c28a935c4",
   "metadata": {},
   "outputs": [
    {
     "data": {
      "text/plain": [
       "True"
      ]
     },
     "execution_count": 298,
     "metadata": {},
     "output_type": "execute_result"
    }
   ],
   "source": [
    "num1 >= num2"
   ]
  },
  {
   "cell_type": "code",
   "execution_count": 292,
   "id": "eb05f39c-bcbc-41b2-bf35-0575f9d0cec6",
   "metadata": {},
   "outputs": [
    {
     "data": {
      "text/plain": [
       "False"
      ]
     },
     "execution_count": 292,
     "metadata": {},
     "output_type": "execute_result"
    }
   ],
   "source": [
    "num1 < num2"
   ]
  },
  {
   "cell_type": "code",
   "execution_count": 294,
   "id": "d442bd66-7db6-470c-a56f-533734e489eb",
   "metadata": {},
   "outputs": [
    {
     "data": {
      "text/plain": [
       "False"
      ]
     },
     "execution_count": 294,
     "metadata": {},
     "output_type": "execute_result"
    }
   ],
   "source": [
    "num1 == num2"
   ]
  },
  {
   "cell_type": "code",
   "execution_count": 296,
   "id": "fc492c76-7227-463e-952b-9a0066c9b77f",
   "metadata": {},
   "outputs": [
    {
     "data": {
      "text/plain": [
       "True"
      ]
     },
     "execution_count": 296,
     "metadata": {},
     "output_type": "execute_result"
    }
   ],
   "source": [
    "num1 != num2"
   ]
  },
  {
   "cell_type": "code",
   "execution_count": 300,
   "id": "299c4b0e-9f98-4cd6-864e-e976249a14ee",
   "metadata": {},
   "outputs": [],
   "source": [
    "# assignment operators"
   ]
  },
  {
   "cell_type": "code",
   "execution_count": 302,
   "id": "44e14591-49c9-48ce-8b90-09257589d3f2",
   "metadata": {},
   "outputs": [],
   "source": [
    "num1 = 30"
   ]
  },
  {
   "cell_type": "code",
   "execution_count": 304,
   "id": "4b597cc7-4743-433a-9753-01f38c7b3113",
   "metadata": {},
   "outputs": [],
   "source": [
    "# num1 = num1 + 5\n",
    "num1 += 5"
   ]
  },
  {
   "cell_type": "code",
   "execution_count": 306,
   "id": "778ec078-146a-45e9-a5d6-a896f060df08",
   "metadata": {},
   "outputs": [
    {
     "data": {
      "text/plain": [
       "35"
      ]
     },
     "execution_count": 306,
     "metadata": {},
     "output_type": "execute_result"
    }
   ],
   "source": [
    "num1"
   ]
  },
  {
   "cell_type": "code",
   "execution_count": 308,
   "id": "3c19a718-2f28-4f6e-944f-87384d235e94",
   "metadata": {},
   "outputs": [],
   "source": [
    "num1 /= 5"
   ]
  },
  {
   "cell_type": "code",
   "execution_count": 310,
   "id": "08811149-f65e-418b-9fa2-0975b29de245",
   "metadata": {},
   "outputs": [
    {
     "data": {
      "text/plain": [
       "7.0"
      ]
     },
     "execution_count": 310,
     "metadata": {},
     "output_type": "execute_result"
    }
   ],
   "source": [
    "num1"
   ]
  },
  {
   "cell_type": "code",
   "execution_count": 314,
   "id": "3e1daefd-efbd-4d4c-811f-a412b9d80b39",
   "metadata": {},
   "outputs": [
    {
     "data": {
      "text/plain": [
       "7.0"
      ]
     },
     "execution_count": 314,
     "metadata": {},
     "output_type": "execute_result"
    }
   ],
   "source": [
    "num1"
   ]
  },
  {
   "cell_type": "code",
   "execution_count": 316,
   "id": "5f9bc7e6-6977-48e1-8ac4-a80effb70761",
   "metadata": {},
   "outputs": [
    {
     "data": {
      "text/plain": [
       "3"
      ]
     },
     "execution_count": 316,
     "metadata": {},
     "output_type": "execute_result"
    }
   ],
   "source": [
    "num2"
   ]
  },
  {
   "cell_type": "code",
   "execution_count": 312,
   "id": "6525cf1a-369c-421c-b844-e91060249419",
   "metadata": {},
   "outputs": [],
   "source": [
    "# logical operators"
   ]
  },
  {
   "cell_type": "code",
   "execution_count": 318,
   "id": "02215c89-a370-405e-906d-6fe320ca6cd0",
   "metadata": {},
   "outputs": [
    {
     "data": {
      "text/plain": [
       "True"
      ]
     },
     "execution_count": 318,
     "metadata": {},
     "output_type": "execute_result"
    }
   ],
   "source": [
    "num1 > num2 and num1 > 0"
   ]
  },
  {
   "cell_type": "code",
   "execution_count": 320,
   "id": "a5fc2b1e-2c55-4607-be01-34995bff0c9b",
   "metadata": {},
   "outputs": [
    {
     "data": {
      "text/plain": [
       "False"
      ]
     },
     "execution_count": 320,
     "metadata": {},
     "output_type": "execute_result"
    }
   ],
   "source": [
    "num1 > num2 and num1 > 100"
   ]
  },
  {
   "cell_type": "code",
   "execution_count": 322,
   "id": "115e49c0-50dd-419c-8470-3d98abab318e",
   "metadata": {},
   "outputs": [
    {
     "data": {
      "text/plain": [
       "True"
      ]
     },
     "execution_count": 322,
     "metadata": {},
     "output_type": "execute_result"
    }
   ],
   "source": [
    "num1 > num2 or num1 > 100"
   ]
  },
  {
   "cell_type": "code",
   "execution_count": 324,
   "id": "224174f0-1542-4734-82d7-f6316ea07130",
   "metadata": {},
   "outputs": [
    {
     "data": {
      "text/plain": [
       "False"
      ]
     },
     "execution_count": 324,
     "metadata": {},
     "output_type": "execute_result"
    }
   ],
   "source": [
    "num1 < num2 or num1 > 100"
   ]
  },
  {
   "cell_type": "code",
   "execution_count": 326,
   "id": "4b623b5c-2d96-4ec0-86d8-900ebf380df2",
   "metadata": {},
   "outputs": [],
   "source": [
    "# membership selection => in"
   ]
  },
  {
   "cell_type": "code",
   "execution_count": 328,
   "id": "ce5d431b-119a-4446-8f1a-5c7d32f40850",
   "metadata": {},
   "outputs": [],
   "source": [
    "name = \"Arvind\""
   ]
  },
  {
   "cell_type": "code",
   "execution_count": 330,
   "id": "5a34eaa4-9c37-47fc-8941-a5b2b88e98c6",
   "metadata": {},
   "outputs": [
    {
     "data": {
      "text/plain": [
       "False"
      ]
     },
     "execution_count": 330,
     "metadata": {},
     "output_type": "execute_result"
    }
   ],
   "source": [
    "'a' in name"
   ]
  },
  {
   "cell_type": "code",
   "execution_count": 332,
   "id": "12b877b9-9aea-469a-a9d7-2e2e0530ef3b",
   "metadata": {},
   "outputs": [
    {
     "data": {
      "text/plain": [
       "True"
      ]
     },
     "execution_count": 332,
     "metadata": {},
     "output_type": "execute_result"
    }
   ],
   "source": [
    "\"A\" in name"
   ]
  },
  {
   "cell_type": "code",
   "execution_count": 334,
   "id": "07dd8fb8-256b-4cdd-96f1-ddb7b0205f01",
   "metadata": {},
   "outputs": [
    {
     "data": {
      "text/plain": [
       "True"
      ]
     },
     "execution_count": 334,
     "metadata": {},
     "output_type": "execute_result"
    }
   ],
   "source": [
    "'a' not in name"
   ]
  },
  {
   "cell_type": "code",
   "execution_count": 336,
   "id": "220c8952-9e05-4f97-a687-da7cc4538779",
   "metadata": {},
   "outputs": [],
   "source": [
    "# type casting -> changing the datatype"
   ]
  },
  {
   "cell_type": "code",
   "execution_count": 344,
   "id": "e2c3966c-efc1-4032-8093-5f95e822f611",
   "metadata": {},
   "outputs": [],
   "source": [
    "name = \"Aditya\"\n",
    "marks = 50\n",
    "num = \"1234\""
   ]
  },
  {
   "cell_type": "code",
   "execution_count": 346,
   "id": "e1ce8959-9ef4-449d-ad8a-881b3278db25",
   "metadata": {},
   "outputs": [
    {
     "data": {
      "text/plain": [
       "'50'"
      ]
     },
     "execution_count": 346,
     "metadata": {},
     "output_type": "execute_result"
    }
   ],
   "source": [
    "str(marks)"
   ]
  },
  {
   "cell_type": "code",
   "execution_count": 348,
   "id": "930c3d0f-983b-4d9f-af6f-0ff7e743e9a7",
   "metadata": {},
   "outputs": [
    {
     "ename": "ValueError",
     "evalue": "invalid literal for int() with base 10: 'Aditya'",
     "output_type": "error",
     "traceback": [
      "\u001b[1;31m---------------------------------------------------------------------------\u001b[0m",
      "\u001b[1;31mValueError\u001b[0m                                Traceback (most recent call last)",
      "Cell \u001b[1;32mIn[348], line 1\u001b[0m\n\u001b[1;32m----> 1\u001b[0m \u001b[38;5;28;43mint\u001b[39;49m\u001b[43m(\u001b[49m\u001b[43mname\u001b[49m\u001b[43m)\u001b[49m\n",
      "\u001b[1;31mValueError\u001b[0m: invalid literal for int() with base 10: 'Aditya'"
     ]
    }
   ],
   "source": [
    "int(name)"
   ]
  },
  {
   "cell_type": "code",
   "execution_count": 350,
   "id": "ff5c94fe-160d-4b94-ad9a-ec31bbf6b238",
   "metadata": {},
   "outputs": [
    {
     "data": {
      "text/plain": [
       "1234"
      ]
     },
     "execution_count": 350,
     "metadata": {},
     "output_type": "execute_result"
    }
   ],
   "source": [
    "int(num)"
   ]
  },
  {
   "cell_type": "code",
   "execution_count": 352,
   "id": "d76c3b0d-7402-4318-a5a2-f51d8957f3ee",
   "metadata": {},
   "outputs": [],
   "source": [
    "name = \"neo\"\n",
    "code = 231"
   ]
  },
  {
   "cell_type": "code",
   "execution_count": 354,
   "id": "7c2014d4-b566-46ad-992c-0eace5d3d95e",
   "metadata": {},
   "outputs": [],
   "source": [
    "# my password is neo231"
   ]
  },
  {
   "cell_type": "code",
   "execution_count": 356,
   "id": "791b1f29-731e-4dea-b53f-0ef893a627c0",
   "metadata": {},
   "outputs": [
    {
     "name": "stdout",
     "output_type": "stream",
     "text": [
      "my password is neo231\n"
     ]
    }
   ],
   "source": [
    "print(\"my password is\", name + str(code))"
   ]
  },
  {
   "cell_type": "code",
   "execution_count": 358,
   "id": "13f381c0-9cff-42df-922c-7bec906130a5",
   "metadata": {},
   "outputs": [
    {
     "name": "stdout",
     "output_type": "stream",
     "text": [
      "my password is neo231\n"
     ]
    }
   ],
   "source": [
    "res = name + str(code)\n",
    "print(\"my password is\", res)"
   ]
  },
  {
   "cell_type": "code",
   "execution_count": 360,
   "id": "09226329-55b3-4a26-9e0e-deee4de47fe3",
   "metadata": {},
   "outputs": [],
   "source": [
    "# user input"
   ]
  },
  {
   "cell_type": "code",
   "execution_count": 368,
   "id": "9d17854f-e237-41d1-8c9c-2e82983cc746",
   "metadata": {},
   "outputs": [
    {
     "name": "stdin",
     "output_type": "stream",
     "text": [
      "Enter the 1st number  300\n",
      "Enter the 2nd numbers  230\n"
     ]
    },
    {
     "name": "stdout",
     "output_type": "stream",
     "text": [
      "530\n"
     ]
    }
   ],
   "source": [
    "num1 = int(input(\"Enter the 1st number \"))\n",
    "num2 = int(input(\"Enter the 2nd numbers \"))\n",
    "\n",
    "res = num1 + num2\n",
    "print(res)"
   ]
  },
  {
   "cell_type": "code",
   "execution_count": null,
   "id": "b60f0b6f-0de4-4abe-9480-69043c6cf113",
   "metadata": {},
   "outputs": [],
   "source": []
  }
 ],
 "metadata": {
  "kernelspec": {
   "display_name": "Python [conda env:Orange]",
   "language": "python",
   "name": "conda-env-Orange-py"
  },
  "language_info": {
   "codemirror_mode": {
    "name": "ipython",
    "version": 3
   },
   "file_extension": ".py",
   "mimetype": "text/x-python",
   "name": "python",
   "nbconvert_exporter": "python",
   "pygments_lexer": "ipython3",
   "version": "3.11.8"
  }
 },
 "nbformat": 4,
 "nbformat_minor": 5
}
