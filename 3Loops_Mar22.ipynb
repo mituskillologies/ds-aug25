{
 "cells": [
  {
   "cell_type": "code",
   "execution_count": 3,
   "id": "14bd45c4-42dd-457a-b4f8-783d086a73f2",
   "metadata": {},
   "outputs": [
    {
     "name": "stdout",
     "output_type": "stream",
     "text": [
      "Vaibhav\n",
      "Vaibhav\n",
      "Vaibhav\n",
      "Vaibhav\n",
      "Vaibhav\n",
      "Vaibhav\n",
      "Vaibhav\n",
      "Vaibhav\n",
      "Vaibhav\n",
      "Vaibhav\n",
      "Goodbye\n"
     ]
    }
   ],
   "source": [
    "count = 0\n",
    "\n",
    "while count < 10:\n",
    "    print(\"Vaibhav\")\n",
    "    count = count + 1\n",
    "\n",
    "print(\"Goodbye\")"
   ]
  },
  {
   "cell_type": "code",
   "execution_count": 5,
   "id": "14d4caab-b797-4b77-93cb-b594494953b1",
   "metadata": {},
   "outputs": [
    {
     "name": "stdout",
     "output_type": "stream",
     "text": [
      "10\n"
     ]
    }
   ],
   "source": [
    "print(count)"
   ]
  },
  {
   "cell_type": "code",
   "execution_count": 9,
   "id": "a7a081de-7ae2-4b2b-92b4-07b19ffcd09a",
   "metadata": {},
   "outputs": [
    {
     "name": "stdout",
     "output_type": "stream",
     "text": [
      "1 2 3 4 5 6 7 8 9 10 11 12 13 14 15 16 17 18 19 20 "
     ]
    }
   ],
   "source": [
    "# print the numbers from 1 to 20 using while loop\n",
    "\n",
    "count = 1\n",
    "\n",
    "while count <= 20:\n",
    "    print(count, end = ' ')\n",
    "    count += 1"
   ]
  },
  {
   "cell_type": "code",
   "execution_count": 11,
   "id": "b71e4c77-3a63-48f6-b26f-650cc593b5f7",
   "metadata": {},
   "outputs": [
    {
     "name": "stdout",
     "output_type": "stream",
     "text": [
      "21\n"
     ]
    }
   ],
   "source": [
    "print(count)"
   ]
  },
  {
   "cell_type": "code",
   "execution_count": 13,
   "id": "77ea38b6-f669-4fa0-a285-8c803aa729bd",
   "metadata": {},
   "outputs": [
    {
     "name": "stdout",
     "output_type": "stream",
     "text": [
      "addition of 1 to 10 is 55\n"
     ]
    }
   ],
   "source": [
    "# find the addition of number from 1 to 10\n",
    "\n",
    "count = 1\n",
    "add = 0\n",
    "\n",
    "while count <= 10:\n",
    "    add = add + count\n",
    "    count += 1\n",
    "\n",
    "print(\"addition of 1 to 10 is\", add)"
   ]
  },
  {
   "cell_type": "code",
   "execution_count": 17,
   "id": "a80c5786-3555-4a69-8145-f2dad1fe21b2",
   "metadata": {},
   "outputs": [
    {
     "name": "stdout",
     "output_type": "stream",
     "text": [
      "addition of 1 to 20 is 100\n"
     ]
    }
   ],
   "source": [
    "# find the addition of all the odd numbers from 1 to 20\n",
    "\n",
    "count = 1\n",
    "add = 0\n",
    "\n",
    "while count <= 20:\n",
    "    add = add + count\n",
    "    count += 2\n",
    "\n",
    "print(\"addition of 1 to 20 is\", add)"
   ]
  },
  {
   "cell_type": "code",
   "execution_count": 27,
   "id": "b4d4448c-0a39-41e8-a925-d37ec0bbb863",
   "metadata": {},
   "outputs": [
    {
     "name": "stdin",
     "output_type": "stream",
     "text": [
      "Enter the number 10\n"
     ]
    },
    {
     "name": "stdout",
     "output_type": "stream",
     "text": [
      "factorial is 3628800\n"
     ]
    }
   ],
   "source": [
    "# factorial of any number \n",
    "\n",
    "# 5! => 120\n",
    "\n",
    "num = int(input(\"Enter the number\"))\n",
    "fact = 1\n",
    "\n",
    "while num > 1:\n",
    "    fact = fact * num\n",
    "    num -= 1\n",
    "\n",
    "print(\"factorial is\", fact)"
   ]
  },
  {
   "cell_type": "code",
   "execution_count": null,
   "id": "203b11bd-8ca1-4fbf-94b9-863945efb274",
   "metadata": {},
   "outputs": [],
   "source": [
    "# infinite loop\n",
    "\n",
    "num = 10\n",
    "\n",
    "while num > 0:\n",
    "    print(num)"
   ]
  },
  {
   "cell_type": "code",
   "execution_count": null,
   "id": "562a03e1-2f82-4749-846a-b8b5c96b62de",
   "metadata": {},
   "outputs": [],
   "source": [
    "while True:\n",
    "    print(\"Aditya\")"
   ]
  },
  {
   "cell_type": "code",
   "execution_count": 29,
   "id": "a4f501f1-2c36-468d-bd21-93c585000cc3",
   "metadata": {},
   "outputs": [],
   "source": [
    "# find the sum of the digits of a number\n",
    "# 12345 => 1 + 2 + 3 + 4 + 5 = 15\n",
    "# 12 => 1 + 2 = 3"
   ]
  },
  {
   "cell_type": "code",
   "execution_count": 35,
   "id": "3862e38b-c3d3-4608-a9df-3bc92536a02b",
   "metadata": {},
   "outputs": [],
   "source": [
    "num = 12345"
   ]
  },
  {
   "cell_type": "code",
   "execution_count": 39,
   "id": "705fa0fb-73d7-48d4-9a92-b2b912472b87",
   "metadata": {},
   "outputs": [
    {
     "data": {
      "text/plain": [
       "5"
      ]
     },
     "execution_count": 39,
     "metadata": {},
     "output_type": "execute_result"
    }
   ],
   "source": [
    "num % 10"
   ]
  },
  {
   "cell_type": "code",
   "execution_count": 41,
   "id": "b1ac0e5d-f0dc-4ef0-a123-1c33759d1887",
   "metadata": {},
   "outputs": [
    {
     "data": {
      "text/plain": [
       "1234"
      ]
     },
     "execution_count": 41,
     "metadata": {},
     "output_type": "execute_result"
    }
   ],
   "source": [
    "num // 10"
   ]
  },
  {
   "cell_type": "code",
   "execution_count": 49,
   "id": "9b47604b-4b1d-40a0-919d-35875cd342b3",
   "metadata": {},
   "outputs": [
    {
     "name": "stdin",
     "output_type": "stream",
     "text": [
      "Enter the number 12345\n"
     ]
    },
    {
     "name": "stdout",
     "output_type": "stream",
     "text": [
      "addition of digits 15\n"
     ]
    }
   ],
   "source": [
    "num = int(input(\"Enter the number\"))\n",
    "add = 0\n",
    "\n",
    "while num > 0:\n",
    "    rem = num % 10\n",
    "    add = add + rem\n",
    "    num = num // 10\n",
    "\n",
    "print(\"addition of digits\", add)"
   ]
  },
  {
   "cell_type": "markdown",
   "id": "51ecbadd-6ff5-4322-82df-abe62002c4ee",
   "metadata": {},
   "source": [
    "## For loop"
   ]
  },
  {
   "cell_type": "code",
   "execution_count": 52,
   "id": "a7e2629c-ed73-470e-9eff-2ee605e94d14",
   "metadata": {},
   "outputs": [
    {
     "name": "stdout",
     "output_type": "stream",
     "text": [
      "20\n",
      "45\n",
      "10\n",
      "50\n",
      "11\n"
     ]
    }
   ],
   "source": [
    "for n in 20, 45, 10, 50, 11:\n",
    "    print(n)"
   ]
  },
  {
   "cell_type": "code",
   "execution_count": 54,
   "id": "2c029fc5-c125-4afc-a03d-ebee0fb3ceeb",
   "metadata": {},
   "outputs": [
    {
     "name": "stdout",
     "output_type": "stream",
     "text": [
      "10.0\n",
      "22.5\n",
      "5.0\n",
      "25.0\n",
      "5.5\n"
     ]
    }
   ],
   "source": [
    "for n in 20, 45, 10, 50, 11:\n",
    "    print(n/2)"
   ]
  },
  {
   "cell_type": "code",
   "execution_count": 56,
   "id": "91fe5423-a910-48c0-86b8-a0bf8d71f368",
   "metadata": {},
   "outputs": [
    {
     "name": "stdout",
     "output_type": "stream",
     "text": [
      "Aditya\n",
      "Aditya\n",
      "Aditya\n",
      "Aditya\n",
      "Aditya\n"
     ]
    }
   ],
   "source": [
    "for n in 20, 45, 10, 50, 11:\n",
    "    print(\"Aditya\")"
   ]
  },
  {
   "cell_type": "code",
   "execution_count": 58,
   "id": "566b4e61-81a2-40b5-a03b-ede79e13b49c",
   "metadata": {},
   "outputs": [
    {
     "name": "stdout",
     "output_type": "stream",
     "text": [
      "20\n",
      "45\n",
      "10\n",
      "50\n",
      "11\n",
      "True\n"
     ]
    }
   ],
   "source": [
    "for n in 20, 45, 10, 50, 11, True:\n",
    "    print(n)"
   ]
  },
  {
   "cell_type": "code",
   "execution_count": 60,
   "id": "43ac6670-54d3-4db6-87b8-29514c0647b0",
   "metadata": {},
   "outputs": [],
   "source": [
    "# range function"
   ]
  },
  {
   "cell_type": "code",
   "execution_count": 62,
   "id": "2a14a35e-7648-4fda-8f95-11eebe0da859",
   "metadata": {},
   "outputs": [],
   "source": [
    "# range(start, end, step)"
   ]
  },
  {
   "cell_type": "code",
   "execution_count": 66,
   "id": "0f3c3897-e638-4bac-b312-68422ec4f837",
   "metadata": {},
   "outputs": [
    {
     "data": {
      "text/plain": [
       "[0, 1, 2, 3, 4, 5, 6, 7, 8, 9]"
      ]
     },
     "execution_count": 66,
     "metadata": {},
     "output_type": "execute_result"
    }
   ],
   "source": [
    "list(range(10))"
   ]
  },
  {
   "cell_type": "code",
   "execution_count": 68,
   "id": "aff46b7d-ecaa-44a4-8291-69837ae52664",
   "metadata": {},
   "outputs": [
    {
     "data": {
      "text/plain": [
       "[5, 6, 7, 8, 9, 10, 11, 12, 13, 14, 15, 16, 17, 18, 19, 20]"
      ]
     },
     "execution_count": 68,
     "metadata": {},
     "output_type": "execute_result"
    }
   ],
   "source": [
    "list(range(5, 21))"
   ]
  },
  {
   "cell_type": "code",
   "execution_count": 70,
   "id": "656def08-7a8c-4d18-af07-fa62819ed87f",
   "metadata": {},
   "outputs": [
    {
     "data": {
      "text/plain": [
       "[5, 7, 9, 11, 13, 15, 17, 19]"
      ]
     },
     "execution_count": 70,
     "metadata": {},
     "output_type": "execute_result"
    }
   ],
   "source": [
    "list(range(5, 21, 2))"
   ]
  },
  {
   "cell_type": "code",
   "execution_count": 74,
   "id": "629d5b4a-13c7-4e2a-969c-d99c8df967fb",
   "metadata": {},
   "outputs": [
    {
     "name": "stdout",
     "output_type": "stream",
     "text": [
      "1 2 3 4 5 6 7 8 9 10 11 12 13 14 15 16 17 18 19 20 "
     ]
    }
   ],
   "source": [
    "# print 1 to 20 numbers\n",
    "\n",
    "for i in range(1, 21):\n",
    "    print(i, end = ' ')"
   ]
  },
  {
   "cell_type": "code",
   "execution_count": 76,
   "id": "ad698908-49ee-43dd-b169-85a080233aad",
   "metadata": {},
   "outputs": [
    {
     "name": "stdout",
     "output_type": "stream",
     "text": [
      "Aditya Aditya Aditya Aditya Aditya Aditya Aditya Aditya Aditya Aditya Aditya Aditya Aditya Aditya Aditya Aditya Aditya Aditya Aditya Aditya "
     ]
    }
   ],
   "source": [
    "for i in range(1, 21):\n",
    "    print(\"Aditya\", end = ' ')"
   ]
  },
  {
   "cell_type": "code",
   "execution_count": 78,
   "id": "eb2ffd6b-ab8d-43f5-85bf-0cb9906cc094",
   "metadata": {},
   "outputs": [
    {
     "name": "stdout",
     "output_type": "stream",
     "text": [
      "1 4 9 16 25 36 49 64 81 100 "
     ]
    }
   ],
   "source": [
    "# print square of numbers from 1 to 10\n",
    "\n",
    "for i in range(1, 11):\n",
    "    print(i ** 2, end = ' ')"
   ]
  },
  {
   "cell_type": "code",
   "execution_count": 84,
   "id": "36e3ba98-032c-4f40-843a-4f5f077483ac",
   "metadata": {},
   "outputs": [
    {
     "name": "stdout",
     "output_type": "stream",
     "text": [
      "Addition is  55\n"
     ]
    }
   ],
   "source": [
    "# find the addtion of numbers from 1 to 10\n",
    "\n",
    "add = 0\n",
    "for i in range(1, 11):\n",
    "    add = add + i\n",
    "\n",
    "print(\"Addition is \", add)\n"
   ]
  },
  {
   "cell_type": "code",
   "execution_count": 86,
   "id": "34a4fb97-15d3-47a8-9cbb-c332e93e2850",
   "metadata": {},
   "outputs": [
    {
     "name": "stdout",
     "output_type": "stream",
     "text": [
      "Addition is  100\n"
     ]
    }
   ],
   "source": [
    "# find addition of odd number from 1 to 20\n",
    "add = 0\n",
    "for i in range(1, 21, 2):\n",
    "    add = add + i\n",
    "\n",
    "print(\"Addition is \", add)"
   ]
  },
  {
   "cell_type": "code",
   "execution_count": 90,
   "id": "a6791b7d-f560-4dee-8a3a-d775c22eedaf",
   "metadata": {},
   "outputs": [
    {
     "name": "stdout",
     "output_type": "stream",
     "text": [
      "NNN\n",
      "iii\n",
      "kkk\n",
      "hhh\n",
      "iii\n",
      "lll\n"
     ]
    }
   ],
   "source": [
    "name = \"Nikhil\"\n",
    "\n",
    "for i in name:\n",
    "    print(i * 3)"
   ]
  },
  {
   "cell_type": "markdown",
   "id": "8d99fc52-73bb-4b88-b10b-084f6a86cb0d",
   "metadata": {},
   "source": [
    "#### Else keyword"
   ]
  },
  {
   "cell_type": "code",
   "execution_count": 93,
   "id": "bd576fc0-edda-4dbc-a963-2a34eab9b574",
   "metadata": {},
   "outputs": [
    {
     "name": "stdout",
     "output_type": "stream",
     "text": [
      "10 20 30 40 45 loop ended\n"
     ]
    }
   ],
   "source": [
    "num = [10, 20, 30, 40, 45]\n",
    "\n",
    "for i in num:\n",
    "    print(i, end = ' ')\n",
    "else:\n",
    "    print(\"loop ended\")"
   ]
  },
  {
   "cell_type": "code",
   "execution_count": 103,
   "id": "691192ae-372a-49ab-b3f2-04efd815bc24",
   "metadata": {},
   "outputs": [
    {
     "name": "stdin",
     "output_type": "stream",
     "text": [
      "Enter the number  5\n"
     ]
    },
    {
     "name": "stdout",
     "output_type": "stream",
     "text": [
      "120\n"
     ]
    }
   ],
   "source": [
    "# find the factorial of a number using for loop\n",
    "\n",
    "num = int(input(\"Enter the number \"))\n",
    "fact = 1\n",
    "for i in range(1, num + 1):\n",
    "    fact = fact * i\n",
    "\n",
    "print(fact)"
   ]
  },
  {
   "cell_type": "markdown",
   "id": "9c2d018d-9dda-42da-88f3-5046f4bab043",
   "metadata": {},
   "source": [
    "### Loop control statement"
   ]
  },
  {
   "cell_type": "code",
   "execution_count": 106,
   "id": "8412fb70-98e4-4e4a-9dd6-3a7484d29c14",
   "metadata": {},
   "outputs": [
    {
     "name": "stdout",
     "output_type": "stream",
     "text": [
      "1\n",
      "2\n",
      "3\n",
      "4\n",
      "5\n"
     ]
    }
   ],
   "source": [
    "for i in range(1,6):\n",
    "    print(i)"
   ]
  },
  {
   "cell_type": "code",
   "execution_count": 108,
   "id": "b1d80235-2636-4011-addb-4507299424d6",
   "metadata": {},
   "outputs": [
    {
     "name": "stdout",
     "output_type": "stream",
     "text": [
      "1\n",
      "2\n"
     ]
    }
   ],
   "source": [
    "# break\n",
    "\n",
    "for i in range(1,6):\n",
    "    if i == 3:\n",
    "        break\n",
    "    print(i)"
   ]
  },
  {
   "cell_type": "code",
   "execution_count": 110,
   "id": "6c490bec-edf9-4c62-8abd-99c0730d0163",
   "metadata": {},
   "outputs": [
    {
     "name": "stdout",
     "output_type": "stream",
     "text": [
      "1\n",
      "2\n",
      "3\n"
     ]
    }
   ],
   "source": [
    "for i in range(1,6):\n",
    "    print(i)\n",
    "    if i == 3:\n",
    "        break"
   ]
  },
  {
   "cell_type": "code",
   "execution_count": 116,
   "id": "ba1d7b44-1010-4879-b50d-00d2fa0c7977",
   "metadata": {},
   "outputs": [
    {
     "name": "stdout",
     "output_type": "stream",
     "text": [
      "1\n",
      "2\n",
      "3\n"
     ]
    }
   ],
   "source": [
    "# in while\n",
    "count = 1\n",
    "\n",
    "while count <= 5:\n",
    "    print(count)\n",
    "    if count == 3:\n",
    "        break\n",
    "    count += 1"
   ]
  },
  {
   "cell_type": "code",
   "execution_count": 118,
   "id": "4f9dcfba-6104-4b7a-8021-86c2d7e25993",
   "metadata": {},
   "outputs": [],
   "source": [
    "# continue"
   ]
  },
  {
   "cell_type": "code",
   "execution_count": 120,
   "id": "ab1d5224-1e8b-40ae-b2d7-64973113b6e1",
   "metadata": {},
   "outputs": [
    {
     "name": "stdout",
     "output_type": "stream",
     "text": [
      "1\n",
      "2\n",
      "4\n",
      "5\n"
     ]
    }
   ],
   "source": [
    "for i in range(1,6):\n",
    "    if i == 3:\n",
    "        continue\n",
    "    print(i)"
   ]
  },
  {
   "cell_type": "code",
   "execution_count": 122,
   "id": "de0d0c7e-883f-4d21-ba93-824cf5296c79",
   "metadata": {},
   "outputs": [
    {
     "name": "stdout",
     "output_type": "stream",
     "text": [
      "1\n",
      "2\n",
      "3\n",
      "4\n",
      "5\n"
     ]
    }
   ],
   "source": [
    "for i in range(1,6):\n",
    "    print(i)\n",
    "    if i == 3:\n",
    "        continue    "
   ]
  },
  {
   "cell_type": "code",
   "execution_count": 124,
   "id": "850a8b7c-faa2-457b-afb2-f84b73e208e2",
   "metadata": {},
   "outputs": [],
   "source": [
    "# pass"
   ]
  },
  {
   "cell_type": "code",
   "execution_count": 128,
   "id": "aa9b95ff-4ff3-4b4c-a135-ec13ce04fbc7",
   "metadata": {},
   "outputs": [],
   "source": [
    "num = 3\n",
    "\n",
    "if num > 0:\n",
    "    pass"
   ]
  },
  {
   "cell_type": "code",
   "execution_count": null,
   "id": "1bb0ee6c-4239-40c2-bda2-90b4a5631972",
   "metadata": {},
   "outputs": [],
   "source": []
  }
 ],
 "metadata": {
  "kernelspec": {
   "display_name": "Python [conda env:Orange]",
   "language": "python",
   "name": "conda-env-Orange-py"
  },
  "language_info": {
   "codemirror_mode": {
    "name": "ipython",
    "version": 3
   },
   "file_extension": ".py",
   "mimetype": "text/x-python",
   "name": "python",
   "nbconvert_exporter": "python",
   "pygments_lexer": "ipython3",
   "version": "3.11.8"
  }
 },
 "nbformat": 4,
 "nbformat_minor": 5
}
